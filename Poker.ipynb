{
 "metadata": {
  "name": "",
  "signature": "sha256:7599e11eac7bc06aaea08dbe135772f404c70873b1636c9ee4f0166da5ea6f6d"
 },
 "nbformat": 3,
 "nbformat_minor": 0,
 "worksheets": [
  {
   "cells": [
    {
     "cell_type": "markdown",
     "metadata": {},
     "source": [
      "##### IMPORTANT: #####\n",
      "Launch notebook with ipython notebook --matplotlib=inline  \n",
      "numba 0.11.1 is compulsary - later versions are significantly different  "
     ]
    },
    {
     "cell_type": "markdown",
     "metadata": {},
     "source": [
      "#### Abstract: ####\n",
      "\n",
      "This post is a personal exploration of the Texas Hold'em Poker game.\n",
      "It is based on [SpecialK](http://specialk-coding.blogspot.fr/2010/04/texas-holdem-7-card-evaluator_23.html)'s very elegant, a bit lucky (see why below), and extremely efficient hand evaluator algorithm.\n",
      "I am using the IPython notebook as an experiment, and all the code is available in this [github repo](tbd)."
     ]
    },
    {
     "cell_type": "markdown",
     "metadata": {},
     "source": [
      "#### Algorithm ####\n",
      "Here is a brief description of the algorithm.\n",
      "\n",
      "But before I get into the details, I want to show the image it evoked in my mind when I first read it.\n",
      "\n",
      "![img wwp](img/roadrunner.jpeg)\n",
      "\n",
      "\n",
      "The objective is to evaluate the rank of a full 7 card poker hand: 2 card in the hand, 5 on the board.\n",
      "Each card has a face, from 0 to 12 (from 2 to Ace), and a suit, from 0 to 3 (spades, hearts, diamonds, clubs). Each face and suit is associated to 2 integers, the first one will be used if the hand is not a flush (card face key), the second if the hand is a flush (card flush key). Each suit is associated to an integer (suit key).\n",
      "\n",
      "Two sets of keys are created\n",
      "    for a five card hand\n",
      "    for a seven card hand\n",
      "\n",
      "For a five card hand:\n",
      "    The suit keys are such that any 2 sums of different 7 suit keys (corresponding to the 7 cards of the evaluated hand) are different.\n",
      "    The face keys are such that any 2 sums of 5 face keys, each present at most 4 times in the sum, are different.\n",
      "    The flush keys are such that any 2 sums of 5 flush keys, each present at most once in the sum, are different.\n",
      "\n",
      "For a seven card hand:\n",
      "    The same suit keys as determined for five card hands are used.\n",
      "    The face keys are such that any 2 sums of 7 face keys, each present at most 4 times in the sum, are different.\n",
      "    The flush keys are such that any 2 sums of 5 to 7 flush keys, each present at most once in the sum, are different.\n",
      "\n",
      "ough so there is no need to explore further.\n",
      "\n",
      "For suit keys, an exhaustive search is feasible. The best result is [0, 1, 29, 37] for [spades, hearts, diamonds, clubs].\n",
      "The flush keys and face keys are determined by brute force, through a lexicographic search: Solve for n keys, then start from this solution to try and determine the solution for n+1 keys, all the way up to 13.\n",
      "It takes less than a few seconds to find valid keys in most cases, but several hours to find valid face keys for seven card hands. The keys found by this method are small enough (see below) so there is no need to dig further. \n",
      "\n",
      "\n",
      "The properties of the suit/face/flush keys are such that a 5 (resp. 7) card hand can be uniquely associated to a set of 2 keys, (i) the sum of the suit keys, (ii-1) the sum of the face keys if the hand is not a flush or straight flush, or (ii-2) the sum of the flush keys if the hand is a flush or straight flush.\n",
      "\n",
      "Next step is to construct lookup tables for five hand hand cards:\n",
      "    table of hand ranks (except flush and straight flush) indexed by sum of face keys.\n",
      "    table of hand ranks (exclusively flush and straight flush) indexed by sum of flush keys.\n",
      "\n",
      "and for seven hand cards:\n",
      "    table of flush suit indexed by sum of suit keys.\n",
      "    table of hand ranks (except flush and straight flush) indexed by sum of face keys.\n",
      "    table of hand ranks (exclusively flush and straight flush) indexed by sum of flush keys.\n",
      "\n",
      "The five hand card tables are constructed by going through all possible 5 card hands.\n",
      "\n",
      "Based on these precalculated tables, here is how the rank of a five card hand is determined.\n",
      "Add up all 5 suit keys. This sum, uniquely associated to this hand, enables to determine whether the hand is a flush or not.\n",
      "If it is not a flush, add up all 5 face keys. By construction, the sum of the 5 face keys is uniquely associated to this hand. Look up the sum of the face keys in the face key table and read the hand rank.\n",
      "If it is a flush, add up all 5 flush keys. By construction, the sum of the flush keys is uniquely associated to this hand. Look up the sum of the flush keys in the flush key table and read the hand rank.\n",
      "\n",
      "The seven hand card tables are constructed by going through all possible 7 card hands, and evaluating each as the best among the 21 candidate 5 card hands, using the five card hand evaluator thus created.\n",
      "\n",
      "Based on these precalculated tables, here is how the rank of a seven card hand is determined.\n",
      "Add up all 7 suit keys. This sum, uniquely associated to this hand, enables to determine whether the hand is a flush or not.\n",
      "If it is not a flush, add up all 7 face keys. By construction, the sum of the 7 face keys is uniquely associated to this hand. Look up the sum of the face keys in the face key table and read the hand rank.\n",
      "If it is a flush, lookup the flush suit, then add up all flush keys (5, 6, or 7 depending of how many cards are the same suit). By construction, the sum of the flush keys is uniquely associated to this hand. Look up the sum of the flush keys in the flush key table and read the hand rank.\n",
      "\n",
      "After the construction phase, only the seven card hand evaluator will be used. \n",
      "\n",
      "Let us now examine the keys.  \n",
      "2^8 < 7 x the largest suit key < 2^9  \n",
      "2^22 < 4 x the largest face key + 3 x the second largest face key < 2^23  \n",
      "(The flush keys are significantly smaller than the face key, which is unsurprising given the much stronger constraint applied to the face keys)  \n",
      "So it is possible to encode and process a seven card hand within 32 bits i.e. a machine integer.  \n",
      "There is the magic and the unbelievable luck of this algorithm, I would even say the divine touch !\n",
      "\n",
      "\n",
      "![img michel ange](img/220px-Hands_of_God_and_Adam.jpg)\n",
      "\n",
      "\n",
      "Practically, the information for each card is encoded as follows:\n",
      "    the card face key contains the suit key (9 less significant bits) and the face key (24 most significant bits)\n",
      "    the card flush key is the flush key\n",
      "    \n",
      "Based on this convention, we can clarify further how the seven card hand evaluator works:\n",
      "(1) sum the 7 card keys\n",
      "(2) extract the sum of the suit keys using a bit mask/shift\n",
      "(3) if the hand is not a flush, extract sum of the face keys using a bit mask/shift\n",
      "    then lookup the hand rank\n",
      "(4) if the hand is a flush, determine which card participate in the flush, and add the card flush key of all participants\n",
      "    then lookup the hand rank\n",
      "\n",
      "\n",
      "The algo is very efficient:\n",
      "If the hand is not a flush (97.11% probability) the method determines the hand rank in 6 additions, 2 bit mask/shift, and 2 table lookups.\n",
      "If the hand is a flush (2.88% probability), add 7 tests and 7 additions.\n",
      "All operations on 32 bit integers (NB: unsigned for the hand key to negative sum).\n",
      "\n",
      "\n",
      "The flip side of this speed is that the algo needs a large table, essentially empty, in memory: 0.63% of the face rank table is non zero. But is can be store efficiently as a sparse array.\n"
     ]
    },
    {
     "cell_type": "markdown",
     "metadata": {},
     "source": [
      "Below I compute and display the main results.  \n",
      "Read the code to delve into the details"
     ]
    },
    {
     "cell_type": "code",
     "collapsed": false,
     "input": [
      "import os\n",
      "import numpy as np\n",
      "import pandas as pd\n",
      "import matplotlib.pylab as pl\n",
      "import itertools as it\n",
      "import cPickle\n",
      "from jinja2 import Environment\n",
      "from IPython.display import HTML, display, Math\n",
      "from timeit import default_timer as timer\n",
      "\n",
      "import EvalKeys as keys\n",
      "import EvalFive, EvalSeven, EvalGenerateHands, EvalAnalysis\n",
      "\n",
      "np.set_printoptions(linewidth=250)\n",
      "np.set_printoptions(threshold=100)\n",
      "np.set_printoptions(edgeitems=5)\n",
      "np.set_printoptions(suppress=True)\n",
      "\n",
      "pd.set_option('display.height', 100)\n",
      "pd.set_option('display.max_rows', 300)\n",
      "pd.set_option('display.max_columns', 200)\n",
      "pd.set_option('display.width', 500)\n",
      "# pd.describe_option('display')\n"
     ],
     "language": "python",
     "metadata": {},
     "outputs": [
      {
       "output_type": "stream",
       "stream": "stdout",
       "text": [
        "\n",
        "---------------EvalFive Tables loaded from disk\n",
        "sparse_flush_rank_five loaded from file Tables/sparse_flush_rank_five.csv"
       ]
      },
      {
       "output_type": "stream",
       "stream": "stdout",
       "text": [
        "\n",
        "sparse_face_rank_five loaded from file Tables/sparse_face_rank_five.csv\n",
        "hand_faces loaded from file Tables/hand_faces.txt\n",
        "hand_type loaded from file Tables/hand_type.txt\n"
       ]
      },
      {
       "output_type": "stream",
       "stream": "stdout",
       "text": [
        "\n",
        "--------------- EvalSeven.load_tables\n",
        "sparse_flush_rank_seven loaded from file Tables/sparse_flush_rank_seven.csv"
       ]
      },
      {
       "output_type": "stream",
       "stream": "stdout",
       "text": [
        "\n",
        "sparse_face_rank_seven loaded from file Tables/sparse_face_rank_seven.csv\n",
        "flush_suit loaded from file Tables/flush_suit.txt\n"
       ]
      }
     ],
     "prompt_number": 1
    },
    {
     "cell_type": "code",
     "collapsed": false,
     "input": [
      "keys.show_keys()"
     ],
     "language": "python",
     "metadata": {},
     "outputs": [
      {
       "output_type": "stream",
       "stream": "stdout",
       "text": [
        "\n",
        "--------------- EvalKeys\n",
        "NB_FACE = 13\n",
        "NB_SUIT = 4\n",
        "DECK_SIZE = 52\n",
        "SUIT_MASK = 511\n",
        "SUIT_BIT_SHIFT = 9\n",
        "SUIT_KEY = \n",
        "[ 0  1 29 37]\n",
        "FLUSH_KEY_FIVE = \n",
        "[   0    1    2    4    8   16   32   56  104  192  352  672 1288]\n",
        "FACE_KEY_FIVE = \n",
        "[    0     1     5    22    94   312   992  2422  5624 12522 19998 43258 79415]\n",
        "FLUSH_KEY_SEVEN = \n",
        "[   1    2    4    8   16   32   64  128  240  464  896 1728 3328]\n",
        "FACE_KEY_SEVEN = \n",
        "[      0       1       5      22      98     453    2031    8698   22854   83661  262349  636345 1479181]\n",
        "CARD_SUIT = \n",
        "[0 1 2 3 0 1 2 3 0 1 2 3 0 1 2 3 0 1 2 3 0 1 2 3 0 1 2 3 0 1 2 3 0 1 2 3 0 1 2 3 0 1 2 3 0 1 2 3 0 1 2 3]\n",
        "CARD_FACE = \n",
        "[ 0  0  0  0  1  1  1  1  2  2  2  2  3  3  3  3  4  4  4  4  5  5  5  5  6  6  6  6  7  7  7  7  8  8  8  8  9  9  9  9 10 10 10 10 11 11 11 11 12 12 12 12]\n",
        "CARD_FLUSH_KEY = \n",
        "[   1    1    1    1    2    2    2    2    4    4    4    4    8    8    8    8   16   16   16   16   32   32   32   32   64   64   64   64  128  128  128  128  240  240  240  240  464  464  464  464  896  896  896  896 1728 1728 1728 1728 3328 3328\n",
        " 3328 3328]\n",
        "CARD_FACE_KEY = \n",
        "[        0         1        29        37       512       513       541       549      2560      2561      2589      2597     11264     11265     11293     11301     50176     50177     50205     50213    231936    231937    231965    231973   1039872\n",
        "   1039873   1039901   1039909   4453376   4453377   4453405   4453413  11701248  11701249  11701277  11701285  42834432  42834433  42834461  42834469 134322688 134322689 134322717 134322725 325808640 325808641 325808669 325808677 757340672 757340673\n",
        " 757340701 757340709]\n",
        "\n",
        "For any of the 52 cards\n",
        "suit key <= 259\n",
        "flush key five <= 2608\n",
        "face key five <= 360918\n",
        "flush key seven <= 6848\n",
        "face key seven <= 7825759\n",
        "hand key <= 4006788742\n",
        "hand flush key <= 18496\n",
        "2^31-1 = 2147483647\n"
       ]
      }
     ],
     "prompt_number": 2
    },
    {
     "cell_type": "code",
     "collapsed": false,
     "input": [
      "EvalFive.compute_tables()\n",
      "EvalFive.test()"
     ],
     "language": "python",
     "metadata": {},
     "outputs": [
      {
       "output_type": "stream",
       "stream": "stdout",
       "text": [
        "\n",
        "--------------- start EvalFive.compute_tables\n",
        "start High Card\n",
        "start One Pair\n",
        "start Two Pairs\n",
        "start Three of a Kind"
       ]
      },
      {
       "output_type": "stream",
       "stream": "stdout",
       "text": [
        "\n",
        "start Low Straight\n",
        "start Usual Straight\n",
        "start Flush\n",
        "start Full House\n",
        "start Four of a Kind\n",
        "start Low Straight Flush\n",
        "start Usual Straight Flush\n",
        "compute_tables time =   0.0817 s\n",
        "--------------- end EvalFive.compute_tables\n",
        "\n",
        "--------------- start EvalFive.test\n",
        "-------- EvalFive tables\n",
        "flush_rank = \n",
        "[  15   23   27   29   30 ..., 2512 2520 2536 2560 2608]\n",
        "[7453 5863 5864 5865 5866 ..., 7136 7137 7138 7139 7461]\n",
        "nb of nonzero elements = 1287\n",
        "face_rank = \n",
        "[     1      2      3      4      5 ..., 323284 324761 330182 337658 360918]\n",
        "[7296 7140 7152 7308 7297 ..., 7448 7295 7449 7450 7451]\n",
        "nb of nonzero elements = 1287\n",
        "-------- EvalFive getFiveRank_ getSevenRank_ evaluators sample runs\n",
        "array_five_cards=\n",
        "[[21 33 24 22 39]\n",
        " [51 38 14 36 17]\n",
        " [45  8 48 34  5]\n",
        " [13 37 33 20 35]\n",
        " [31 26 50 16 49]\n",
        " [28 24 25 29  2]\n",
        " [41 13 28 25 16]\n",
        " [20 36  7 42 43]\n",
        " [38 42  8 22 44]\n",
        " [32  3 18  5 42]]\n",
        "five_cards=[21 33 24 22 39]\n",
        "array_seven_cards=[[50  6  0  5 38  7 17]\n",
        " [23 16 34 26  0 10  8]\n",
        " [14  4  0  7 20  8 47]\n",
        " [10 32 43  3 25  8 49]\n",
        " [ 1 16 49 24 43 42 33]\n",
        " [49 17  1 26 11 34 20]\n",
        " [ 5  4 18 31 34 48 22]\n",
        " [13 47  1 25 38 26 51]\n",
        " [44  2 28  1  3 18 22]\n",
        " [49 27 33 51 22  1 30]]\n",
        "\n",
        "seven_cards=[50  6  0  5 38  7 17]\n",
        "\n",
        "get_five_rank_simple(five_cards)=2459\n",
        "get_five_rank_full(array_five_cards)=[2459 3431 1171 3106 3971 4434  310 3572  761  320]\n",
        "get_five_rank_fast(array_five_cards)=[2459 3431 1171 3106 3971 4434  310 3572  761  320]\n",
        "\n",
        "get_seven_rank_simple(seven_cards)=5124\n",
        "get_seven_rank_full_inline(array_seven_cards)=[5124 1766 1625 1925 3676  887 1689 2815 5046 4000]\n",
        "get_seven_rank_fast(array_seven_cards)=[5124 1766 1625 1925 3676  887 1689 2815 5046 4000]\n",
        "--------------- end EvalFive.test\n"
       ]
      }
     ],
     "prompt_number": 3
    },
    {
     "cell_type": "code",
     "collapsed": false,
     "input": [
      "EvalSeven.compute_tables()\n",
      "EvalSeven.test()"
     ],
     "language": "python",
     "metadata": {},
     "outputs": [
      {
       "output_type": "stream",
       "stream": "stdout",
       "text": [
        "\n",
        "--------------- start EvalSeven.compute_tables\n",
        "start face_rank\n",
        "start flush_rank: 7 cards"
       ]
      },
      {
       "output_type": "stream",
       "stream": "stdout",
       "text": [
        "\n",
        "start flush_rank: 6 cards\n",
        "start flush_rank: 5 cards\n",
        "start flush_suit"
       ]
      },
      {
       "output_type": "stream",
       "stream": "stdout",
       "text": [
        "\n",
        "compute_tables time =   0.6966 s\n",
        "--------------- end EvalSeven.compute_tables\n",
        "\n",
        "--------------- start EvalSeven.test\n",
        "-------- EvalSeven tables\n",
        "flush_rank = \n",
        "[  31   47   55   59   61 ..., 6788 6792 6800 6816 6848]\n",
        "[7453 5863 5864 5865 5866 ..., 7461 7461 7461 7461 7461]\n",
        "nb of nonzero elements = 4719\n",
        "face_rank = \n",
        "[      3       4       7       8       9 ..., 7198112 7212268 7273075 7451763 7825759]\n",
        "[7296 7308 7297 7152 7309 ..., 7451 7451 7451 7451 7451]\n",
        "nb of nonzero elements = 49205"
       ]
      },
      {
       "output_type": "stream",
       "stream": "stdout",
       "text": [
        "\n",
        "flush_suit = \n",
        "[ 0  0  0 -1 -1 ..., -2 -2 -2 -2  3]\n",
        "nb of elements different from -2 = 120\n",
        "-------- EvalSeven getSevenRank_ evaluators sample runs\n",
        "array_seven_cards=\n",
        "[[21 33 24 22 39 37 47]\n",
        " [51 38 14 36 17  6 22]\n",
        " [45  8 48 34  5 21 42]\n",
        " [13 37 33 20 35 49  2]\n",
        " [31 26 50 16 49  9 27]\n",
        " [28 24 25 29  2 36 14]\n",
        " [41 13 28 25 16 31 17]\n",
        " [20 36  7 42 43  3 45]\n",
        " [38 42  8 22 44 41 25]\n",
        " [32  3 18  5 42 46 15]]\n",
        "seven_cards=[21 33 24 22 39 37 47]\n",
        "\n",
        "get_seven_rank_simple(seven_cards)=4597\n",
        "get_seven_rank_full(array_seven_cards)=[4597 3436 1266 3235 4935 4441 4420 3638 3639  730]\n",
        "get_seven_rank_fast(array_seven_cards)=[4597 3436 1266 3235 4935 4441 4420 3638 3639  730]\n",
        "-------- compare getSevenRank_ with EvalFive.get_seven_rank_ on all hands\n",
        "array_all_seven_cards time =   1.5685 s"
       ]
      },
      {
       "output_type": "stream",
       "stream": "stdout",
       "text": [
        "\n",
        "EvalSeven.get_seven_rank_fast time =   1.2891 s"
       ]
      },
      {
       "output_type": "stream",
       "stream": "stdout",
       "text": [
        "\n",
        "EvalFive.get_seven_rank_fast time =  42.9057 s"
       ]
      },
      {
       "output_type": "stream",
       "stream": "stdout",
       "text": [
        "\n",
        "result(EvalSeven.get_seven_rank_fast)==result(EvalFive.get_seven_rank_fast) ? True"
       ]
      },
      {
       "output_type": "stream",
       "stream": "stdout",
       "text": [
        "\n",
        "--------------- end EvalSeven.test\n"
       ]
      }
     ],
     "prompt_number": 4
    },
    {
     "cell_type": "markdown",
     "metadata": {},
     "source": [
      "Below is the representation of the 52 deck cards."
     ]
    },
    {
     "cell_type": "code",
     "collapsed": false,
     "input": [
      "import PIL\n",
      "card_files = [[os.path.join('Cards','Full', str(1+s+4*f)+'.png')\n",
      "                for f in range(13)]\n",
      "                for s in range(4)]\n",
      "\n",
      "jinja_template = \"\"\"\n",
      "<table style=\"border:0px solid black;\">\n",
      "{% for row in array %}\n",
      "    <tr style=\"border:0px solid black;\">\n",
      "    {% for col in row %}\n",
      "        <td style=\"background-color:white;\n",
      "                    border-collapse:collapse;\n",
      "                    text-align:center;\n",
      "                    border:0px solid black;\">\n",
      "            <img border=\"10\" src=\"files/{{ col }}\" alt=\"N/A\">\n",
      "        </td>\n",
      "    {% endfor %}\n",
      "    </tr>\n",
      "{% endfor %}\n",
      " </table>\"\"\"\n",
      "HTML_content = Environment().from_string(jinja_template).render(array=card_files)\n",
      "HTML(HTML_content)"
     ],
     "language": "python",
     "metadata": {},
     "outputs": [
      {
       "html": [
        "\n",
        "<table style=\"border:0px solid black;\">\n",
        "\n",
        "    <tr style=\"border:0px solid black;\">\n",
        "    \n",
        "        <td style=\"background-color:white;\n",
        "                    border-collapse:collapse;\n",
        "                    text-align:center;\n",
        "                    border:0px solid black;\">\n",
        "            <img border=\"10\" src=\"files/Cards/Full/1.png\" alt=\"N/A\">\n",
        "        </td>\n",
        "    \n",
        "        <td style=\"background-color:white;\n",
        "                    border-collapse:collapse;\n",
        "                    text-align:center;\n",
        "                    border:0px solid black;\">\n",
        "            <img border=\"10\" src=\"files/Cards/Full/5.png\" alt=\"N/A\">\n",
        "        </td>\n",
        "    \n",
        "        <td style=\"background-color:white;\n",
        "                    border-collapse:collapse;\n",
        "                    text-align:center;\n",
        "                    border:0px solid black;\">\n",
        "            <img border=\"10\" src=\"files/Cards/Full/9.png\" alt=\"N/A\">\n",
        "        </td>\n",
        "    \n",
        "        <td style=\"background-color:white;\n",
        "                    border-collapse:collapse;\n",
        "                    text-align:center;\n",
        "                    border:0px solid black;\">\n",
        "            <img border=\"10\" src=\"files/Cards/Full/13.png\" alt=\"N/A\">\n",
        "        </td>\n",
        "    \n",
        "        <td style=\"background-color:white;\n",
        "                    border-collapse:collapse;\n",
        "                    text-align:center;\n",
        "                    border:0px solid black;\">\n",
        "            <img border=\"10\" src=\"files/Cards/Full/17.png\" alt=\"N/A\">\n",
        "        </td>\n",
        "    \n",
        "        <td style=\"background-color:white;\n",
        "                    border-collapse:collapse;\n",
        "                    text-align:center;\n",
        "                    border:0px solid black;\">\n",
        "            <img border=\"10\" src=\"files/Cards/Full/21.png\" alt=\"N/A\">\n",
        "        </td>\n",
        "    \n",
        "        <td style=\"background-color:white;\n",
        "                    border-collapse:collapse;\n",
        "                    text-align:center;\n",
        "                    border:0px solid black;\">\n",
        "            <img border=\"10\" src=\"files/Cards/Full/25.png\" alt=\"N/A\">\n",
        "        </td>\n",
        "    \n",
        "        <td style=\"background-color:white;\n",
        "                    border-collapse:collapse;\n",
        "                    text-align:center;\n",
        "                    border:0px solid black;\">\n",
        "            <img border=\"10\" src=\"files/Cards/Full/29.png\" alt=\"N/A\">\n",
        "        </td>\n",
        "    \n",
        "        <td style=\"background-color:white;\n",
        "                    border-collapse:collapse;\n",
        "                    text-align:center;\n",
        "                    border:0px solid black;\">\n",
        "            <img border=\"10\" src=\"files/Cards/Full/33.png\" alt=\"N/A\">\n",
        "        </td>\n",
        "    \n",
        "        <td style=\"background-color:white;\n",
        "                    border-collapse:collapse;\n",
        "                    text-align:center;\n",
        "                    border:0px solid black;\">\n",
        "            <img border=\"10\" src=\"files/Cards/Full/37.png\" alt=\"N/A\">\n",
        "        </td>\n",
        "    \n",
        "        <td style=\"background-color:white;\n",
        "                    border-collapse:collapse;\n",
        "                    text-align:center;\n",
        "                    border:0px solid black;\">\n",
        "            <img border=\"10\" src=\"files/Cards/Full/41.png\" alt=\"N/A\">\n",
        "        </td>\n",
        "    \n",
        "        <td style=\"background-color:white;\n",
        "                    border-collapse:collapse;\n",
        "                    text-align:center;\n",
        "                    border:0px solid black;\">\n",
        "            <img border=\"10\" src=\"files/Cards/Full/45.png\" alt=\"N/A\">\n",
        "        </td>\n",
        "    \n",
        "        <td style=\"background-color:white;\n",
        "                    border-collapse:collapse;\n",
        "                    text-align:center;\n",
        "                    border:0px solid black;\">\n",
        "            <img border=\"10\" src=\"files/Cards/Full/49.png\" alt=\"N/A\">\n",
        "        </td>\n",
        "    \n",
        "    </tr>\n",
        "\n",
        "    <tr style=\"border:0px solid black;\">\n",
        "    \n",
        "        <td style=\"background-color:white;\n",
        "                    border-collapse:collapse;\n",
        "                    text-align:center;\n",
        "                    border:0px solid black;\">\n",
        "            <img border=\"10\" src=\"files/Cards/Full/2.png\" alt=\"N/A\">\n",
        "        </td>\n",
        "    \n",
        "        <td style=\"background-color:white;\n",
        "                    border-collapse:collapse;\n",
        "                    text-align:center;\n",
        "                    border:0px solid black;\">\n",
        "            <img border=\"10\" src=\"files/Cards/Full/6.png\" alt=\"N/A\">\n",
        "        </td>\n",
        "    \n",
        "        <td style=\"background-color:white;\n",
        "                    border-collapse:collapse;\n",
        "                    text-align:center;\n",
        "                    border:0px solid black;\">\n",
        "            <img border=\"10\" src=\"files/Cards/Full/10.png\" alt=\"N/A\">\n",
        "        </td>\n",
        "    \n",
        "        <td style=\"background-color:white;\n",
        "                    border-collapse:collapse;\n",
        "                    text-align:center;\n",
        "                    border:0px solid black;\">\n",
        "            <img border=\"10\" src=\"files/Cards/Full/14.png\" alt=\"N/A\">\n",
        "        </td>\n",
        "    \n",
        "        <td style=\"background-color:white;\n",
        "                    border-collapse:collapse;\n",
        "                    text-align:center;\n",
        "                    border:0px solid black;\">\n",
        "            <img border=\"10\" src=\"files/Cards/Full/18.png\" alt=\"N/A\">\n",
        "        </td>\n",
        "    \n",
        "        <td style=\"background-color:white;\n",
        "                    border-collapse:collapse;\n",
        "                    text-align:center;\n",
        "                    border:0px solid black;\">\n",
        "            <img border=\"10\" src=\"files/Cards/Full/22.png\" alt=\"N/A\">\n",
        "        </td>\n",
        "    \n",
        "        <td style=\"background-color:white;\n",
        "                    border-collapse:collapse;\n",
        "                    text-align:center;\n",
        "                    border:0px solid black;\">\n",
        "            <img border=\"10\" src=\"files/Cards/Full/26.png\" alt=\"N/A\">\n",
        "        </td>\n",
        "    \n",
        "        <td style=\"background-color:white;\n",
        "                    border-collapse:collapse;\n",
        "                    text-align:center;\n",
        "                    border:0px solid black;\">\n",
        "            <img border=\"10\" src=\"files/Cards/Full/30.png\" alt=\"N/A\">\n",
        "        </td>\n",
        "    \n",
        "        <td style=\"background-color:white;\n",
        "                    border-collapse:collapse;\n",
        "                    text-align:center;\n",
        "                    border:0px solid black;\">\n",
        "            <img border=\"10\" src=\"files/Cards/Full/34.png\" alt=\"N/A\">\n",
        "        </td>\n",
        "    \n",
        "        <td style=\"background-color:white;\n",
        "                    border-collapse:collapse;\n",
        "                    text-align:center;\n",
        "                    border:0px solid black;\">\n",
        "            <img border=\"10\" src=\"files/Cards/Full/38.png\" alt=\"N/A\">\n",
        "        </td>\n",
        "    \n",
        "        <td style=\"background-color:white;\n",
        "                    border-collapse:collapse;\n",
        "                    text-align:center;\n",
        "                    border:0px solid black;\">\n",
        "            <img border=\"10\" src=\"files/Cards/Full/42.png\" alt=\"N/A\">\n",
        "        </td>\n",
        "    \n",
        "        <td style=\"background-color:white;\n",
        "                    border-collapse:collapse;\n",
        "                    text-align:center;\n",
        "                    border:0px solid black;\">\n",
        "            <img border=\"10\" src=\"files/Cards/Full/46.png\" alt=\"N/A\">\n",
        "        </td>\n",
        "    \n",
        "        <td style=\"background-color:white;\n",
        "                    border-collapse:collapse;\n",
        "                    text-align:center;\n",
        "                    border:0px solid black;\">\n",
        "            <img border=\"10\" src=\"files/Cards/Full/50.png\" alt=\"N/A\">\n",
        "        </td>\n",
        "    \n",
        "    </tr>\n",
        "\n",
        "    <tr style=\"border:0px solid black;\">\n",
        "    \n",
        "        <td style=\"background-color:white;\n",
        "                    border-collapse:collapse;\n",
        "                    text-align:center;\n",
        "                    border:0px solid black;\">\n",
        "            <img border=\"10\" src=\"files/Cards/Full/3.png\" alt=\"N/A\">\n",
        "        </td>\n",
        "    \n",
        "        <td style=\"background-color:white;\n",
        "                    border-collapse:collapse;\n",
        "                    text-align:center;\n",
        "                    border:0px solid black;\">\n",
        "            <img border=\"10\" src=\"files/Cards/Full/7.png\" alt=\"N/A\">\n",
        "        </td>\n",
        "    \n",
        "        <td style=\"background-color:white;\n",
        "                    border-collapse:collapse;\n",
        "                    text-align:center;\n",
        "                    border:0px solid black;\">\n",
        "            <img border=\"10\" src=\"files/Cards/Full/11.png\" alt=\"N/A\">\n",
        "        </td>\n",
        "    \n",
        "        <td style=\"background-color:white;\n",
        "                    border-collapse:collapse;\n",
        "                    text-align:center;\n",
        "                    border:0px solid black;\">\n",
        "            <img border=\"10\" src=\"files/Cards/Full/15.png\" alt=\"N/A\">\n",
        "        </td>\n",
        "    \n",
        "        <td style=\"background-color:white;\n",
        "                    border-collapse:collapse;\n",
        "                    text-align:center;\n",
        "                    border:0px solid black;\">\n",
        "            <img border=\"10\" src=\"files/Cards/Full/19.png\" alt=\"N/A\">\n",
        "        </td>\n",
        "    \n",
        "        <td style=\"background-color:white;\n",
        "                    border-collapse:collapse;\n",
        "                    text-align:center;\n",
        "                    border:0px solid black;\">\n",
        "            <img border=\"10\" src=\"files/Cards/Full/23.png\" alt=\"N/A\">\n",
        "        </td>\n",
        "    \n",
        "        <td style=\"background-color:white;\n",
        "                    border-collapse:collapse;\n",
        "                    text-align:center;\n",
        "                    border:0px solid black;\">\n",
        "            <img border=\"10\" src=\"files/Cards/Full/27.png\" alt=\"N/A\">\n",
        "        </td>\n",
        "    \n",
        "        <td style=\"background-color:white;\n",
        "                    border-collapse:collapse;\n",
        "                    text-align:center;\n",
        "                    border:0px solid black;\">\n",
        "            <img border=\"10\" src=\"files/Cards/Full/31.png\" alt=\"N/A\">\n",
        "        </td>\n",
        "    \n",
        "        <td style=\"background-color:white;\n",
        "                    border-collapse:collapse;\n",
        "                    text-align:center;\n",
        "                    border:0px solid black;\">\n",
        "            <img border=\"10\" src=\"files/Cards/Full/35.png\" alt=\"N/A\">\n",
        "        </td>\n",
        "    \n",
        "        <td style=\"background-color:white;\n",
        "                    border-collapse:collapse;\n",
        "                    text-align:center;\n",
        "                    border:0px solid black;\">\n",
        "            <img border=\"10\" src=\"files/Cards/Full/39.png\" alt=\"N/A\">\n",
        "        </td>\n",
        "    \n",
        "        <td style=\"background-color:white;\n",
        "                    border-collapse:collapse;\n",
        "                    text-align:center;\n",
        "                    border:0px solid black;\">\n",
        "            <img border=\"10\" src=\"files/Cards/Full/43.png\" alt=\"N/A\">\n",
        "        </td>\n",
        "    \n",
        "        <td style=\"background-color:white;\n",
        "                    border-collapse:collapse;\n",
        "                    text-align:center;\n",
        "                    border:0px solid black;\">\n",
        "            <img border=\"10\" src=\"files/Cards/Full/47.png\" alt=\"N/A\">\n",
        "        </td>\n",
        "    \n",
        "        <td style=\"background-color:white;\n",
        "                    border-collapse:collapse;\n",
        "                    text-align:center;\n",
        "                    border:0px solid black;\">\n",
        "            <img border=\"10\" src=\"files/Cards/Full/51.png\" alt=\"N/A\">\n",
        "        </td>\n",
        "    \n",
        "    </tr>\n",
        "\n",
        "    <tr style=\"border:0px solid black;\">\n",
        "    \n",
        "        <td style=\"background-color:white;\n",
        "                    border-collapse:collapse;\n",
        "                    text-align:center;\n",
        "                    border:0px solid black;\">\n",
        "            <img border=\"10\" src=\"files/Cards/Full/4.png\" alt=\"N/A\">\n",
        "        </td>\n",
        "    \n",
        "        <td style=\"background-color:white;\n",
        "                    border-collapse:collapse;\n",
        "                    text-align:center;\n",
        "                    border:0px solid black;\">\n",
        "            <img border=\"10\" src=\"files/Cards/Full/8.png\" alt=\"N/A\">\n",
        "        </td>\n",
        "    \n",
        "        <td style=\"background-color:white;\n",
        "                    border-collapse:collapse;\n",
        "                    text-align:center;\n",
        "                    border:0px solid black;\">\n",
        "            <img border=\"10\" src=\"files/Cards/Full/12.png\" alt=\"N/A\">\n",
        "        </td>\n",
        "    \n",
        "        <td style=\"background-color:white;\n",
        "                    border-collapse:collapse;\n",
        "                    text-align:center;\n",
        "                    border:0px solid black;\">\n",
        "            <img border=\"10\" src=\"files/Cards/Full/16.png\" alt=\"N/A\">\n",
        "        </td>\n",
        "    \n",
        "        <td style=\"background-color:white;\n",
        "                    border-collapse:collapse;\n",
        "                    text-align:center;\n",
        "                    border:0px solid black;\">\n",
        "            <img border=\"10\" src=\"files/Cards/Full/20.png\" alt=\"N/A\">\n",
        "        </td>\n",
        "    \n",
        "        <td style=\"background-color:white;\n",
        "                    border-collapse:collapse;\n",
        "                    text-align:center;\n",
        "                    border:0px solid black;\">\n",
        "            <img border=\"10\" src=\"files/Cards/Full/24.png\" alt=\"N/A\">\n",
        "        </td>\n",
        "    \n",
        "        <td style=\"background-color:white;\n",
        "                    border-collapse:collapse;\n",
        "                    text-align:center;\n",
        "                    border:0px solid black;\">\n",
        "            <img border=\"10\" src=\"files/Cards/Full/28.png\" alt=\"N/A\">\n",
        "        </td>\n",
        "    \n",
        "        <td style=\"background-color:white;\n",
        "                    border-collapse:collapse;\n",
        "                    text-align:center;\n",
        "                    border:0px solid black;\">\n",
        "            <img border=\"10\" src=\"files/Cards/Full/32.png\" alt=\"N/A\">\n",
        "        </td>\n",
        "    \n",
        "        <td style=\"background-color:white;\n",
        "                    border-collapse:collapse;\n",
        "                    text-align:center;\n",
        "                    border:0px solid black;\">\n",
        "            <img border=\"10\" src=\"files/Cards/Full/36.png\" alt=\"N/A\">\n",
        "        </td>\n",
        "    \n",
        "        <td style=\"background-color:white;\n",
        "                    border-collapse:collapse;\n",
        "                    text-align:center;\n",
        "                    border:0px solid black;\">\n",
        "            <img border=\"10\" src=\"files/Cards/Full/40.png\" alt=\"N/A\">\n",
        "        </td>\n",
        "    \n",
        "        <td style=\"background-color:white;\n",
        "                    border-collapse:collapse;\n",
        "                    text-align:center;\n",
        "                    border:0px solid black;\">\n",
        "            <img border=\"10\" src=\"files/Cards/Full/44.png\" alt=\"N/A\">\n",
        "        </td>\n",
        "    \n",
        "        <td style=\"background-color:white;\n",
        "                    border-collapse:collapse;\n",
        "                    text-align:center;\n",
        "                    border:0px solid black;\">\n",
        "            <img border=\"10\" src=\"files/Cards/Full/48.png\" alt=\"N/A\">\n",
        "        </td>\n",
        "    \n",
        "        <td style=\"background-color:white;\n",
        "                    border-collapse:collapse;\n",
        "                    text-align:center;\n",
        "                    border:0px solid black;\">\n",
        "            <img border=\"10\" src=\"files/Cards/Full/52.png\" alt=\"N/A\">\n",
        "        </td>\n",
        "    \n",
        "    </tr>\n",
        "\n",
        " </table>"
       ],
       "metadata": {},
       "output_type": "pyout",
       "prompt_number": 6,
       "text": [
        "<IPython.core.display.HTML at 0x118f60450>"
       ]
      }
     ],
     "prompt_number": 6
    },
    {
     "cell_type": "markdown",
     "metadata": {},
     "source": [
      "Below are all possible five card hands stored in a dataframe."
     ]
    },
    {
     "cell_type": "code",
     "collapsed": false,
     "input": [
      "t0 = timer()\n",
      "df_hand_five = EvalAnalysis.create_df_hand_five()\n",
      "t1 = timer()\n",
      "print 'df_hand_five time = {:4.2f} s'.format(t1-t0)"
     ],
     "language": "python",
     "metadata": {},
     "outputs": [
      {
       "output_type": "stream",
       "stream": "stdout",
       "text": [
        "df_hand_five time = 0.14 s\n"
       ]
      }
     ],
     "prompt_number": 7
    },
    {
     "cell_type": "code",
     "collapsed": false,
     "input": [
      "HTML('''<style>\n",
      "    .df tbody tr:last-child { background-color: #FFAAAA; }\n",
      "    .df { font-size: 12px; }\n",
      "    </style>''' + df_hand_five.to_html(classes='df'))"
     ],
     "language": "python",
     "metadata": {},
     "outputs": [
      {
       "html": [
        "<style>\n",
        "    .df tbody tr:last-child { background-color: #FFAAAA; }\n",
        "    .df { font-size: 12px; }\n",
        "    </style><table border=\"1\" class=\"dataframe df\">\n",
        "  <thead>\n",
        "    <tr style=\"text-align: right;\">\n",
        "      <th></th>\n",
        "      <th>HandType</th>\n",
        "      <th>NbHands</th>\n",
        "      <th>MinRank</th>\n",
        "      <th>MaxRank</th>\n",
        "      <th>NbOccurence</th>\n",
        "      <th>ProbaExact</th>\n",
        "      <th>Odd</th>\n",
        "      <th>ProbaApprox</th>\n",
        "      <th>CumulativeProba</th>\n",
        "    </tr>\n",
        "  </thead>\n",
        "  <tbody>\n",
        "    <tr>\n",
        "      <th>0</th>\n",
        "      <td>  Straight Flush</td>\n",
        "      <td>   10</td>\n",
        "      <td> 7452</td>\n",
        "      <td> 7461</td>\n",
        "      <td>      40</td>\n",
        "      <td>     1/64974</td>\n",
        "      <td>    64974</td>\n",
        "      <td> 1.539077e-05</td>\n",
        "      <td> 1.539077e-05</td>\n",
        "    </tr>\n",
        "    <tr>\n",
        "      <th>1</th>\n",
        "      <td>  Four of a Kind</td>\n",
        "      <td>  156</td>\n",
        "      <td> 7296</td>\n",
        "      <td> 7451</td>\n",
        "      <td>     624</td>\n",
        "      <td>      1/4165</td>\n",
        "      <td>     4165</td>\n",
        "      <td>  0.000240096</td>\n",
        "      <td> 0.0002554868</td>\n",
        "    </tr>\n",
        "    <tr>\n",
        "      <th>2</th>\n",
        "      <td>      Full House</td>\n",
        "      <td>  156</td>\n",
        "      <td> 7140</td>\n",
        "      <td> 7295</td>\n",
        "      <td>    3744</td>\n",
        "      <td>      6/4165</td>\n",
        "      <td> 694.1667</td>\n",
        "      <td>  0.001440576</td>\n",
        "      <td>  0.001696063</td>\n",
        "    </tr>\n",
        "    <tr>\n",
        "      <th>3</th>\n",
        "      <td>           Flush</td>\n",
        "      <td> 1277</td>\n",
        "      <td> 5863</td>\n",
        "      <td> 7139</td>\n",
        "      <td>    5108</td>\n",
        "      <td> 1277/649740</td>\n",
        "      <td> 508.8019</td>\n",
        "      <td>  0.001965402</td>\n",
        "      <td>  0.003661465</td>\n",
        "    </tr>\n",
        "    <tr>\n",
        "      <th>4</th>\n",
        "      <td>        Straight</td>\n",
        "      <td>   10</td>\n",
        "      <td> 5853</td>\n",
        "      <td> 5862</td>\n",
        "      <td>   10200</td>\n",
        "      <td>      5/1274</td>\n",
        "      <td>    254.8</td>\n",
        "      <td>  0.003924647</td>\n",
        "      <td>  0.007586111</td>\n",
        "    </tr>\n",
        "    <tr>\n",
        "      <th>5</th>\n",
        "      <td> Three of a Kind</td>\n",
        "      <td>  858</td>\n",
        "      <td> 4995</td>\n",
        "      <td> 5852</td>\n",
        "      <td>   54912</td>\n",
        "      <td>     88/4165</td>\n",
        "      <td> 47.32955</td>\n",
        "      <td>   0.02112845</td>\n",
        "      <td>   0.02871456</td>\n",
        "    </tr>\n",
        "    <tr>\n",
        "      <th>6</th>\n",
        "      <td>       Two Pairs</td>\n",
        "      <td>  858</td>\n",
        "      <td> 4137</td>\n",
        "      <td> 4994</td>\n",
        "      <td>  123552</td>\n",
        "      <td>    198/4165</td>\n",
        "      <td> 21.03535</td>\n",
        "      <td>   0.04753902</td>\n",
        "      <td>   0.07625358</td>\n",
        "    </tr>\n",
        "    <tr>\n",
        "      <th>7</th>\n",
        "      <td>        One Pair</td>\n",
        "      <td> 2860</td>\n",
        "      <td> 1277</td>\n",
        "      <td> 4136</td>\n",
        "      <td> 1098240</td>\n",
        "      <td>     352/833</td>\n",
        "      <td> 2.366477</td>\n",
        "      <td>     0.422569</td>\n",
        "      <td>    0.4988226</td>\n",
        "    </tr>\n",
        "    <tr>\n",
        "      <th>8</th>\n",
        "      <td>       High Card</td>\n",
        "      <td> 1277</td>\n",
        "      <td>    0</td>\n",
        "      <td> 1276</td>\n",
        "      <td> 1302540</td>\n",
        "      <td>   1277/2548</td>\n",
        "      <td> 1.995301</td>\n",
        "      <td>    0.5011774</td>\n",
        "      <td>            1</td>\n",
        "    </tr>\n",
        "    <tr>\n",
        "      <th>9</th>\n",
        "      <td>             All</td>\n",
        "      <td> 7462</td>\n",
        "      <td>    0</td>\n",
        "      <td> 7461</td>\n",
        "      <td> 2598960</td>\n",
        "      <td>           1</td>\n",
        "      <td>        1</td>\n",
        "      <td>            1</td>\n",
        "      <td>          NaN</td>\n",
        "    </tr>\n",
        "  </tbody>\n",
        "</table>"
       ],
       "metadata": {},
       "output_type": "pyout",
       "prompt_number": 8,
       "text": [
        "<IPython.core.display.HTML at 0x114d80a10>"
       ]
      }
     ],
     "prompt_number": 8
    },
    {
     "cell_type": "markdown",
     "metadata": {},
     "source": [
      "Below are the exact formulae for the number of five card hands by type. See [wikipedia](http://en.wikipedia.org/wiki/Poker_probability) for the calculations."
     ]
    },
    {
     "cell_type": "code",
     "collapsed": false,
     "input": [
      "for k, h in enumerate(EvalAnalysis.nb_occurence_formula_hand_five):\n",
      "    print '{} : '.format(h[0])\n",
      "    display(Math(h[1]))\n",
      "    print"
     ],
     "language": "python",
     "metadata": {},
     "outputs": [
      {
       "output_type": "stream",
       "stream": "stdout",
       "text": [
        "Straight Flush : \n"
       ]
      },
      {
       "latex": [
        "$$\\binom{4}{1} \\binom{10}{1}-\\binom{4}{1}$$"
       ],
       "metadata": {},
       "output_type": "display_data",
       "text": [
        "<IPython.core.display.Math at 0x118e54b50>"
       ]
      },
      {
       "output_type": "stream",
       "stream": "stdout",
       "text": [
        "\n",
        "Four of a Kind : \n"
       ]
      },
      {
       "latex": [
        "$$\\binom{4}{1} \\binom{12}{1} \\binom{13}{1}$$"
       ],
       "metadata": {},
       "output_type": "display_data",
       "text": [
        "<IPython.core.display.Math at 0x108fd0350>"
       ]
      },
      {
       "output_type": "stream",
       "stream": "stdout",
       "text": [
        "\n",
        "Full House : \n"
       ]
      },
      {
       "latex": [
        "$$\\binom{4}{2} \\binom{4}{3} \\binom{12}{1} \\binom{13}{1}$$"
       ],
       "metadata": {},
       "output_type": "display_data",
       "text": [
        "<IPython.core.display.Math at 0x118f60090>"
       ]
      },
      {
       "output_type": "stream",
       "stream": "stdout",
       "text": [
        "\n",
        "Flush : \n"
       ]
      },
      {
       "latex": [
        "$$\\binom{4}{1} \\binom{13}{5}-\\binom{4}{1} \\binom{10}{1}$$"
       ],
       "metadata": {},
       "output_type": "display_data",
       "text": [
        "<IPython.core.display.Math at 0x108fd6e50>"
       ]
      },
      {
       "output_type": "stream",
       "stream": "stdout",
       "text": [
        "\n",
        "Straight : \n"
       ]
      },
      {
       "latex": [
        "$$\\binom{4}{1}^5 \\binom{10}{1}-\\binom{4}{1} \\binom{10}{1}$$"
       ],
       "metadata": {},
       "output_type": "display_data",
       "text": [
        "<IPython.core.display.Math at 0x118f600d0>"
       ]
      },
      {
       "output_type": "stream",
       "stream": "stdout",
       "text": [
        "\n",
        "Three of a Kind : \n"
       ]
      },
      {
       "latex": [
        "$$\\binom{4}{1}^2 \\binom{4}{3} \\binom{12}{2} \\binom{13}{1}$$"
       ],
       "metadata": {},
       "output_type": "display_data",
       "text": [
        "<IPython.core.display.Math at 0x118f60050>"
       ]
      },
      {
       "output_type": "stream",
       "stream": "stdout",
       "text": [
        "\n",
        "Two Pairs : \n"
       ]
      },
      {
       "latex": [
        "$$\\binom{4}{1} \\binom{4}{2}^2 \\binom{11}{1} \\binom{13}{2}$$"
       ],
       "metadata": {},
       "output_type": "display_data",
       "text": [
        "<IPython.core.display.Math at 0x118f60890>"
       ]
      },
      {
       "output_type": "stream",
       "stream": "stdout",
       "text": [
        "\n",
        "One Pair : \n"
       ]
      },
      {
       "latex": [
        "$$\\binom{4}{1}^3 \\binom{4}{2} \\binom{12}{3} \\binom{13}{1}$$"
       ],
       "metadata": {},
       "output_type": "display_data",
       "text": [
        "<IPython.core.display.Math at 0x118f606d0>"
       ]
      },
      {
       "output_type": "stream",
       "stream": "stdout",
       "text": [
        "\n",
        "High Card : \n"
       ]
      },
      {
       "latex": [
        "$$\\left(\\binom{4}{1}^5-4\\right) (\\binom{13}{5}-10)$$"
       ],
       "metadata": {},
       "output_type": "display_data",
       "text": [
        "<IPython.core.display.Math at 0x118f60950>"
       ]
      },
      {
       "output_type": "stream",
       "stream": "stdout",
       "text": [
        "\n",
        "All : \n"
       ]
      },
      {
       "latex": [
        "$$\\binom{52}{5}$$"
       ],
       "metadata": {},
       "output_type": "display_data",
       "text": [
        "<IPython.core.display.Math at 0x118f60510>"
       ]
      },
      {
       "output_type": "stream",
       "stream": "stdout",
       "text": [
        "\n"
       ]
      }
     ],
     "prompt_number": 9
    },
    {
     "cell_type": "markdown",
     "metadata": {},
     "source": [
      "Below are all the possible seven card hands stored in a dataframe.  \n",
      "Somewhat counterintuitively, there are less than five hand cards.  \n",
      "On closer examination, this is explained by the fact that the 2 extra cards cannot be ignored and tend to increase its value.  "
     ]
    },
    {
     "cell_type": "code",
     "collapsed": false,
     "input": [
      "t0 = timer()\n",
      "df_hand_seven = EvalAnalysis.create_df_hand_seven()\n",
      "t1 = timer()\n",
      "print 'df_hand_seven time = {:4.2f} s'.format(t1-t0)"
     ],
     "language": "python",
     "metadata": {},
     "outputs": [
      {
       "output_type": "stream",
       "stream": "stdout",
       "text": [
        "df_hand_seven time = 12.41 s\n"
       ]
      }
     ],
     "prompt_number": 10
    },
    {
     "cell_type": "code",
     "collapsed": false,
     "input": [
      "HTML('''<style>\n",
      "    .df tbody tr:last-child { background-color: #FFAAAA; }\n",
      "    .df tbody { font-size: 12px; }\n",
      "    </style>''' + df_hand_seven.to_html(classes='df'))"
     ],
     "language": "python",
     "metadata": {},
     "outputs": [
      {
       "html": [
        "<style>\n",
        "    .df tbody tr:last-child { background-color: #FFAAAA; }\n",
        "    .df tbody { font-size: 12px; }\n",
        "    </style><table border=\"1\" class=\"dataframe df\">\n",
        "  <thead>\n",
        "    <tr style=\"text-align: right;\">\n",
        "      <th></th>\n",
        "      <th>HandType</th>\n",
        "      <th>NbHands_5</th>\n",
        "      <th>NbHands_7</th>\n",
        "      <th>MinRank_5</th>\n",
        "      <th>MinRank_7</th>\n",
        "      <th>MaxRank_5</th>\n",
        "      <th>MaxRank_7</th>\n",
        "      <th>NbOccurence</th>\n",
        "      <th>ProbaExact</th>\n",
        "      <th>Odd</th>\n",
        "      <th>ProbaApprox</th>\n",
        "      <th>CumulativeProba</th>\n",
        "    </tr>\n",
        "  </thead>\n",
        "  <tbody>\n",
        "    <tr>\n",
        "      <th>0</th>\n",
        "      <td>  Straight Flush</td>\n",
        "      <td>   10</td>\n",
        "      <td>   10</td>\n",
        "      <td> 7452</td>\n",
        "      <td> 7452</td>\n",
        "      <td> 7461</td>\n",
        "      <td> 7461</td>\n",
        "      <td>     41584</td>\n",
        "      <td>       113/363545</td>\n",
        "      <td> 3217.212</td>\n",
        "      <td> 0.0003108281</td>\n",
        "      <td> 0.0003108281</td>\n",
        "    </tr>\n",
        "    <tr>\n",
        "      <th>1</th>\n",
        "      <td>  Four of a Kind</td>\n",
        "      <td>  156</td>\n",
        "      <td>  156</td>\n",
        "      <td> 7296</td>\n",
        "      <td> 7296</td>\n",
        "      <td> 7451</td>\n",
        "      <td> 7451</td>\n",
        "      <td>    224848</td>\n",
        "      <td>            1/595</td>\n",
        "      <td>      595</td>\n",
        "      <td>  0.001680672</td>\n",
        "      <td>    0.0019915</td>\n",
        "    </tr>\n",
        "    <tr>\n",
        "      <th>2</th>\n",
        "      <td>      Full House</td>\n",
        "      <td>  156</td>\n",
        "      <td>  156</td>\n",
        "      <td> 7140</td>\n",
        "      <td> 7140</td>\n",
        "      <td> 7295</td>\n",
        "      <td> 7295</td>\n",
        "      <td>   3473184</td>\n",
        "      <td>        726/27965</td>\n",
        "      <td> 38.51928</td>\n",
        "      <td>   0.02596102</td>\n",
        "      <td>   0.02795252</td>\n",
        "    </tr>\n",
        "    <tr>\n",
        "      <th>3</th>\n",
        "      <td>           Flush</td>\n",
        "      <td> 1277</td>\n",
        "      <td> 1277</td>\n",
        "      <td> 5863</td>\n",
        "      <td> 5863</td>\n",
        "      <td> 7139</td>\n",
        "      <td> 7139</td>\n",
        "      <td>   4047644</td>\n",
        "      <td> 1011911/33446140</td>\n",
        "      <td> 33.05245</td>\n",
        "      <td>   0.03025494</td>\n",
        "      <td>   0.05820746</td>\n",
        "    </tr>\n",
        "    <tr>\n",
        "      <th>4</th>\n",
        "      <td>        Straight</td>\n",
        "      <td>   10</td>\n",
        "      <td>   10</td>\n",
        "      <td> 5853</td>\n",
        "      <td> 5853</td>\n",
        "      <td> 5862</td>\n",
        "      <td> 5862</td>\n",
        "      <td>   6180020</td>\n",
        "      <td>     44143/955604</td>\n",
        "      <td> 21.64792</td>\n",
        "      <td>   0.04619382</td>\n",
        "      <td>    0.1044013</td>\n",
        "    </tr>\n",
        "    <tr>\n",
        "      <th>5</th>\n",
        "      <td> Three of a Kind</td>\n",
        "      <td>  858</td>\n",
        "      <td>  575</td>\n",
        "      <td> 4995</td>\n",
        "      <td> 5003</td>\n",
        "      <td> 5852</td>\n",
        "      <td> 5852</td>\n",
        "      <td>   6461620</td>\n",
        "      <td>     14047/290836</td>\n",
        "      <td> 20.70449</td>\n",
        "      <td>    0.0482987</td>\n",
        "      <td>       0.1527</td>\n",
        "    </tr>\n",
        "    <tr>\n",
        "      <th>6</th>\n",
        "      <td>       Two Pairs</td>\n",
        "      <td>  858</td>\n",
        "      <td>  763</td>\n",
        "      <td> 4137</td>\n",
        "      <td> 4140</td>\n",
        "      <td> 4994</td>\n",
        "      <td> 4994</td>\n",
        "      <td>  31433400</td>\n",
        "      <td>   785835/3344614</td>\n",
        "      <td> 4.256128</td>\n",
        "      <td>    0.2349554</td>\n",
        "      <td>    0.3876553</td>\n",
        "    </tr>\n",
        "    <tr>\n",
        "      <th>7</th>\n",
        "      <td>        One Pair</td>\n",
        "      <td> 2860</td>\n",
        "      <td> 1470</td>\n",
        "      <td> 1277</td>\n",
        "      <td> 1295</td>\n",
        "      <td> 4136</td>\n",
        "      <td> 4136</td>\n",
        "      <td>  58627800</td>\n",
        "      <td>       4455/10166</td>\n",
        "      <td>  2.28193</td>\n",
        "      <td>    0.4382255</td>\n",
        "      <td>    0.8258808</td>\n",
        "    </tr>\n",
        "    <tr>\n",
        "      <th>8</th>\n",
        "      <td>       High Card</td>\n",
        "      <td> 1277</td>\n",
        "      <td>  407</td>\n",
        "      <td>    0</td>\n",
        "      <td>   48</td>\n",
        "      <td> 1276</td>\n",
        "      <td> 1276</td>\n",
        "      <td>  23294460</td>\n",
        "      <td>    166389/955604</td>\n",
        "      <td> 5.743192</td>\n",
        "      <td>    0.1741192</td>\n",
        "      <td>            1</td>\n",
        "    </tr>\n",
        "    <tr>\n",
        "      <th>9</th>\n",
        "      <td>             All</td>\n",
        "      <td> 7462</td>\n",
        "      <td> 4824</td>\n",
        "      <td>    0</td>\n",
        "      <td>   48</td>\n",
        "      <td> 7461</td>\n",
        "      <td> 7461</td>\n",
        "      <td> 133784560</td>\n",
        "      <td>                1</td>\n",
        "      <td>        1</td>\n",
        "      <td>            1</td>\n",
        "      <td>          NaN</td>\n",
        "    </tr>\n",
        "  </tbody>\n",
        "</table>"
       ],
       "metadata": {},
       "output_type": "pyout",
       "prompt_number": 11,
       "text": [
        "<IPython.core.display.HTML at 0x108fd6e50>"
       ]
      }
     ],
     "prompt_number": 11
    },
    {
     "cell_type": "markdown",
     "metadata": {},
     "source": [
      "Below are the exact formulae for the number of seven hands by type. See [wikipedia](http://en.wikipedia.org/wiki/Poker_probability) for the calculations."
     ]
    },
    {
     "cell_type": "code",
     "collapsed": false,
     "input": [
      "for k, h in enumerate(EvalAnalysis.nb_occurence_formula_hand_seven):\n",
      "    print '{} : '.format(h[0])\n",
      "    display(Math(h[1]))\n",
      "    print"
     ],
     "language": "python",
     "metadata": {},
     "outputs": [
      {
       "output_type": "stream",
       "stream": "stdout",
       "text": [
        "Straight Flush : \n"
       ]
      },
      {
       "latex": [
        "$$4 \\binom{47}{2} + 36 \\binom{46}{2}$$"
       ],
       "metadata": {},
       "output_type": "display_data",
       "text": [
        "<IPython.core.display.Math at 0x118f60610>"
       ]
      },
      {
       "output_type": "stream",
       "stream": "stdout",
       "text": [
        "\n",
        "Four of a Kind : \n"
       ]
      },
      {
       "latex": [
        "$$\\binom{13}{1} \\binom{48}{3}$$"
       ],
       "metadata": {},
       "output_type": "display_data",
       "text": [
        "<IPython.core.display.Math at 0x11460e090>"
       ]
      },
      {
       "output_type": "stream",
       "stream": "stdout",
       "text": [
        "\n",
        "Full House - 1 Triple, 1 Pair, 2 Kickers : \n"
       ]
      },
      {
       "latex": [
        "$$\\binom{4}{1}^2 \\binom{4}{2} \\binom{4}{3} \\binom{11}{2} \\binom{12}{1} \\binom{13}{1}$$"
       ],
       "metadata": {},
       "output_type": "display_data",
       "text": [
        "<IPython.core.display.Math at 0x118f60250>"
       ]
      },
      {
       "output_type": "stream",
       "stream": "stdout",
       "text": [
        "\n",
        "Full House - 1 Triple, 2 Pairs : \n"
       ]
      },
      {
       "latex": [
        "$$\\binom{4}{2}^2 \\binom{4}{3} \\binom{12}{2} \\binom{13}{1}$$"
       ],
       "metadata": {},
       "output_type": "display_data",
       "text": [
        "<IPython.core.display.Math at 0x118f607d0>"
       ]
      },
      {
       "output_type": "stream",
       "stream": "stdout",
       "text": [
        "\n",
        "Full House - 2 Triples, 1 Kicker : \n"
       ]
      },
      {
       "latex": [
        "$$\\binom{4}{1} \\binom{4}{3}^2 \\binom{11}{1} \\binom{13}{2}$$"
       ],
       "metadata": {},
       "output_type": "display_data",
       "text": [
        "<IPython.core.display.Math at 0x118f60210>"
       ]
      },
      {
       "output_type": "stream",
       "stream": "stdout",
       "text": [
        "\n",
        "Flush - 7 cards same suit : \n"
       ]
      },
      {
       "latex": [
        "$$\\binom{4}{1} \\binom{13}{7}$$"
       ],
       "metadata": {},
       "output_type": "display_data",
       "text": [
        "<IPython.core.display.Math at 0x118f605d0>"
       ]
      },
      {
       "output_type": "stream",
       "stream": "stdout",
       "text": [
        "\n",
        "Flush - 6 cards same suit : \n"
       ]
      },
      {
       "latex": [
        "$$\\binom{4}{1} \\binom{13}{6} \\binom{39}{1}$$"
       ],
       "metadata": {},
       "output_type": "display_data",
       "text": [
        "<IPython.core.display.Math at 0x118f60650>"
       ]
      },
      {
       "output_type": "stream",
       "stream": "stdout",
       "text": [
        "\n",
        "Flush - 5 cards same suit : \n"
       ]
      },
      {
       "latex": [
        "$$\\binom{4}{1} \\binom{13}{5} \\binom{39}{2}$$"
       ],
       "metadata": {},
       "output_type": "display_data",
       "text": [
        "<IPython.core.display.Math at 0x118f60810>"
       ]
      },
      {
       "output_type": "stream",
       "stream": "stdout",
       "text": [
        "\n",
        "Straight - 7 distinct faces : \n"
       ]
      },
      {
       "latex": [
        "$$\\left(\\binom{4}{1}^7-\\binom{4}{1} \\left(\\binom{7}{5} \\binom{3}{1}^2+\\binom{7}{6} \\binom{3}{1}+1\\right)\\right) (9 \\binom{7}{2}+\\binom{8}{2})$$"
       ],
       "metadata": {},
       "output_type": "display_data",
       "text": [
        "<IPython.core.display.Math at 0x118f60190>"
       ]
      },
      {
       "output_type": "stream",
       "stream": "stdout",
       "text": [
        "\n",
        "Straight - 6 distinct faces : \n"
       ]
      },
      {
       "latex": [
        "$$\\binom{4}{2} \\left(\\binom{4}{1}^5-\\binom{4}{1}-\\binom{2}{1} \\binom{3}{1} \\binom{5}{4}\\right) \\binom{6}{1} (9 \\binom{7}{1}+\\binom{8}{1})$$"
       ],
       "metadata": {},
       "output_type": "display_data",
       "text": [
        "<IPython.core.display.Math at 0x118f60510>"
       ]
      },
      {
       "output_type": "stream",
       "stream": "stdout",
       "text": [
        "\n",
        "Straight - 5 distinct faces, 1 Triple : \n"
       ]
      },
      {
       "latex": [
        "$$\\left(\\binom{4}{1}^4-\\binom{3}{1}\\right) \\binom{4}{3} \\binom{5}{1} \\binom{10}{1}$$"
       ],
       "metadata": {},
       "output_type": "display_data",
       "text": [
        "<IPython.core.display.Math at 0x118f60950>"
       ]
      },
      {
       "output_type": "stream",
       "stream": "stdout",
       "text": [
        "\n",
        "Straight - 5 distinct faces, 2 Triples : \n"
       ]
      },
      {
       "latex": [
        "$$\\left(\\binom{4}{2} \\binom{4}{1}^3+\\left(\\binom{4}{1}^3-2\\right) \\binom{4}{2}+\\binom{2}{1}^2 \\left(\\binom{4}{1}^3-1\\right) \\binom{4}{2}\\right) \\binom{5}{2} \\binom{10}{1}$$"
       ],
       "metadata": {},
       "output_type": "display_data",
       "text": [
        "<IPython.core.display.Math at 0x118f606d0>"
       ]
      },
      {
       "output_type": "stream",
       "stream": "stdout",
       "text": [
        "\n",
        "Three of a Kind : \n"
       ]
      },
      {
       "latex": [
        "$$\\left(\\binom{4}{1}^4-\\binom{3}{1}\\right) \\binom{4}{3} \\binom{5}{1} (\\binom{13}{5}-10)$$"
       ],
       "metadata": {},
       "output_type": "display_data",
       "text": [
        "<IPython.core.display.Math at 0x118f60890>"
       ]
      },
      {
       "output_type": "stream",
       "stream": "stdout",
       "text": [
        "\n",
        "Two Pairs - 2 Pairs, 3 Kickers : \n"
       ]
      },
      {
       "latex": [
        "$$\\left(\\binom{4}{2} \\binom{4}{1}^3+\\left(\\binom{4}{1}^3-2\\right) \\binom{4}{2}+\\binom{2}{1}^2 \\left(\\binom{4}{1}^3-1\\right) \\binom{4}{2}\\right) \\binom{5}{2} (\\binom{13}{5}-10)$$"
       ],
       "metadata": {},
       "output_type": "display_data",
       "text": [
        "<IPython.core.display.Math at 0x118f60050>"
       ]
      },
      {
       "output_type": "stream",
       "stream": "stdout",
       "text": [
        "\n",
        "Two Pairs - 3 Pairs, 1 Kicker : \n"
       ]
      },
      {
       "latex": [
        "$$\\binom{4}{1}^2 \\binom{4}{2}^3 \\binom{13}{4}$$"
       ],
       "metadata": {},
       "output_type": "display_data",
       "text": [
        "<IPython.core.display.Math at 0x118f600d0>"
       ]
      },
      {
       "output_type": "stream",
       "stream": "stdout",
       "text": [
        "\n",
        "One Pair : \n"
       ]
      },
      {
       "latex": [
        "$$\\binom{4}{2} \\left(\\binom{4}{1}^5-2 \\binom{3}{1} \\binom{5}{4}-4\\right) \\binom{6}{1} (-8 \\binom{6}{1}-2 \\binom{7}{1}+\\binom{13}{6}-9)$$"
       ],
       "metadata": {},
       "output_type": "display_data",
       "text": [
        "<IPython.core.display.Math at 0x118f60090>"
       ]
      },
      {
       "output_type": "stream",
       "stream": "stdout",
       "text": [
        "\n",
        "High Card : \n"
       ]
      },
      {
       "latex": [
        "$$\\left(\\binom{4}{1}^7-\\binom{4}{1} \\left(\\binom{7}{5} \\binom{3}{1}^2+\\binom{7}{6} \\binom{3}{1}+1\\right)\\right) (-7 \\binom{5}{1}-2 \\binom{6}{1}-8 \\binom{6}{2}-2 \\binom{7}{2}+\\binom{13}{7}-8)$$"
       ],
       "metadata": {},
       "output_type": "display_data",
       "text": [
        "<IPython.core.display.Math at 0x118f603d0>"
       ]
      },
      {
       "output_type": "stream",
       "stream": "stdout",
       "text": [
        "\n",
        "All : \n"
       ]
      },
      {
       "latex": [
        "$$\\binom{52}{7}$$"
       ],
       "metadata": {},
       "output_type": "display_data",
       "text": [
        "<IPython.core.display.Math at 0x118f608d0>"
       ]
      },
      {
       "output_type": "stream",
       "stream": "stdout",
       "text": [
        "\n"
       ]
      }
     ],
     "prompt_number": 12
    },
    {
     "cell_type": "markdown",
     "metadata": {},
     "source": [
      "There are 169 different possible pre flop hands:\n",
      "    C(13,2) = 78 suited hands\n",
      "    C(13,2) = 78 offsuited hands, excluding pairs\n",
      "    13 pairs"
     ]
    },
    {
     "cell_type": "code",
     "collapsed": false,
     "input": [
      "face = EvalAnalysis.face_symbol\n",
      "choice = EvalAnalysis.choice\n",
      "all_preflop_hands = EvalAnalysis.all_preflop_hands\n",
      "pairs = [[{'hand' : face[i]+face[j]+choice(i, j, ['o', 's', 'o']),\n",
      "           'color' : choice(i, j, ['#8dd3c7', '#ffffb3', '#bebada'])}\n",
      "\t\t\t\tfor i in range(len(face))[::-1]]\n",
      "\t\t\t\tfor j in range(len(face))[::-1]]\n",
      "\n",
      "jinja_template = \"\"\"\n",
      "<table>\n",
      "{% for row in array %}\n",
      "    <tr>\n",
      "    {% for col in row %}\n",
      "        <td style=\"background-color:{{ col.color }};\n",
      "                    color:black;\n",
      "                    border-collapse:collapse;\n",
      "                    text-align:center;\n",
      "                    font-family:Arial;\n",
      "                    border:1px solid black;\">\n",
      "                    {{ col.hand }}</td>\n",
      "    {% endfor %}\n",
      "    </tr>\n",
      "{% endfor %}\n",
      " </table>\"\"\"\n",
      "HTML_content = Environment().from_string(jinja_template).render(array=pairs)\n",
      "\n",
      "print 'nb of preflop hands = {}'.format(len(all_preflop_hands))\n",
      "HTML(HTML_content)"
     ],
     "language": "python",
     "metadata": {},
     "outputs": [
      {
       "output_type": "stream",
       "stream": "stdout",
       "text": [
        "nb of preflop hands = 169\n"
       ]
      },
      {
       "html": [
        "\n",
        "<table>\n",
        "\n",
        "    <tr>\n",
        "    \n",
        "        <td style=\"background-color:#bebada;\n",
        "                    color:black;\n",
        "                    border-collapse:collapse;\n",
        "                    text-align:center;\n",
        "                    font-family:Arial;\n",
        "                    border:1px solid black;\">\n",
        "                    AAo</td>\n",
        "    \n",
        "        <td style=\"background-color:#ffffb3;\n",
        "                    color:black;\n",
        "                    border-collapse:collapse;\n",
        "                    text-align:center;\n",
        "                    font-family:Arial;\n",
        "                    border:1px solid black;\">\n",
        "                    KAs</td>\n",
        "    \n",
        "        <td style=\"background-color:#ffffb3;\n",
        "                    color:black;\n",
        "                    border-collapse:collapse;\n",
        "                    text-align:center;\n",
        "                    font-family:Arial;\n",
        "                    border:1px solid black;\">\n",
        "                    QAs</td>\n",
        "    \n",
        "        <td style=\"background-color:#ffffb3;\n",
        "                    color:black;\n",
        "                    border-collapse:collapse;\n",
        "                    text-align:center;\n",
        "                    font-family:Arial;\n",
        "                    border:1px solid black;\">\n",
        "                    JAs</td>\n",
        "    \n",
        "        <td style=\"background-color:#ffffb3;\n",
        "                    color:black;\n",
        "                    border-collapse:collapse;\n",
        "                    text-align:center;\n",
        "                    font-family:Arial;\n",
        "                    border:1px solid black;\">\n",
        "                    TAs</td>\n",
        "    \n",
        "        <td style=\"background-color:#ffffb3;\n",
        "                    color:black;\n",
        "                    border-collapse:collapse;\n",
        "                    text-align:center;\n",
        "                    font-family:Arial;\n",
        "                    border:1px solid black;\">\n",
        "                    9As</td>\n",
        "    \n",
        "        <td style=\"background-color:#ffffb3;\n",
        "                    color:black;\n",
        "                    border-collapse:collapse;\n",
        "                    text-align:center;\n",
        "                    font-family:Arial;\n",
        "                    border:1px solid black;\">\n",
        "                    8As</td>\n",
        "    \n",
        "        <td style=\"background-color:#ffffb3;\n",
        "                    color:black;\n",
        "                    border-collapse:collapse;\n",
        "                    text-align:center;\n",
        "                    font-family:Arial;\n",
        "                    border:1px solid black;\">\n",
        "                    7As</td>\n",
        "    \n",
        "        <td style=\"background-color:#ffffb3;\n",
        "                    color:black;\n",
        "                    border-collapse:collapse;\n",
        "                    text-align:center;\n",
        "                    font-family:Arial;\n",
        "                    border:1px solid black;\">\n",
        "                    6As</td>\n",
        "    \n",
        "        <td style=\"background-color:#ffffb3;\n",
        "                    color:black;\n",
        "                    border-collapse:collapse;\n",
        "                    text-align:center;\n",
        "                    font-family:Arial;\n",
        "                    border:1px solid black;\">\n",
        "                    5As</td>\n",
        "    \n",
        "        <td style=\"background-color:#ffffb3;\n",
        "                    color:black;\n",
        "                    border-collapse:collapse;\n",
        "                    text-align:center;\n",
        "                    font-family:Arial;\n",
        "                    border:1px solid black;\">\n",
        "                    4As</td>\n",
        "    \n",
        "        <td style=\"background-color:#ffffb3;\n",
        "                    color:black;\n",
        "                    border-collapse:collapse;\n",
        "                    text-align:center;\n",
        "                    font-family:Arial;\n",
        "                    border:1px solid black;\">\n",
        "                    3As</td>\n",
        "    \n",
        "        <td style=\"background-color:#ffffb3;\n",
        "                    color:black;\n",
        "                    border-collapse:collapse;\n",
        "                    text-align:center;\n",
        "                    font-family:Arial;\n",
        "                    border:1px solid black;\">\n",
        "                    2As</td>\n",
        "    \n",
        "    </tr>\n",
        "\n",
        "    <tr>\n",
        "    \n",
        "        <td style=\"background-color:#8dd3c7;\n",
        "                    color:black;\n",
        "                    border-collapse:collapse;\n",
        "                    text-align:center;\n",
        "                    font-family:Arial;\n",
        "                    border:1px solid black;\">\n",
        "                    AKo</td>\n",
        "    \n",
        "        <td style=\"background-color:#bebada;\n",
        "                    color:black;\n",
        "                    border-collapse:collapse;\n",
        "                    text-align:center;\n",
        "                    font-family:Arial;\n",
        "                    border:1px solid black;\">\n",
        "                    KKo</td>\n",
        "    \n",
        "        <td style=\"background-color:#ffffb3;\n",
        "                    color:black;\n",
        "                    border-collapse:collapse;\n",
        "                    text-align:center;\n",
        "                    font-family:Arial;\n",
        "                    border:1px solid black;\">\n",
        "                    QKs</td>\n",
        "    \n",
        "        <td style=\"background-color:#ffffb3;\n",
        "                    color:black;\n",
        "                    border-collapse:collapse;\n",
        "                    text-align:center;\n",
        "                    font-family:Arial;\n",
        "                    border:1px solid black;\">\n",
        "                    JKs</td>\n",
        "    \n",
        "        <td style=\"background-color:#ffffb3;\n",
        "                    color:black;\n",
        "                    border-collapse:collapse;\n",
        "                    text-align:center;\n",
        "                    font-family:Arial;\n",
        "                    border:1px solid black;\">\n",
        "                    TKs</td>\n",
        "    \n",
        "        <td style=\"background-color:#ffffb3;\n",
        "                    color:black;\n",
        "                    border-collapse:collapse;\n",
        "                    text-align:center;\n",
        "                    font-family:Arial;\n",
        "                    border:1px solid black;\">\n",
        "                    9Ks</td>\n",
        "    \n",
        "        <td style=\"background-color:#ffffb3;\n",
        "                    color:black;\n",
        "                    border-collapse:collapse;\n",
        "                    text-align:center;\n",
        "                    font-family:Arial;\n",
        "                    border:1px solid black;\">\n",
        "                    8Ks</td>\n",
        "    \n",
        "        <td style=\"background-color:#ffffb3;\n",
        "                    color:black;\n",
        "                    border-collapse:collapse;\n",
        "                    text-align:center;\n",
        "                    font-family:Arial;\n",
        "                    border:1px solid black;\">\n",
        "                    7Ks</td>\n",
        "    \n",
        "        <td style=\"background-color:#ffffb3;\n",
        "                    color:black;\n",
        "                    border-collapse:collapse;\n",
        "                    text-align:center;\n",
        "                    font-family:Arial;\n",
        "                    border:1px solid black;\">\n",
        "                    6Ks</td>\n",
        "    \n",
        "        <td style=\"background-color:#ffffb3;\n",
        "                    color:black;\n",
        "                    border-collapse:collapse;\n",
        "                    text-align:center;\n",
        "                    font-family:Arial;\n",
        "                    border:1px solid black;\">\n",
        "                    5Ks</td>\n",
        "    \n",
        "        <td style=\"background-color:#ffffb3;\n",
        "                    color:black;\n",
        "                    border-collapse:collapse;\n",
        "                    text-align:center;\n",
        "                    font-family:Arial;\n",
        "                    border:1px solid black;\">\n",
        "                    4Ks</td>\n",
        "    \n",
        "        <td style=\"background-color:#ffffb3;\n",
        "                    color:black;\n",
        "                    border-collapse:collapse;\n",
        "                    text-align:center;\n",
        "                    font-family:Arial;\n",
        "                    border:1px solid black;\">\n",
        "                    3Ks</td>\n",
        "    \n",
        "        <td style=\"background-color:#ffffb3;\n",
        "                    color:black;\n",
        "                    border-collapse:collapse;\n",
        "                    text-align:center;\n",
        "                    font-family:Arial;\n",
        "                    border:1px solid black;\">\n",
        "                    2Ks</td>\n",
        "    \n",
        "    </tr>\n",
        "\n",
        "    <tr>\n",
        "    \n",
        "        <td style=\"background-color:#8dd3c7;\n",
        "                    color:black;\n",
        "                    border-collapse:collapse;\n",
        "                    text-align:center;\n",
        "                    font-family:Arial;\n",
        "                    border:1px solid black;\">\n",
        "                    AQo</td>\n",
        "    \n",
        "        <td style=\"background-color:#8dd3c7;\n",
        "                    color:black;\n",
        "                    border-collapse:collapse;\n",
        "                    text-align:center;\n",
        "                    font-family:Arial;\n",
        "                    border:1px solid black;\">\n",
        "                    KQo</td>\n",
        "    \n",
        "        <td style=\"background-color:#bebada;\n",
        "                    color:black;\n",
        "                    border-collapse:collapse;\n",
        "                    text-align:center;\n",
        "                    font-family:Arial;\n",
        "                    border:1px solid black;\">\n",
        "                    QQo</td>\n",
        "    \n",
        "        <td style=\"background-color:#ffffb3;\n",
        "                    color:black;\n",
        "                    border-collapse:collapse;\n",
        "                    text-align:center;\n",
        "                    font-family:Arial;\n",
        "                    border:1px solid black;\">\n",
        "                    JQs</td>\n",
        "    \n",
        "        <td style=\"background-color:#ffffb3;\n",
        "                    color:black;\n",
        "                    border-collapse:collapse;\n",
        "                    text-align:center;\n",
        "                    font-family:Arial;\n",
        "                    border:1px solid black;\">\n",
        "                    TQs</td>\n",
        "    \n",
        "        <td style=\"background-color:#ffffb3;\n",
        "                    color:black;\n",
        "                    border-collapse:collapse;\n",
        "                    text-align:center;\n",
        "                    font-family:Arial;\n",
        "                    border:1px solid black;\">\n",
        "                    9Qs</td>\n",
        "    \n",
        "        <td style=\"background-color:#ffffb3;\n",
        "                    color:black;\n",
        "                    border-collapse:collapse;\n",
        "                    text-align:center;\n",
        "                    font-family:Arial;\n",
        "                    border:1px solid black;\">\n",
        "                    8Qs</td>\n",
        "    \n",
        "        <td style=\"background-color:#ffffb3;\n",
        "                    color:black;\n",
        "                    border-collapse:collapse;\n",
        "                    text-align:center;\n",
        "                    font-family:Arial;\n",
        "                    border:1px solid black;\">\n",
        "                    7Qs</td>\n",
        "    \n",
        "        <td style=\"background-color:#ffffb3;\n",
        "                    color:black;\n",
        "                    border-collapse:collapse;\n",
        "                    text-align:center;\n",
        "                    font-family:Arial;\n",
        "                    border:1px solid black;\">\n",
        "                    6Qs</td>\n",
        "    \n",
        "        <td style=\"background-color:#ffffb3;\n",
        "                    color:black;\n",
        "                    border-collapse:collapse;\n",
        "                    text-align:center;\n",
        "                    font-family:Arial;\n",
        "                    border:1px solid black;\">\n",
        "                    5Qs</td>\n",
        "    \n",
        "        <td style=\"background-color:#ffffb3;\n",
        "                    color:black;\n",
        "                    border-collapse:collapse;\n",
        "                    text-align:center;\n",
        "                    font-family:Arial;\n",
        "                    border:1px solid black;\">\n",
        "                    4Qs</td>\n",
        "    \n",
        "        <td style=\"background-color:#ffffb3;\n",
        "                    color:black;\n",
        "                    border-collapse:collapse;\n",
        "                    text-align:center;\n",
        "                    font-family:Arial;\n",
        "                    border:1px solid black;\">\n",
        "                    3Qs</td>\n",
        "    \n",
        "        <td style=\"background-color:#ffffb3;\n",
        "                    color:black;\n",
        "                    border-collapse:collapse;\n",
        "                    text-align:center;\n",
        "                    font-family:Arial;\n",
        "                    border:1px solid black;\">\n",
        "                    2Qs</td>\n",
        "    \n",
        "    </tr>\n",
        "\n",
        "    <tr>\n",
        "    \n",
        "        <td style=\"background-color:#8dd3c7;\n",
        "                    color:black;\n",
        "                    border-collapse:collapse;\n",
        "                    text-align:center;\n",
        "                    font-family:Arial;\n",
        "                    border:1px solid black;\">\n",
        "                    AJo</td>\n",
        "    \n",
        "        <td style=\"background-color:#8dd3c7;\n",
        "                    color:black;\n",
        "                    border-collapse:collapse;\n",
        "                    text-align:center;\n",
        "                    font-family:Arial;\n",
        "                    border:1px solid black;\">\n",
        "                    KJo</td>\n",
        "    \n",
        "        <td style=\"background-color:#8dd3c7;\n",
        "                    color:black;\n",
        "                    border-collapse:collapse;\n",
        "                    text-align:center;\n",
        "                    font-family:Arial;\n",
        "                    border:1px solid black;\">\n",
        "                    QJo</td>\n",
        "    \n",
        "        <td style=\"background-color:#bebada;\n",
        "                    color:black;\n",
        "                    border-collapse:collapse;\n",
        "                    text-align:center;\n",
        "                    font-family:Arial;\n",
        "                    border:1px solid black;\">\n",
        "                    JJo</td>\n",
        "    \n",
        "        <td style=\"background-color:#ffffb3;\n",
        "                    color:black;\n",
        "                    border-collapse:collapse;\n",
        "                    text-align:center;\n",
        "                    font-family:Arial;\n",
        "                    border:1px solid black;\">\n",
        "                    TJs</td>\n",
        "    \n",
        "        <td style=\"background-color:#ffffb3;\n",
        "                    color:black;\n",
        "                    border-collapse:collapse;\n",
        "                    text-align:center;\n",
        "                    font-family:Arial;\n",
        "                    border:1px solid black;\">\n",
        "                    9Js</td>\n",
        "    \n",
        "        <td style=\"background-color:#ffffb3;\n",
        "                    color:black;\n",
        "                    border-collapse:collapse;\n",
        "                    text-align:center;\n",
        "                    font-family:Arial;\n",
        "                    border:1px solid black;\">\n",
        "                    8Js</td>\n",
        "    \n",
        "        <td style=\"background-color:#ffffb3;\n",
        "                    color:black;\n",
        "                    border-collapse:collapse;\n",
        "                    text-align:center;\n",
        "                    font-family:Arial;\n",
        "                    border:1px solid black;\">\n",
        "                    7Js</td>\n",
        "    \n",
        "        <td style=\"background-color:#ffffb3;\n",
        "                    color:black;\n",
        "                    border-collapse:collapse;\n",
        "                    text-align:center;\n",
        "                    font-family:Arial;\n",
        "                    border:1px solid black;\">\n",
        "                    6Js</td>\n",
        "    \n",
        "        <td style=\"background-color:#ffffb3;\n",
        "                    color:black;\n",
        "                    border-collapse:collapse;\n",
        "                    text-align:center;\n",
        "                    font-family:Arial;\n",
        "                    border:1px solid black;\">\n",
        "                    5Js</td>\n",
        "    \n",
        "        <td style=\"background-color:#ffffb3;\n",
        "                    color:black;\n",
        "                    border-collapse:collapse;\n",
        "                    text-align:center;\n",
        "                    font-family:Arial;\n",
        "                    border:1px solid black;\">\n",
        "                    4Js</td>\n",
        "    \n",
        "        <td style=\"background-color:#ffffb3;\n",
        "                    color:black;\n",
        "                    border-collapse:collapse;\n",
        "                    text-align:center;\n",
        "                    font-family:Arial;\n",
        "                    border:1px solid black;\">\n",
        "                    3Js</td>\n",
        "    \n",
        "        <td style=\"background-color:#ffffb3;\n",
        "                    color:black;\n",
        "                    border-collapse:collapse;\n",
        "                    text-align:center;\n",
        "                    font-family:Arial;\n",
        "                    border:1px solid black;\">\n",
        "                    2Js</td>\n",
        "    \n",
        "    </tr>\n",
        "\n",
        "    <tr>\n",
        "    \n",
        "        <td style=\"background-color:#8dd3c7;\n",
        "                    color:black;\n",
        "                    border-collapse:collapse;\n",
        "                    text-align:center;\n",
        "                    font-family:Arial;\n",
        "                    border:1px solid black;\">\n",
        "                    ATo</td>\n",
        "    \n",
        "        <td style=\"background-color:#8dd3c7;\n",
        "                    color:black;\n",
        "                    border-collapse:collapse;\n",
        "                    text-align:center;\n",
        "                    font-family:Arial;\n",
        "                    border:1px solid black;\">\n",
        "                    KTo</td>\n",
        "    \n",
        "        <td style=\"background-color:#8dd3c7;\n",
        "                    color:black;\n",
        "                    border-collapse:collapse;\n",
        "                    text-align:center;\n",
        "                    font-family:Arial;\n",
        "                    border:1px solid black;\">\n",
        "                    QTo</td>\n",
        "    \n",
        "        <td style=\"background-color:#8dd3c7;\n",
        "                    color:black;\n",
        "                    border-collapse:collapse;\n",
        "                    text-align:center;\n",
        "                    font-family:Arial;\n",
        "                    border:1px solid black;\">\n",
        "                    JTo</td>\n",
        "    \n",
        "        <td style=\"background-color:#bebada;\n",
        "                    color:black;\n",
        "                    border-collapse:collapse;\n",
        "                    text-align:center;\n",
        "                    font-family:Arial;\n",
        "                    border:1px solid black;\">\n",
        "                    TTo</td>\n",
        "    \n",
        "        <td style=\"background-color:#ffffb3;\n",
        "                    color:black;\n",
        "                    border-collapse:collapse;\n",
        "                    text-align:center;\n",
        "                    font-family:Arial;\n",
        "                    border:1px solid black;\">\n",
        "                    9Ts</td>\n",
        "    \n",
        "        <td style=\"background-color:#ffffb3;\n",
        "                    color:black;\n",
        "                    border-collapse:collapse;\n",
        "                    text-align:center;\n",
        "                    font-family:Arial;\n",
        "                    border:1px solid black;\">\n",
        "                    8Ts</td>\n",
        "    \n",
        "        <td style=\"background-color:#ffffb3;\n",
        "                    color:black;\n",
        "                    border-collapse:collapse;\n",
        "                    text-align:center;\n",
        "                    font-family:Arial;\n",
        "                    border:1px solid black;\">\n",
        "                    7Ts</td>\n",
        "    \n",
        "        <td style=\"background-color:#ffffb3;\n",
        "                    color:black;\n",
        "                    border-collapse:collapse;\n",
        "                    text-align:center;\n",
        "                    font-family:Arial;\n",
        "                    border:1px solid black;\">\n",
        "                    6Ts</td>\n",
        "    \n",
        "        <td style=\"background-color:#ffffb3;\n",
        "                    color:black;\n",
        "                    border-collapse:collapse;\n",
        "                    text-align:center;\n",
        "                    font-family:Arial;\n",
        "                    border:1px solid black;\">\n",
        "                    5Ts</td>\n",
        "    \n",
        "        <td style=\"background-color:#ffffb3;\n",
        "                    color:black;\n",
        "                    border-collapse:collapse;\n",
        "                    text-align:center;\n",
        "                    font-family:Arial;\n",
        "                    border:1px solid black;\">\n",
        "                    4Ts</td>\n",
        "    \n",
        "        <td style=\"background-color:#ffffb3;\n",
        "                    color:black;\n",
        "                    border-collapse:collapse;\n",
        "                    text-align:center;\n",
        "                    font-family:Arial;\n",
        "                    border:1px solid black;\">\n",
        "                    3Ts</td>\n",
        "    \n",
        "        <td style=\"background-color:#ffffb3;\n",
        "                    color:black;\n",
        "                    border-collapse:collapse;\n",
        "                    text-align:center;\n",
        "                    font-family:Arial;\n",
        "                    border:1px solid black;\">\n",
        "                    2Ts</td>\n",
        "    \n",
        "    </tr>\n",
        "\n",
        "    <tr>\n",
        "    \n",
        "        <td style=\"background-color:#8dd3c7;\n",
        "                    color:black;\n",
        "                    border-collapse:collapse;\n",
        "                    text-align:center;\n",
        "                    font-family:Arial;\n",
        "                    border:1px solid black;\">\n",
        "                    A9o</td>\n",
        "    \n",
        "        <td style=\"background-color:#8dd3c7;\n",
        "                    color:black;\n",
        "                    border-collapse:collapse;\n",
        "                    text-align:center;\n",
        "                    font-family:Arial;\n",
        "                    border:1px solid black;\">\n",
        "                    K9o</td>\n",
        "    \n",
        "        <td style=\"background-color:#8dd3c7;\n",
        "                    color:black;\n",
        "                    border-collapse:collapse;\n",
        "                    text-align:center;\n",
        "                    font-family:Arial;\n",
        "                    border:1px solid black;\">\n",
        "                    Q9o</td>\n",
        "    \n",
        "        <td style=\"background-color:#8dd3c7;\n",
        "                    color:black;\n",
        "                    border-collapse:collapse;\n",
        "                    text-align:center;\n",
        "                    font-family:Arial;\n",
        "                    border:1px solid black;\">\n",
        "                    J9o</td>\n",
        "    \n",
        "        <td style=\"background-color:#8dd3c7;\n",
        "                    color:black;\n",
        "                    border-collapse:collapse;\n",
        "                    text-align:center;\n",
        "                    font-family:Arial;\n",
        "                    border:1px solid black;\">\n",
        "                    T9o</td>\n",
        "    \n",
        "        <td style=\"background-color:#bebada;\n",
        "                    color:black;\n",
        "                    border-collapse:collapse;\n",
        "                    text-align:center;\n",
        "                    font-family:Arial;\n",
        "                    border:1px solid black;\">\n",
        "                    99o</td>\n",
        "    \n",
        "        <td style=\"background-color:#ffffb3;\n",
        "                    color:black;\n",
        "                    border-collapse:collapse;\n",
        "                    text-align:center;\n",
        "                    font-family:Arial;\n",
        "                    border:1px solid black;\">\n",
        "                    89s</td>\n",
        "    \n",
        "        <td style=\"background-color:#ffffb3;\n",
        "                    color:black;\n",
        "                    border-collapse:collapse;\n",
        "                    text-align:center;\n",
        "                    font-family:Arial;\n",
        "                    border:1px solid black;\">\n",
        "                    79s</td>\n",
        "    \n",
        "        <td style=\"background-color:#ffffb3;\n",
        "                    color:black;\n",
        "                    border-collapse:collapse;\n",
        "                    text-align:center;\n",
        "                    font-family:Arial;\n",
        "                    border:1px solid black;\">\n",
        "                    69s</td>\n",
        "    \n",
        "        <td style=\"background-color:#ffffb3;\n",
        "                    color:black;\n",
        "                    border-collapse:collapse;\n",
        "                    text-align:center;\n",
        "                    font-family:Arial;\n",
        "                    border:1px solid black;\">\n",
        "                    59s</td>\n",
        "    \n",
        "        <td style=\"background-color:#ffffb3;\n",
        "                    color:black;\n",
        "                    border-collapse:collapse;\n",
        "                    text-align:center;\n",
        "                    font-family:Arial;\n",
        "                    border:1px solid black;\">\n",
        "                    49s</td>\n",
        "    \n",
        "        <td style=\"background-color:#ffffb3;\n",
        "                    color:black;\n",
        "                    border-collapse:collapse;\n",
        "                    text-align:center;\n",
        "                    font-family:Arial;\n",
        "                    border:1px solid black;\">\n",
        "                    39s</td>\n",
        "    \n",
        "        <td style=\"background-color:#ffffb3;\n",
        "                    color:black;\n",
        "                    border-collapse:collapse;\n",
        "                    text-align:center;\n",
        "                    font-family:Arial;\n",
        "                    border:1px solid black;\">\n",
        "                    29s</td>\n",
        "    \n",
        "    </tr>\n",
        "\n",
        "    <tr>\n",
        "    \n",
        "        <td style=\"background-color:#8dd3c7;\n",
        "                    color:black;\n",
        "                    border-collapse:collapse;\n",
        "                    text-align:center;\n",
        "                    font-family:Arial;\n",
        "                    border:1px solid black;\">\n",
        "                    A8o</td>\n",
        "    \n",
        "        <td style=\"background-color:#8dd3c7;\n",
        "                    color:black;\n",
        "                    border-collapse:collapse;\n",
        "                    text-align:center;\n",
        "                    font-family:Arial;\n",
        "                    border:1px solid black;\">\n",
        "                    K8o</td>\n",
        "    \n",
        "        <td style=\"background-color:#8dd3c7;\n",
        "                    color:black;\n",
        "                    border-collapse:collapse;\n",
        "                    text-align:center;\n",
        "                    font-family:Arial;\n",
        "                    border:1px solid black;\">\n",
        "                    Q8o</td>\n",
        "    \n",
        "        <td style=\"background-color:#8dd3c7;\n",
        "                    color:black;\n",
        "                    border-collapse:collapse;\n",
        "                    text-align:center;\n",
        "                    font-family:Arial;\n",
        "                    border:1px solid black;\">\n",
        "                    J8o</td>\n",
        "    \n",
        "        <td style=\"background-color:#8dd3c7;\n",
        "                    color:black;\n",
        "                    border-collapse:collapse;\n",
        "                    text-align:center;\n",
        "                    font-family:Arial;\n",
        "                    border:1px solid black;\">\n",
        "                    T8o</td>\n",
        "    \n",
        "        <td style=\"background-color:#8dd3c7;\n",
        "                    color:black;\n",
        "                    border-collapse:collapse;\n",
        "                    text-align:center;\n",
        "                    font-family:Arial;\n",
        "                    border:1px solid black;\">\n",
        "                    98o</td>\n",
        "    \n",
        "        <td style=\"background-color:#bebada;\n",
        "                    color:black;\n",
        "                    border-collapse:collapse;\n",
        "                    text-align:center;\n",
        "                    font-family:Arial;\n",
        "                    border:1px solid black;\">\n",
        "                    88o</td>\n",
        "    \n",
        "        <td style=\"background-color:#ffffb3;\n",
        "                    color:black;\n",
        "                    border-collapse:collapse;\n",
        "                    text-align:center;\n",
        "                    font-family:Arial;\n",
        "                    border:1px solid black;\">\n",
        "                    78s</td>\n",
        "    \n",
        "        <td style=\"background-color:#ffffb3;\n",
        "                    color:black;\n",
        "                    border-collapse:collapse;\n",
        "                    text-align:center;\n",
        "                    font-family:Arial;\n",
        "                    border:1px solid black;\">\n",
        "                    68s</td>\n",
        "    \n",
        "        <td style=\"background-color:#ffffb3;\n",
        "                    color:black;\n",
        "                    border-collapse:collapse;\n",
        "                    text-align:center;\n",
        "                    font-family:Arial;\n",
        "                    border:1px solid black;\">\n",
        "                    58s</td>\n",
        "    \n",
        "        <td style=\"background-color:#ffffb3;\n",
        "                    color:black;\n",
        "                    border-collapse:collapse;\n",
        "                    text-align:center;\n",
        "                    font-family:Arial;\n",
        "                    border:1px solid black;\">\n",
        "                    48s</td>\n",
        "    \n",
        "        <td style=\"background-color:#ffffb3;\n",
        "                    color:black;\n",
        "                    border-collapse:collapse;\n",
        "                    text-align:center;\n",
        "                    font-family:Arial;\n",
        "                    border:1px solid black;\">\n",
        "                    38s</td>\n",
        "    \n",
        "        <td style=\"background-color:#ffffb3;\n",
        "                    color:black;\n",
        "                    border-collapse:collapse;\n",
        "                    text-align:center;\n",
        "                    font-family:Arial;\n",
        "                    border:1px solid black;\">\n",
        "                    28s</td>\n",
        "    \n",
        "    </tr>\n",
        "\n",
        "    <tr>\n",
        "    \n",
        "        <td style=\"background-color:#8dd3c7;\n",
        "                    color:black;\n",
        "                    border-collapse:collapse;\n",
        "                    text-align:center;\n",
        "                    font-family:Arial;\n",
        "                    border:1px solid black;\">\n",
        "                    A7o</td>\n",
        "    \n",
        "        <td style=\"background-color:#8dd3c7;\n",
        "                    color:black;\n",
        "                    border-collapse:collapse;\n",
        "                    text-align:center;\n",
        "                    font-family:Arial;\n",
        "                    border:1px solid black;\">\n",
        "                    K7o</td>\n",
        "    \n",
        "        <td style=\"background-color:#8dd3c7;\n",
        "                    color:black;\n",
        "                    border-collapse:collapse;\n",
        "                    text-align:center;\n",
        "                    font-family:Arial;\n",
        "                    border:1px solid black;\">\n",
        "                    Q7o</td>\n",
        "    \n",
        "        <td style=\"background-color:#8dd3c7;\n",
        "                    color:black;\n",
        "                    border-collapse:collapse;\n",
        "                    text-align:center;\n",
        "                    font-family:Arial;\n",
        "                    border:1px solid black;\">\n",
        "                    J7o</td>\n",
        "    \n",
        "        <td style=\"background-color:#8dd3c7;\n",
        "                    color:black;\n",
        "                    border-collapse:collapse;\n",
        "                    text-align:center;\n",
        "                    font-family:Arial;\n",
        "                    border:1px solid black;\">\n",
        "                    T7o</td>\n",
        "    \n",
        "        <td style=\"background-color:#8dd3c7;\n",
        "                    color:black;\n",
        "                    border-collapse:collapse;\n",
        "                    text-align:center;\n",
        "                    font-family:Arial;\n",
        "                    border:1px solid black;\">\n",
        "                    97o</td>\n",
        "    \n",
        "        <td style=\"background-color:#8dd3c7;\n",
        "                    color:black;\n",
        "                    border-collapse:collapse;\n",
        "                    text-align:center;\n",
        "                    font-family:Arial;\n",
        "                    border:1px solid black;\">\n",
        "                    87o</td>\n",
        "    \n",
        "        <td style=\"background-color:#bebada;\n",
        "                    color:black;\n",
        "                    border-collapse:collapse;\n",
        "                    text-align:center;\n",
        "                    font-family:Arial;\n",
        "                    border:1px solid black;\">\n",
        "                    77o</td>\n",
        "    \n",
        "        <td style=\"background-color:#ffffb3;\n",
        "                    color:black;\n",
        "                    border-collapse:collapse;\n",
        "                    text-align:center;\n",
        "                    font-family:Arial;\n",
        "                    border:1px solid black;\">\n",
        "                    67s</td>\n",
        "    \n",
        "        <td style=\"background-color:#ffffb3;\n",
        "                    color:black;\n",
        "                    border-collapse:collapse;\n",
        "                    text-align:center;\n",
        "                    font-family:Arial;\n",
        "                    border:1px solid black;\">\n",
        "                    57s</td>\n",
        "    \n",
        "        <td style=\"background-color:#ffffb3;\n",
        "                    color:black;\n",
        "                    border-collapse:collapse;\n",
        "                    text-align:center;\n",
        "                    font-family:Arial;\n",
        "                    border:1px solid black;\">\n",
        "                    47s</td>\n",
        "    \n",
        "        <td style=\"background-color:#ffffb3;\n",
        "                    color:black;\n",
        "                    border-collapse:collapse;\n",
        "                    text-align:center;\n",
        "                    font-family:Arial;\n",
        "                    border:1px solid black;\">\n",
        "                    37s</td>\n",
        "    \n",
        "        <td style=\"background-color:#ffffb3;\n",
        "                    color:black;\n",
        "                    border-collapse:collapse;\n",
        "                    text-align:center;\n",
        "                    font-family:Arial;\n",
        "                    border:1px solid black;\">\n",
        "                    27s</td>\n",
        "    \n",
        "    </tr>\n",
        "\n",
        "    <tr>\n",
        "    \n",
        "        <td style=\"background-color:#8dd3c7;\n",
        "                    color:black;\n",
        "                    border-collapse:collapse;\n",
        "                    text-align:center;\n",
        "                    font-family:Arial;\n",
        "                    border:1px solid black;\">\n",
        "                    A6o</td>\n",
        "    \n",
        "        <td style=\"background-color:#8dd3c7;\n",
        "                    color:black;\n",
        "                    border-collapse:collapse;\n",
        "                    text-align:center;\n",
        "                    font-family:Arial;\n",
        "                    border:1px solid black;\">\n",
        "                    K6o</td>\n",
        "    \n",
        "        <td style=\"background-color:#8dd3c7;\n",
        "                    color:black;\n",
        "                    border-collapse:collapse;\n",
        "                    text-align:center;\n",
        "                    font-family:Arial;\n",
        "                    border:1px solid black;\">\n",
        "                    Q6o</td>\n",
        "    \n",
        "        <td style=\"background-color:#8dd3c7;\n",
        "                    color:black;\n",
        "                    border-collapse:collapse;\n",
        "                    text-align:center;\n",
        "                    font-family:Arial;\n",
        "                    border:1px solid black;\">\n",
        "                    J6o</td>\n",
        "    \n",
        "        <td style=\"background-color:#8dd3c7;\n",
        "                    color:black;\n",
        "                    border-collapse:collapse;\n",
        "                    text-align:center;\n",
        "                    font-family:Arial;\n",
        "                    border:1px solid black;\">\n",
        "                    T6o</td>\n",
        "    \n",
        "        <td style=\"background-color:#8dd3c7;\n",
        "                    color:black;\n",
        "                    border-collapse:collapse;\n",
        "                    text-align:center;\n",
        "                    font-family:Arial;\n",
        "                    border:1px solid black;\">\n",
        "                    96o</td>\n",
        "    \n",
        "        <td style=\"background-color:#8dd3c7;\n",
        "                    color:black;\n",
        "                    border-collapse:collapse;\n",
        "                    text-align:center;\n",
        "                    font-family:Arial;\n",
        "                    border:1px solid black;\">\n",
        "                    86o</td>\n",
        "    \n",
        "        <td style=\"background-color:#8dd3c7;\n",
        "                    color:black;\n",
        "                    border-collapse:collapse;\n",
        "                    text-align:center;\n",
        "                    font-family:Arial;\n",
        "                    border:1px solid black;\">\n",
        "                    76o</td>\n",
        "    \n",
        "        <td style=\"background-color:#bebada;\n",
        "                    color:black;\n",
        "                    border-collapse:collapse;\n",
        "                    text-align:center;\n",
        "                    font-family:Arial;\n",
        "                    border:1px solid black;\">\n",
        "                    66o</td>\n",
        "    \n",
        "        <td style=\"background-color:#ffffb3;\n",
        "                    color:black;\n",
        "                    border-collapse:collapse;\n",
        "                    text-align:center;\n",
        "                    font-family:Arial;\n",
        "                    border:1px solid black;\">\n",
        "                    56s</td>\n",
        "    \n",
        "        <td style=\"background-color:#ffffb3;\n",
        "                    color:black;\n",
        "                    border-collapse:collapse;\n",
        "                    text-align:center;\n",
        "                    font-family:Arial;\n",
        "                    border:1px solid black;\">\n",
        "                    46s</td>\n",
        "    \n",
        "        <td style=\"background-color:#ffffb3;\n",
        "                    color:black;\n",
        "                    border-collapse:collapse;\n",
        "                    text-align:center;\n",
        "                    font-family:Arial;\n",
        "                    border:1px solid black;\">\n",
        "                    36s</td>\n",
        "    \n",
        "        <td style=\"background-color:#ffffb3;\n",
        "                    color:black;\n",
        "                    border-collapse:collapse;\n",
        "                    text-align:center;\n",
        "                    font-family:Arial;\n",
        "                    border:1px solid black;\">\n",
        "                    26s</td>\n",
        "    \n",
        "    </tr>\n",
        "\n",
        "    <tr>\n",
        "    \n",
        "        <td style=\"background-color:#8dd3c7;\n",
        "                    color:black;\n",
        "                    border-collapse:collapse;\n",
        "                    text-align:center;\n",
        "                    font-family:Arial;\n",
        "                    border:1px solid black;\">\n",
        "                    A5o</td>\n",
        "    \n",
        "        <td style=\"background-color:#8dd3c7;\n",
        "                    color:black;\n",
        "                    border-collapse:collapse;\n",
        "                    text-align:center;\n",
        "                    font-family:Arial;\n",
        "                    border:1px solid black;\">\n",
        "                    K5o</td>\n",
        "    \n",
        "        <td style=\"background-color:#8dd3c7;\n",
        "                    color:black;\n",
        "                    border-collapse:collapse;\n",
        "                    text-align:center;\n",
        "                    font-family:Arial;\n",
        "                    border:1px solid black;\">\n",
        "                    Q5o</td>\n",
        "    \n",
        "        <td style=\"background-color:#8dd3c7;\n",
        "                    color:black;\n",
        "                    border-collapse:collapse;\n",
        "                    text-align:center;\n",
        "                    font-family:Arial;\n",
        "                    border:1px solid black;\">\n",
        "                    J5o</td>\n",
        "    \n",
        "        <td style=\"background-color:#8dd3c7;\n",
        "                    color:black;\n",
        "                    border-collapse:collapse;\n",
        "                    text-align:center;\n",
        "                    font-family:Arial;\n",
        "                    border:1px solid black;\">\n",
        "                    T5o</td>\n",
        "    \n",
        "        <td style=\"background-color:#8dd3c7;\n",
        "                    color:black;\n",
        "                    border-collapse:collapse;\n",
        "                    text-align:center;\n",
        "                    font-family:Arial;\n",
        "                    border:1px solid black;\">\n",
        "                    95o</td>\n",
        "    \n",
        "        <td style=\"background-color:#8dd3c7;\n",
        "                    color:black;\n",
        "                    border-collapse:collapse;\n",
        "                    text-align:center;\n",
        "                    font-family:Arial;\n",
        "                    border:1px solid black;\">\n",
        "                    85o</td>\n",
        "    \n",
        "        <td style=\"background-color:#8dd3c7;\n",
        "                    color:black;\n",
        "                    border-collapse:collapse;\n",
        "                    text-align:center;\n",
        "                    font-family:Arial;\n",
        "                    border:1px solid black;\">\n",
        "                    75o</td>\n",
        "    \n",
        "        <td style=\"background-color:#8dd3c7;\n",
        "                    color:black;\n",
        "                    border-collapse:collapse;\n",
        "                    text-align:center;\n",
        "                    font-family:Arial;\n",
        "                    border:1px solid black;\">\n",
        "                    65o</td>\n",
        "    \n",
        "        <td style=\"background-color:#bebada;\n",
        "                    color:black;\n",
        "                    border-collapse:collapse;\n",
        "                    text-align:center;\n",
        "                    font-family:Arial;\n",
        "                    border:1px solid black;\">\n",
        "                    55o</td>\n",
        "    \n",
        "        <td style=\"background-color:#ffffb3;\n",
        "                    color:black;\n",
        "                    border-collapse:collapse;\n",
        "                    text-align:center;\n",
        "                    font-family:Arial;\n",
        "                    border:1px solid black;\">\n",
        "                    45s</td>\n",
        "    \n",
        "        <td style=\"background-color:#ffffb3;\n",
        "                    color:black;\n",
        "                    border-collapse:collapse;\n",
        "                    text-align:center;\n",
        "                    font-family:Arial;\n",
        "                    border:1px solid black;\">\n",
        "                    35s</td>\n",
        "    \n",
        "        <td style=\"background-color:#ffffb3;\n",
        "                    color:black;\n",
        "                    border-collapse:collapse;\n",
        "                    text-align:center;\n",
        "                    font-family:Arial;\n",
        "                    border:1px solid black;\">\n",
        "                    25s</td>\n",
        "    \n",
        "    </tr>\n",
        "\n",
        "    <tr>\n",
        "    \n",
        "        <td style=\"background-color:#8dd3c7;\n",
        "                    color:black;\n",
        "                    border-collapse:collapse;\n",
        "                    text-align:center;\n",
        "                    font-family:Arial;\n",
        "                    border:1px solid black;\">\n",
        "                    A4o</td>\n",
        "    \n",
        "        <td style=\"background-color:#8dd3c7;\n",
        "                    color:black;\n",
        "                    border-collapse:collapse;\n",
        "                    text-align:center;\n",
        "                    font-family:Arial;\n",
        "                    border:1px solid black;\">\n",
        "                    K4o</td>\n",
        "    \n",
        "        <td style=\"background-color:#8dd3c7;\n",
        "                    color:black;\n",
        "                    border-collapse:collapse;\n",
        "                    text-align:center;\n",
        "                    font-family:Arial;\n",
        "                    border:1px solid black;\">\n",
        "                    Q4o</td>\n",
        "    \n",
        "        <td style=\"background-color:#8dd3c7;\n",
        "                    color:black;\n",
        "                    border-collapse:collapse;\n",
        "                    text-align:center;\n",
        "                    font-family:Arial;\n",
        "                    border:1px solid black;\">\n",
        "                    J4o</td>\n",
        "    \n",
        "        <td style=\"background-color:#8dd3c7;\n",
        "                    color:black;\n",
        "                    border-collapse:collapse;\n",
        "                    text-align:center;\n",
        "                    font-family:Arial;\n",
        "                    border:1px solid black;\">\n",
        "                    T4o</td>\n",
        "    \n",
        "        <td style=\"background-color:#8dd3c7;\n",
        "                    color:black;\n",
        "                    border-collapse:collapse;\n",
        "                    text-align:center;\n",
        "                    font-family:Arial;\n",
        "                    border:1px solid black;\">\n",
        "                    94o</td>\n",
        "    \n",
        "        <td style=\"background-color:#8dd3c7;\n",
        "                    color:black;\n",
        "                    border-collapse:collapse;\n",
        "                    text-align:center;\n",
        "                    font-family:Arial;\n",
        "                    border:1px solid black;\">\n",
        "                    84o</td>\n",
        "    \n",
        "        <td style=\"background-color:#8dd3c7;\n",
        "                    color:black;\n",
        "                    border-collapse:collapse;\n",
        "                    text-align:center;\n",
        "                    font-family:Arial;\n",
        "                    border:1px solid black;\">\n",
        "                    74o</td>\n",
        "    \n",
        "        <td style=\"background-color:#8dd3c7;\n",
        "                    color:black;\n",
        "                    border-collapse:collapse;\n",
        "                    text-align:center;\n",
        "                    font-family:Arial;\n",
        "                    border:1px solid black;\">\n",
        "                    64o</td>\n",
        "    \n",
        "        <td style=\"background-color:#8dd3c7;\n",
        "                    color:black;\n",
        "                    border-collapse:collapse;\n",
        "                    text-align:center;\n",
        "                    font-family:Arial;\n",
        "                    border:1px solid black;\">\n",
        "                    54o</td>\n",
        "    \n",
        "        <td style=\"background-color:#bebada;\n",
        "                    color:black;\n",
        "                    border-collapse:collapse;\n",
        "                    text-align:center;\n",
        "                    font-family:Arial;\n",
        "                    border:1px solid black;\">\n",
        "                    44o</td>\n",
        "    \n",
        "        <td style=\"background-color:#ffffb3;\n",
        "                    color:black;\n",
        "                    border-collapse:collapse;\n",
        "                    text-align:center;\n",
        "                    font-family:Arial;\n",
        "                    border:1px solid black;\">\n",
        "                    34s</td>\n",
        "    \n",
        "        <td style=\"background-color:#ffffb3;\n",
        "                    color:black;\n",
        "                    border-collapse:collapse;\n",
        "                    text-align:center;\n",
        "                    font-family:Arial;\n",
        "                    border:1px solid black;\">\n",
        "                    24s</td>\n",
        "    \n",
        "    </tr>\n",
        "\n",
        "    <tr>\n",
        "    \n",
        "        <td style=\"background-color:#8dd3c7;\n",
        "                    color:black;\n",
        "                    border-collapse:collapse;\n",
        "                    text-align:center;\n",
        "                    font-family:Arial;\n",
        "                    border:1px solid black;\">\n",
        "                    A3o</td>\n",
        "    \n",
        "        <td style=\"background-color:#8dd3c7;\n",
        "                    color:black;\n",
        "                    border-collapse:collapse;\n",
        "                    text-align:center;\n",
        "                    font-family:Arial;\n",
        "                    border:1px solid black;\">\n",
        "                    K3o</td>\n",
        "    \n",
        "        <td style=\"background-color:#8dd3c7;\n",
        "                    color:black;\n",
        "                    border-collapse:collapse;\n",
        "                    text-align:center;\n",
        "                    font-family:Arial;\n",
        "                    border:1px solid black;\">\n",
        "                    Q3o</td>\n",
        "    \n",
        "        <td style=\"background-color:#8dd3c7;\n",
        "                    color:black;\n",
        "                    border-collapse:collapse;\n",
        "                    text-align:center;\n",
        "                    font-family:Arial;\n",
        "                    border:1px solid black;\">\n",
        "                    J3o</td>\n",
        "    \n",
        "        <td style=\"background-color:#8dd3c7;\n",
        "                    color:black;\n",
        "                    border-collapse:collapse;\n",
        "                    text-align:center;\n",
        "                    font-family:Arial;\n",
        "                    border:1px solid black;\">\n",
        "                    T3o</td>\n",
        "    \n",
        "        <td style=\"background-color:#8dd3c7;\n",
        "                    color:black;\n",
        "                    border-collapse:collapse;\n",
        "                    text-align:center;\n",
        "                    font-family:Arial;\n",
        "                    border:1px solid black;\">\n",
        "                    93o</td>\n",
        "    \n",
        "        <td style=\"background-color:#8dd3c7;\n",
        "                    color:black;\n",
        "                    border-collapse:collapse;\n",
        "                    text-align:center;\n",
        "                    font-family:Arial;\n",
        "                    border:1px solid black;\">\n",
        "                    83o</td>\n",
        "    \n",
        "        <td style=\"background-color:#8dd3c7;\n",
        "                    color:black;\n",
        "                    border-collapse:collapse;\n",
        "                    text-align:center;\n",
        "                    font-family:Arial;\n",
        "                    border:1px solid black;\">\n",
        "                    73o</td>\n",
        "    \n",
        "        <td style=\"background-color:#8dd3c7;\n",
        "                    color:black;\n",
        "                    border-collapse:collapse;\n",
        "                    text-align:center;\n",
        "                    font-family:Arial;\n",
        "                    border:1px solid black;\">\n",
        "                    63o</td>\n",
        "    \n",
        "        <td style=\"background-color:#8dd3c7;\n",
        "                    color:black;\n",
        "                    border-collapse:collapse;\n",
        "                    text-align:center;\n",
        "                    font-family:Arial;\n",
        "                    border:1px solid black;\">\n",
        "                    53o</td>\n",
        "    \n",
        "        <td style=\"background-color:#8dd3c7;\n",
        "                    color:black;\n",
        "                    border-collapse:collapse;\n",
        "                    text-align:center;\n",
        "                    font-family:Arial;\n",
        "                    border:1px solid black;\">\n",
        "                    43o</td>\n",
        "    \n",
        "        <td style=\"background-color:#bebada;\n",
        "                    color:black;\n",
        "                    border-collapse:collapse;\n",
        "                    text-align:center;\n",
        "                    font-family:Arial;\n",
        "                    border:1px solid black;\">\n",
        "                    33o</td>\n",
        "    \n",
        "        <td style=\"background-color:#ffffb3;\n",
        "                    color:black;\n",
        "                    border-collapse:collapse;\n",
        "                    text-align:center;\n",
        "                    font-family:Arial;\n",
        "                    border:1px solid black;\">\n",
        "                    23s</td>\n",
        "    \n",
        "    </tr>\n",
        "\n",
        "    <tr>\n",
        "    \n",
        "        <td style=\"background-color:#8dd3c7;\n",
        "                    color:black;\n",
        "                    border-collapse:collapse;\n",
        "                    text-align:center;\n",
        "                    font-family:Arial;\n",
        "                    border:1px solid black;\">\n",
        "                    A2o</td>\n",
        "    \n",
        "        <td style=\"background-color:#8dd3c7;\n",
        "                    color:black;\n",
        "                    border-collapse:collapse;\n",
        "                    text-align:center;\n",
        "                    font-family:Arial;\n",
        "                    border:1px solid black;\">\n",
        "                    K2o</td>\n",
        "    \n",
        "        <td style=\"background-color:#8dd3c7;\n",
        "                    color:black;\n",
        "                    border-collapse:collapse;\n",
        "                    text-align:center;\n",
        "                    font-family:Arial;\n",
        "                    border:1px solid black;\">\n",
        "                    Q2o</td>\n",
        "    \n",
        "        <td style=\"background-color:#8dd3c7;\n",
        "                    color:black;\n",
        "                    border-collapse:collapse;\n",
        "                    text-align:center;\n",
        "                    font-family:Arial;\n",
        "                    border:1px solid black;\">\n",
        "                    J2o</td>\n",
        "    \n",
        "        <td style=\"background-color:#8dd3c7;\n",
        "                    color:black;\n",
        "                    border-collapse:collapse;\n",
        "                    text-align:center;\n",
        "                    font-family:Arial;\n",
        "                    border:1px solid black;\">\n",
        "                    T2o</td>\n",
        "    \n",
        "        <td style=\"background-color:#8dd3c7;\n",
        "                    color:black;\n",
        "                    border-collapse:collapse;\n",
        "                    text-align:center;\n",
        "                    font-family:Arial;\n",
        "                    border:1px solid black;\">\n",
        "                    92o</td>\n",
        "    \n",
        "        <td style=\"background-color:#8dd3c7;\n",
        "                    color:black;\n",
        "                    border-collapse:collapse;\n",
        "                    text-align:center;\n",
        "                    font-family:Arial;\n",
        "                    border:1px solid black;\">\n",
        "                    82o</td>\n",
        "    \n",
        "        <td style=\"background-color:#8dd3c7;\n",
        "                    color:black;\n",
        "                    border-collapse:collapse;\n",
        "                    text-align:center;\n",
        "                    font-family:Arial;\n",
        "                    border:1px solid black;\">\n",
        "                    72o</td>\n",
        "    \n",
        "        <td style=\"background-color:#8dd3c7;\n",
        "                    color:black;\n",
        "                    border-collapse:collapse;\n",
        "                    text-align:center;\n",
        "                    font-family:Arial;\n",
        "                    border:1px solid black;\">\n",
        "                    62o</td>\n",
        "    \n",
        "        <td style=\"background-color:#8dd3c7;\n",
        "                    color:black;\n",
        "                    border-collapse:collapse;\n",
        "                    text-align:center;\n",
        "                    font-family:Arial;\n",
        "                    border:1px solid black;\">\n",
        "                    52o</td>\n",
        "    \n",
        "        <td style=\"background-color:#8dd3c7;\n",
        "                    color:black;\n",
        "                    border-collapse:collapse;\n",
        "                    text-align:center;\n",
        "                    font-family:Arial;\n",
        "                    border:1px solid black;\">\n",
        "                    42o</td>\n",
        "    \n",
        "        <td style=\"background-color:#8dd3c7;\n",
        "                    color:black;\n",
        "                    border-collapse:collapse;\n",
        "                    text-align:center;\n",
        "                    font-family:Arial;\n",
        "                    border:1px solid black;\">\n",
        "                    32o</td>\n",
        "    \n",
        "        <td style=\"background-color:#bebada;\n",
        "                    color:black;\n",
        "                    border-collapse:collapse;\n",
        "                    text-align:center;\n",
        "                    font-family:Arial;\n",
        "                    border:1px solid black;\">\n",
        "                    22o</td>\n",
        "    \n",
        "    </tr>\n",
        "\n",
        " </table>"
       ],
       "metadata": {},
       "output_type": "pyout",
       "prompt_number": 13,
       "text": [
        "<IPython.core.display.HTML at 0x118f60750>"
       ]
      }
     ],
     "prompt_number": 13
    },
    {
     "cell_type": "markdown",
     "metadata": {},
     "source": [
      "For a given pre flop hand, there are C(50,5) = 2,118,760 different tables. Assuming each set of table cards is equally likely, i.e. neglecting the other players' cards, we compute the distribution of hand ranks for a given pre flop hand.\n"
     ]
    },
    {
     "cell_type": "code",
     "collapsed": false,
     "input": [
      "df_preflop_hand_distrib = EvalAnalysis.create_df_preflop_hand_distrib()"
     ],
     "language": "python",
     "metadata": {},
     "outputs": [
      {
       "output_type": "stream",
       "stream": "stdout",
       "text": [
        "\n",
        "--------------- start create_df_preflop_hand_distrib\n",
        "all preflop hands = \n",
        "start = ['AAo', 'AKs', 'AQs', 'AJs', 'ATs', 'A9s', 'A8s', 'A7s', 'A6s', 'A5s']\n",
        "end = ['2Jo', '2To', '29o', '28o', '27o', '26o', '25o', '24o', '23o', '22o']\n",
        "nb of elements = 169\n",
        "\n",
        "hand rank distribution for all preflop hands\n",
        "\r",
        "k=  1 / 170"
       ]
      },
      {
       "output_type": "stream",
       "stream": "stdout",
       "text": [
        "\r",
        "k =   2 / 170"
       ]
      },
      {
       "output_type": "stream",
       "stream": "stdout",
       "text": [
        "\r",
        "k =   3 / 170"
       ]
      },
      {
       "output_type": "stream",
       "stream": "stdout",
       "text": [
        "\r",
        "k =   4 / 170"
       ]
      },
      {
       "output_type": "stream",
       "stream": "stdout",
       "text": [
        "\r",
        "k =   5 / 170"
       ]
      },
      {
       "output_type": "stream",
       "stream": "stdout",
       "text": [
        "\r",
        "k =   6 / 170"
       ]
      },
      {
       "output_type": "stream",
       "stream": "stdout",
       "text": [
        "\r",
        "k =   7 / 170"
       ]
      },
      {
       "output_type": "stream",
       "stream": "stdout",
       "text": [
        "\r",
        "k =   8 / 170"
       ]
      },
      {
       "output_type": "stream",
       "stream": "stdout",
       "text": [
        "\r",
        "k =   9 / 170"
       ]
      },
      {
       "output_type": "stream",
       "stream": "stdout",
       "text": [
        "\r",
        "k =  10 / 170"
       ]
      },
      {
       "output_type": "stream",
       "stream": "stdout",
       "text": [
        "\r",
        "k =  11 / 170"
       ]
      },
      {
       "output_type": "stream",
       "stream": "stdout",
       "text": [
        "\r",
        "k =  12 / 170"
       ]
      },
      {
       "output_type": "stream",
       "stream": "stdout",
       "text": [
        "\r",
        "k =  13 / 170"
       ]
      },
      {
       "output_type": "stream",
       "stream": "stdout",
       "text": [
        "\r",
        "k =  14 / 170"
       ]
      },
      {
       "output_type": "stream",
       "stream": "stdout",
       "text": [
        "\r",
        "k =  15 / 170"
       ]
      },
      {
       "output_type": "stream",
       "stream": "stdout",
       "text": [
        "\r",
        "k =  16 / 170"
       ]
      },
      {
       "output_type": "stream",
       "stream": "stdout",
       "text": [
        "\r",
        "k =  17 / 170"
       ]
      },
      {
       "output_type": "stream",
       "stream": "stdout",
       "text": [
        "\r",
        "k =  18 / 170"
       ]
      },
      {
       "output_type": "stream",
       "stream": "stdout",
       "text": [
        "\r",
        "k =  19 / 170"
       ]
      },
      {
       "output_type": "stream",
       "stream": "stdout",
       "text": [
        "\r",
        "k =  20 / 170"
       ]
      },
      {
       "output_type": "stream",
       "stream": "stdout",
       "text": [
        "\r",
        "k =  21 / 170"
       ]
      },
      {
       "output_type": "stream",
       "stream": "stdout",
       "text": [
        "\r",
        "k =  22 / 170"
       ]
      },
      {
       "output_type": "stream",
       "stream": "stdout",
       "text": [
        "\r",
        "k =  23 / 170"
       ]
      },
      {
       "output_type": "stream",
       "stream": "stdout",
       "text": [
        "\r",
        "k =  24 / 170"
       ]
      },
      {
       "output_type": "stream",
       "stream": "stdout",
       "text": [
        "\r",
        "k =  25 / 170"
       ]
      },
      {
       "output_type": "stream",
       "stream": "stdout",
       "text": [
        "\r",
        "k =  26 / 170"
       ]
      },
      {
       "output_type": "stream",
       "stream": "stdout",
       "text": [
        "\r",
        "k =  27 / 170"
       ]
      },
      {
       "output_type": "stream",
       "stream": "stdout",
       "text": [
        "\r",
        "k =  28 / 170"
       ]
      },
      {
       "output_type": "stream",
       "stream": "stdout",
       "text": [
        "\r",
        "k =  29 / 170"
       ]
      },
      {
       "output_type": "stream",
       "stream": "stdout",
       "text": [
        "\r",
        "k =  30 / 170"
       ]
      },
      {
       "output_type": "stream",
       "stream": "stdout",
       "text": [
        "\r",
        "k =  31 / 170"
       ]
      },
      {
       "output_type": "stream",
       "stream": "stdout",
       "text": [
        "\r",
        "k =  32 / 170"
       ]
      },
      {
       "output_type": "stream",
       "stream": "stdout",
       "text": [
        "\r",
        "k =  33 / 170"
       ]
      },
      {
       "output_type": "stream",
       "stream": "stdout",
       "text": [
        "\r",
        "k =  34 / 170"
       ]
      },
      {
       "output_type": "stream",
       "stream": "stdout",
       "text": [
        "\r",
        "k =  35 / 170"
       ]
      },
      {
       "output_type": "stream",
       "stream": "stdout",
       "text": [
        "\r",
        "k =  36 / 170"
       ]
      },
      {
       "output_type": "stream",
       "stream": "stdout",
       "text": [
        "\r",
        "k =  37 / 170"
       ]
      },
      {
       "output_type": "stream",
       "stream": "stdout",
       "text": [
        "\r",
        "k =  38 / 170"
       ]
      },
      {
       "output_type": "stream",
       "stream": "stdout",
       "text": [
        "\r",
        "k =  39 / 170"
       ]
      },
      {
       "output_type": "stream",
       "stream": "stdout",
       "text": [
        "\r",
        "k =  40 / 170"
       ]
      },
      {
       "output_type": "stream",
       "stream": "stdout",
       "text": [
        "\r",
        "k =  41 / 170"
       ]
      },
      {
       "output_type": "stream",
       "stream": "stdout",
       "text": [
        "\r",
        "k =  42 / 170"
       ]
      },
      {
       "output_type": "stream",
       "stream": "stdout",
       "text": [
        "\r",
        "k =  43 / 170"
       ]
      },
      {
       "output_type": "stream",
       "stream": "stdout",
       "text": [
        "\r",
        "k =  44 / 170"
       ]
      },
      {
       "output_type": "stream",
       "stream": "stdout",
       "text": [
        "\r",
        "k =  45 / 170"
       ]
      },
      {
       "output_type": "stream",
       "stream": "stdout",
       "text": [
        "\r",
        "k =  46 / 170"
       ]
      },
      {
       "output_type": "stream",
       "stream": "stdout",
       "text": [
        "\r",
        "k =  47 / 170"
       ]
      },
      {
       "output_type": "stream",
       "stream": "stdout",
       "text": [
        "\r",
        "k =  48 / 170"
       ]
      },
      {
       "output_type": "stream",
       "stream": "stdout",
       "text": [
        "\r",
        "k =  49 / 170"
       ]
      },
      {
       "output_type": "stream",
       "stream": "stdout",
       "text": [
        "\r",
        "k =  50 / 170"
       ]
      },
      {
       "output_type": "stream",
       "stream": "stdout",
       "text": [
        "\r",
        "k =  51 / 170"
       ]
      },
      {
       "output_type": "stream",
       "stream": "stdout",
       "text": [
        "\r",
        "k =  52 / 170"
       ]
      },
      {
       "output_type": "stream",
       "stream": "stdout",
       "text": [
        "\r",
        "k =  53 / 170"
       ]
      },
      {
       "output_type": "stream",
       "stream": "stdout",
       "text": [
        "\r",
        "k =  54 / 170"
       ]
      },
      {
       "output_type": "stream",
       "stream": "stdout",
       "text": [
        "\r",
        "k =  55 / 170"
       ]
      },
      {
       "output_type": "stream",
       "stream": "stdout",
       "text": [
        "\r",
        "k =  56 / 170"
       ]
      },
      {
       "output_type": "stream",
       "stream": "stdout",
       "text": [
        "\r",
        "k =  57 / 170"
       ]
      },
      {
       "output_type": "stream",
       "stream": "stdout",
       "text": [
        "\r",
        "k =  58 / 170"
       ]
      },
      {
       "output_type": "stream",
       "stream": "stdout",
       "text": [
        "\r",
        "k =  59 / 170"
       ]
      },
      {
       "output_type": "stream",
       "stream": "stdout",
       "text": [
        "\r",
        "k =  60 / 170"
       ]
      },
      {
       "output_type": "stream",
       "stream": "stdout",
       "text": [
        "\r",
        "k =  61 / 170"
       ]
      },
      {
       "output_type": "stream",
       "stream": "stdout",
       "text": [
        "\r",
        "k =  62 / 170"
       ]
      },
      {
       "output_type": "stream",
       "stream": "stdout",
       "text": [
        "\r",
        "k =  63 / 170"
       ]
      },
      {
       "output_type": "stream",
       "stream": "stdout",
       "text": [
        "\r",
        "k =  64 / 170"
       ]
      },
      {
       "output_type": "stream",
       "stream": "stdout",
       "text": [
        "\r",
        "k =  65 / 170"
       ]
      },
      {
       "output_type": "stream",
       "stream": "stdout",
       "text": [
        "\r",
        "k =  66 / 170"
       ]
      },
      {
       "output_type": "stream",
       "stream": "stdout",
       "text": [
        "\r",
        "k =  67 / 170"
       ]
      },
      {
       "output_type": "stream",
       "stream": "stdout",
       "text": [
        "\r",
        "k =  68 / 170"
       ]
      },
      {
       "output_type": "stream",
       "stream": "stdout",
       "text": [
        "\r",
        "k =  69 / 170"
       ]
      },
      {
       "output_type": "stream",
       "stream": "stdout",
       "text": [
        "\r",
        "k =  70 / 170"
       ]
      },
      {
       "output_type": "stream",
       "stream": "stdout",
       "text": [
        "\r",
        "k =  71 / 170"
       ]
      },
      {
       "output_type": "stream",
       "stream": "stdout",
       "text": [
        "\r",
        "k =  72 / 170"
       ]
      },
      {
       "output_type": "stream",
       "stream": "stdout",
       "text": [
        "\r",
        "k =  73 / 170"
       ]
      },
      {
       "output_type": "stream",
       "stream": "stdout",
       "text": [
        "\r",
        "k =  74 / 170"
       ]
      },
      {
       "output_type": "stream",
       "stream": "stdout",
       "text": [
        "\r",
        "k =  75 / 170"
       ]
      },
      {
       "output_type": "stream",
       "stream": "stdout",
       "text": [
        "\r",
        "k =  76 / 170"
       ]
      },
      {
       "output_type": "stream",
       "stream": "stdout",
       "text": [
        "\r",
        "k =  77 / 170"
       ]
      },
      {
       "output_type": "stream",
       "stream": "stdout",
       "text": [
        "\r",
        "k =  78 / 170"
       ]
      },
      {
       "output_type": "stream",
       "stream": "stdout",
       "text": [
        "\r",
        "k =  79 / 170"
       ]
      },
      {
       "output_type": "stream",
       "stream": "stdout",
       "text": [
        "\r",
        "k =  80 / 170"
       ]
      },
      {
       "output_type": "stream",
       "stream": "stdout",
       "text": [
        "\r",
        "k =  81 / 170"
       ]
      },
      {
       "output_type": "stream",
       "stream": "stdout",
       "text": [
        "\r",
        "k =  82 / 170"
       ]
      },
      {
       "output_type": "stream",
       "stream": "stdout",
       "text": [
        "\r",
        "k =  83 / 170"
       ]
      },
      {
       "output_type": "stream",
       "stream": "stdout",
       "text": [
        "\r",
        "k =  84 / 170"
       ]
      },
      {
       "output_type": "stream",
       "stream": "stdout",
       "text": [
        "\r",
        "k =  85 / 170"
       ]
      },
      {
       "output_type": "stream",
       "stream": "stdout",
       "text": [
        "\r",
        "k =  86 / 170"
       ]
      },
      {
       "output_type": "stream",
       "stream": "stdout",
       "text": [
        "\r",
        "k =  87 / 170"
       ]
      },
      {
       "output_type": "stream",
       "stream": "stdout",
       "text": [
        "\r",
        "k =  88 / 170"
       ]
      },
      {
       "output_type": "stream",
       "stream": "stdout",
       "text": [
        "\r",
        "k =  89 / 170"
       ]
      },
      {
       "output_type": "stream",
       "stream": "stdout",
       "text": [
        "\r",
        "k =  90 / 170"
       ]
      },
      {
       "output_type": "stream",
       "stream": "stdout",
       "text": [
        "\r",
        "k =  91 / 170"
       ]
      },
      {
       "output_type": "stream",
       "stream": "stdout",
       "text": [
        "\r",
        "k =  92 / 170"
       ]
      },
      {
       "output_type": "stream",
       "stream": "stdout",
       "text": [
        "\r",
        "k =  93 / 170"
       ]
      },
      {
       "output_type": "stream",
       "stream": "stdout",
       "text": [
        "\r",
        "k =  94 / 170"
       ]
      },
      {
       "output_type": "stream",
       "stream": "stdout",
       "text": [
        "\r",
        "k =  95 / 170"
       ]
      },
      {
       "output_type": "stream",
       "stream": "stdout",
       "text": [
        "\r",
        "k =  96 / 170"
       ]
      },
      {
       "output_type": "stream",
       "stream": "stdout",
       "text": [
        "\r",
        "k =  97 / 170"
       ]
      },
      {
       "output_type": "stream",
       "stream": "stdout",
       "text": [
        "\r",
        "k =  98 / 170"
       ]
      },
      {
       "output_type": "stream",
       "stream": "stdout",
       "text": [
        "\r",
        "k =  99 / 170"
       ]
      },
      {
       "output_type": "stream",
       "stream": "stdout",
       "text": [
        "\r",
        "k = 100 / 170"
       ]
      },
      {
       "output_type": "stream",
       "stream": "stdout",
       "text": [
        "\r",
        "k = 101 / 170"
       ]
      },
      {
       "output_type": "stream",
       "stream": "stdout",
       "text": [
        "\r",
        "k = 102 / 170"
       ]
      },
      {
       "output_type": "stream",
       "stream": "stdout",
       "text": [
        "\r",
        "k = 103 / 170"
       ]
      },
      {
       "output_type": "stream",
       "stream": "stdout",
       "text": [
        "\r",
        "k = 104 / 170"
       ]
      },
      {
       "output_type": "stream",
       "stream": "stdout",
       "text": [
        "\r",
        "k = 105 / 170"
       ]
      },
      {
       "output_type": "stream",
       "stream": "stdout",
       "text": [
        "\r",
        "k = 106 / 170"
       ]
      },
      {
       "output_type": "stream",
       "stream": "stdout",
       "text": [
        "\r",
        "k = 107 / 170"
       ]
      },
      {
       "output_type": "stream",
       "stream": "stdout",
       "text": [
        "\r",
        "k = 108 / 170"
       ]
      },
      {
       "output_type": "stream",
       "stream": "stdout",
       "text": [
        "\r",
        "k = 109 / 170"
       ]
      },
      {
       "output_type": "stream",
       "stream": "stdout",
       "text": [
        "\r",
        "k = 110 / 170"
       ]
      },
      {
       "output_type": "stream",
       "stream": "stdout",
       "text": [
        "\r",
        "k = 111 / 170"
       ]
      },
      {
       "output_type": "stream",
       "stream": "stdout",
       "text": [
        "\r",
        "k = 112 / 170"
       ]
      },
      {
       "output_type": "stream",
       "stream": "stdout",
       "text": [
        "\r",
        "k = 113 / 170"
       ]
      },
      {
       "output_type": "stream",
       "stream": "stdout",
       "text": [
        "\r",
        "k = 114 / 170"
       ]
      },
      {
       "output_type": "stream",
       "stream": "stdout",
       "text": [
        "\r",
        "k = 115 / 170"
       ]
      },
      {
       "output_type": "stream",
       "stream": "stdout",
       "text": [
        "\r",
        "k = 116 / 170"
       ]
      },
      {
       "output_type": "stream",
       "stream": "stdout",
       "text": [
        "\r",
        "k = 117 / 170"
       ]
      },
      {
       "output_type": "stream",
       "stream": "stdout",
       "text": [
        "\r",
        "k = 118 / 170"
       ]
      },
      {
       "output_type": "stream",
       "stream": "stdout",
       "text": [
        "\r",
        "k = 119 / 170"
       ]
      },
      {
       "output_type": "stream",
       "stream": "stdout",
       "text": [
        "\r",
        "k = 120 / 170"
       ]
      },
      {
       "output_type": "stream",
       "stream": "stdout",
       "text": [
        "\r",
        "k = 121 / 170"
       ]
      },
      {
       "output_type": "stream",
       "stream": "stdout",
       "text": [
        "\r",
        "k = 122 / 170"
       ]
      },
      {
       "output_type": "stream",
       "stream": "stdout",
       "text": [
        "\r",
        "k = 123 / 170"
       ]
      },
      {
       "output_type": "stream",
       "stream": "stdout",
       "text": [
        "\r",
        "k = 124 / 170"
       ]
      },
      {
       "output_type": "stream",
       "stream": "stdout",
       "text": [
        "\r",
        "k = 125 / 170"
       ]
      },
      {
       "output_type": "stream",
       "stream": "stdout",
       "text": [
        "\r",
        "k = 126 / 170"
       ]
      },
      {
       "output_type": "stream",
       "stream": "stdout",
       "text": [
        "\r",
        "k = 127 / 170"
       ]
      },
      {
       "output_type": "stream",
       "stream": "stdout",
       "text": [
        "\r",
        "k = 128 / 170"
       ]
      },
      {
       "output_type": "stream",
       "stream": "stdout",
       "text": [
        "\r",
        "k = 129 / 170"
       ]
      },
      {
       "output_type": "stream",
       "stream": "stdout",
       "text": [
        "\r",
        "k = 130 / 170"
       ]
      },
      {
       "output_type": "stream",
       "stream": "stdout",
       "text": [
        "\r",
        "k = 131 / 170"
       ]
      },
      {
       "output_type": "stream",
       "stream": "stdout",
       "text": [
        "\r",
        "k = 132 / 170"
       ]
      },
      {
       "output_type": "stream",
       "stream": "stdout",
       "text": [
        "\r",
        "k = 133 / 170"
       ]
      },
      {
       "output_type": "stream",
       "stream": "stdout",
       "text": [
        "\r",
        "k = 134 / 170"
       ]
      },
      {
       "output_type": "stream",
       "stream": "stdout",
       "text": [
        "\r",
        "k = 135 / 170"
       ]
      },
      {
       "output_type": "stream",
       "stream": "stdout",
       "text": [
        "\r",
        "k = 136 / 170"
       ]
      },
      {
       "output_type": "stream",
       "stream": "stdout",
       "text": [
        "\r",
        "k = 137 / 170"
       ]
      },
      {
       "output_type": "stream",
       "stream": "stdout",
       "text": [
        "\r",
        "k = 138 / 170"
       ]
      },
      {
       "output_type": "stream",
       "stream": "stdout",
       "text": [
        "\r",
        "k = 139 / 170"
       ]
      },
      {
       "output_type": "stream",
       "stream": "stdout",
       "text": [
        "\r",
        "k = 140 / 170"
       ]
      },
      {
       "output_type": "stream",
       "stream": "stdout",
       "text": [
        "\r",
        "k = 141 / 170"
       ]
      },
      {
       "output_type": "stream",
       "stream": "stdout",
       "text": [
        "\r",
        "k = 142 / 170"
       ]
      },
      {
       "output_type": "stream",
       "stream": "stdout",
       "text": [
        "\r",
        "k = 143 / 170"
       ]
      },
      {
       "output_type": "stream",
       "stream": "stdout",
       "text": [
        "\r",
        "k = 144 / 170"
       ]
      },
      {
       "output_type": "stream",
       "stream": "stdout",
       "text": [
        "\r",
        "k = 145 / 170"
       ]
      },
      {
       "output_type": "stream",
       "stream": "stdout",
       "text": [
        "\r",
        "k = 146 / 170"
       ]
      },
      {
       "output_type": "stream",
       "stream": "stdout",
       "text": [
        "\r",
        "k = 147 / 170"
       ]
      },
      {
       "output_type": "stream",
       "stream": "stdout",
       "text": [
        "\r",
        "k = 148 / 170"
       ]
      },
      {
       "output_type": "stream",
       "stream": "stdout",
       "text": [
        "\r",
        "k = 149 / 170"
       ]
      },
      {
       "output_type": "stream",
       "stream": "stdout",
       "text": [
        "\r",
        "k = 150 / 170"
       ]
      },
      {
       "output_type": "stream",
       "stream": "stdout",
       "text": [
        "\r",
        "k = 151 / 170"
       ]
      },
      {
       "output_type": "stream",
       "stream": "stdout",
       "text": [
        "\r",
        "k = 152 / 170"
       ]
      },
      {
       "output_type": "stream",
       "stream": "stdout",
       "text": [
        "\r",
        "k = 153 / 170"
       ]
      },
      {
       "output_type": "stream",
       "stream": "stdout",
       "text": [
        "\r",
        "k = 154 / 170"
       ]
      },
      {
       "output_type": "stream",
       "stream": "stdout",
       "text": [
        "\r",
        "k = 155 / 170"
       ]
      },
      {
       "output_type": "stream",
       "stream": "stdout",
       "text": [
        "\r",
        "k = 156 / 170"
       ]
      },
      {
       "output_type": "stream",
       "stream": "stdout",
       "text": [
        "\r",
        "k = 157 / 170"
       ]
      },
      {
       "output_type": "stream",
       "stream": "stdout",
       "text": [
        "\r",
        "k = 158 / 170"
       ]
      },
      {
       "output_type": "stream",
       "stream": "stdout",
       "text": [
        "\r",
        "k = 159 / 170"
       ]
      },
      {
       "output_type": "stream",
       "stream": "stdout",
       "text": [
        "\r",
        "k = 160 / 170"
       ]
      },
      {
       "output_type": "stream",
       "stream": "stdout",
       "text": [
        "\r",
        "k = 161 / 170"
       ]
      },
      {
       "output_type": "stream",
       "stream": "stdout",
       "text": [
        "\r",
        "k = 162 / 170"
       ]
      },
      {
       "output_type": "stream",
       "stream": "stdout",
       "text": [
        "\r",
        "k = 163 / 170"
       ]
      },
      {
       "output_type": "stream",
       "stream": "stdout",
       "text": [
        "\r",
        "k = 164 / 170"
       ]
      },
      {
       "output_type": "stream",
       "stream": "stdout",
       "text": [
        "\r",
        "k = 165 / 170"
       ]
      },
      {
       "output_type": "stream",
       "stream": "stdout",
       "text": [
        "\r",
        "k = 166 / 170"
       ]
      },
      {
       "output_type": "stream",
       "stream": "stdout",
       "text": [
        "\r",
        "k = 167 / 170"
       ]
      },
      {
       "output_type": "stream",
       "stream": "stdout",
       "text": [
        "\r",
        "k = 168 / 170"
       ]
      },
      {
       "output_type": "stream",
       "stream": "stdout",
       "text": [
        "\r",
        "k = 169 / 170"
       ]
      },
      {
       "output_type": "stream",
       "stream": "stdout",
       "text": [
        "\r",
        "k = 170 / 170"
       ]
      },
      {
       "output_type": "stream",
       "stream": "stdout",
       "text": [
        "\n",
        "df_preflop_hand_distrib time =  29.4477 s\n",
        "--------------- end create_df_preflop_hand_distrib\n"
       ]
      }
     ],
     "prompt_number": 14
    },
    {
     "cell_type": "markdown",
     "metadata": {},
     "source": [
      "Below is displayed a fraction of the distribution of hand ranks per preflop hand."
     ]
    },
    {
     "cell_type": "code",
     "collapsed": false,
     "input": [
      "#df_preflop_hand_distrib = pd.read_pickle(os.path.join('Tables', 'df_preflop_hand_distrib.pd'))\n",
      "HTML('''<style>\n",
      "    .df1 { font-size: 11px; }\n",
      "    </style>''' + df_preflop_hand_distrib.ix[:, :30].tail(5).to_html(classes='df1'))"
     ],
     "language": "python",
     "metadata": {},
     "outputs": [
      {
       "html": [
        "<style>\n",
        "    .df1 { font-size: 11px; }\n",
        "    </style><table border=\"1\" class=\"dataframe df1\">\n",
        "  <thead>\n",
        "    <tr style=\"text-align: right;\">\n",
        "      <th></th>\n",
        "      <th>NoHand</th>\n",
        "      <th>AAo</th>\n",
        "      <th>AKs</th>\n",
        "      <th>AQs</th>\n",
        "      <th>AJs</th>\n",
        "      <th>ATs</th>\n",
        "      <th>A9s</th>\n",
        "      <th>A8s</th>\n",
        "      <th>A7s</th>\n",
        "      <th>A6s</th>\n",
        "      <th>A5s</th>\n",
        "      <th>A4s</th>\n",
        "      <th>A3s</th>\n",
        "      <th>A2s</th>\n",
        "      <th>KAo</th>\n",
        "      <th>KKo</th>\n",
        "      <th>KQs</th>\n",
        "      <th>KJs</th>\n",
        "      <th>KTs</th>\n",
        "      <th>K9s</th>\n",
        "      <th>K8s</th>\n",
        "      <th>K7s</th>\n",
        "      <th>K6s</th>\n",
        "      <th>K5s</th>\n",
        "      <th>K4s</th>\n",
        "      <th>K3s</th>\n",
        "      <th>K2s</th>\n",
        "      <th>QAo</th>\n",
        "      <th>QKo</th>\n",
        "      <th>QQo</th>\n",
        "    </tr>\n",
        "  </thead>\n",
        "  <tbody>\n",
        "    <tr>\n",
        "      <th>7457</th>\n",
        "      <td> 4140</td>\n",
        "      <td>  4</td>\n",
        "      <td>    4</td>\n",
        "      <td>    4</td>\n",
        "      <td>    3</td>\n",
        "      <td>   48</td>\n",
        "      <td> 48</td>\n",
        "      <td> 48</td>\n",
        "      <td> 48</td>\n",
        "      <td> 48</td>\n",
        "      <td>  4</td>\n",
        "      <td>  4</td>\n",
        "      <td>  4</td>\n",
        "      <td>  4</td>\n",
        "      <td>  4</td>\n",
        "      <td>  4</td>\n",
        "      <td>    4</td>\n",
        "      <td>    3</td>\n",
        "      <td>   48</td>\n",
        "      <td>   48</td>\n",
        "      <td> 48</td>\n",
        "      <td> 48</td>\n",
        "      <td> 48</td>\n",
        "      <td>  4</td>\n",
        "      <td>  4</td>\n",
        "      <td>  4</td>\n",
        "      <td>  4</td>\n",
        "      <td>  4</td>\n",
        "      <td>  4</td>\n",
        "      <td>  4</td>\n",
        "    </tr>\n",
        "    <tr>\n",
        "      <th>7458</th>\n",
        "      <td> 4140</td>\n",
        "      <td>  4</td>\n",
        "      <td>    4</td>\n",
        "      <td>    3</td>\n",
        "      <td>   48</td>\n",
        "      <td>   48</td>\n",
        "      <td> 48</td>\n",
        "      <td> 48</td>\n",
        "      <td> 48</td>\n",
        "      <td>  4</td>\n",
        "      <td>  4</td>\n",
        "      <td>  4</td>\n",
        "      <td>  4</td>\n",
        "      <td>  4</td>\n",
        "      <td>  4</td>\n",
        "      <td>  4</td>\n",
        "      <td>    3</td>\n",
        "      <td>   48</td>\n",
        "      <td>   48</td>\n",
        "      <td>   48</td>\n",
        "      <td> 48</td>\n",
        "      <td> 48</td>\n",
        "      <td>  4</td>\n",
        "      <td>  4</td>\n",
        "      <td>  4</td>\n",
        "      <td>  4</td>\n",
        "      <td>  4</td>\n",
        "      <td>  3</td>\n",
        "      <td>  3</td>\n",
        "      <td>  2</td>\n",
        "    </tr>\n",
        "    <tr>\n",
        "      <th>7459</th>\n",
        "      <td> 4140</td>\n",
        "      <td>  4</td>\n",
        "      <td>    3</td>\n",
        "      <td>   48</td>\n",
        "      <td>   48</td>\n",
        "      <td>   48</td>\n",
        "      <td> 48</td>\n",
        "      <td> 48</td>\n",
        "      <td>  4</td>\n",
        "      <td>  4</td>\n",
        "      <td>  4</td>\n",
        "      <td>  4</td>\n",
        "      <td>  4</td>\n",
        "      <td>  4</td>\n",
        "      <td>  3</td>\n",
        "      <td>  2</td>\n",
        "      <td>    3</td>\n",
        "      <td>    3</td>\n",
        "      <td>    3</td>\n",
        "      <td>    3</td>\n",
        "      <td>  3</td>\n",
        "      <td>  3</td>\n",
        "      <td>  3</td>\n",
        "      <td>  3</td>\n",
        "      <td>  3</td>\n",
        "      <td>  3</td>\n",
        "      <td>  3</td>\n",
        "      <td> 48</td>\n",
        "      <td> 47</td>\n",
        "      <td> 92</td>\n",
        "    </tr>\n",
        "    <tr>\n",
        "      <th>7460</th>\n",
        "      <td> 4140</td>\n",
        "      <td>  2</td>\n",
        "      <td>    3</td>\n",
        "      <td>    3</td>\n",
        "      <td>    3</td>\n",
        "      <td>    3</td>\n",
        "      <td>  3</td>\n",
        "      <td>  3</td>\n",
        "      <td>  3</td>\n",
        "      <td>  3</td>\n",
        "      <td>  3</td>\n",
        "      <td>  3</td>\n",
        "      <td>  3</td>\n",
        "      <td>  3</td>\n",
        "      <td> 47</td>\n",
        "      <td> 92</td>\n",
        "      <td> 1038</td>\n",
        "      <td> 1038</td>\n",
        "      <td> 1038</td>\n",
        "      <td> 1038</td>\n",
        "      <td> 48</td>\n",
        "      <td> 48</td>\n",
        "      <td> 48</td>\n",
        "      <td> 48</td>\n",
        "      <td> 48</td>\n",
        "      <td> 48</td>\n",
        "      <td> 48</td>\n",
        "      <td> 47</td>\n",
        "      <td> 92</td>\n",
        "      <td> 92</td>\n",
        "    </tr>\n",
        "    <tr>\n",
        "      <th>7461</th>\n",
        "      <td> 4324</td>\n",
        "      <td> 94</td>\n",
        "      <td> 1084</td>\n",
        "      <td> 1084</td>\n",
        "      <td> 1084</td>\n",
        "      <td> 1084</td>\n",
        "      <td> 49</td>\n",
        "      <td> 49</td>\n",
        "      <td> 49</td>\n",
        "      <td> 49</td>\n",
        "      <td> 49</td>\n",
        "      <td> 49</td>\n",
        "      <td> 49</td>\n",
        "      <td> 49</td>\n",
        "      <td> 94</td>\n",
        "      <td> 94</td>\n",
        "      <td> 1084</td>\n",
        "      <td> 1084</td>\n",
        "      <td> 1084</td>\n",
        "      <td>   49</td>\n",
        "      <td> 49</td>\n",
        "      <td> 49</td>\n",
        "      <td> 49</td>\n",
        "      <td> 49</td>\n",
        "      <td> 49</td>\n",
        "      <td> 49</td>\n",
        "      <td> 49</td>\n",
        "      <td> 94</td>\n",
        "      <td> 94</td>\n",
        "      <td> 94</td>\n",
        "    </tr>\n",
        "  </tbody>\n",
        "</table>"
       ],
       "metadata": {},
       "output_type": "pyout",
       "prompt_number": 17,
       "text": [
        "<IPython.core.display.HTML at 0x118f60f90>"
       ]
      }
     ],
     "prompt_number": 17
    },
    {
     "cell_type": "markdown",
     "metadata": {},
     "source": [
      "Below is plotted the distribution of hand ranks for one particular preflop hand, compared with the native distribution (all preflop hands being equally probable)."
     ]
    },
    {
     "cell_type": "code",
     "collapsed": false,
     "input": [
      "hand = ('A5s')\n",
      "idx = EvalAnalysis.preflop_hand_str_order(hand, return_index=True)\n",
      "s = df_preflop_hand_distrib.ix[:, idx]\n",
      "s_ref = df_preflop_hand_distrib.ix[:, 0]\n",
      "s_ref = s_ref*1.0*s.sum()/s_ref.sum()\n",
      "\n",
      "\n",
      "# exact plot \n",
      "fig=pl.figure(figsize=(10, 8))\n",
      "s_ref.plot(color=\"#6495ED\", alpha=0.3)\n",
      "s.plot(color=\"#F08080\", alpha=0.5)\n",
      "pl.title('Distribution of hand ranks for a preflop hand')\n",
      "pl.xlabel('Hand Rank')\n",
      "pl.ylabel('Nb of Hands')\n",
      "pl.legend()\n",
      "pl.show()\n",
      "\n",
      "\n",
      "# plot by hand type buckets\n",
      "bins = np.r_[df_hand_five['MinRank'].values[:-1][::-1],\n",
      "             df_hand_five['MaxRank'].values[0]+1]\n",
      "\n",
      "s_bin = np.zeros([bins.size-1], dtype=np.float32)\n",
      "for k in range(bins.size-1):\n",
      "\ts_bin[k] = s[bins[k]:bins[k+1]].sum()\n",
      "s_bin = pd.Series(s_bin, index=df_hand_five['HandType'][:-1][::-1], name=s.name)\n",
      "\n",
      "s_ref_bin = np.zeros([bins.size-1], dtype=np.float32)\n",
      "for k in range(bins.size-1):\n",
      "\ts_ref_bin[k] = s_ref[bins[k]:bins[k+1]].sum()\n",
      "s_ref_bin = pd.Series(s_ref_bin, index=df_hand_five['HandType'][:-1][::-1], name=s_ref.name)\n",
      "\n",
      "fig=pl.figure(figsize=(10, 8))\n",
      "s_ref_bin.plot(kind='bar', color=\"#6495ED\", alpha=0.3)\n",
      "s_bin.plot(kind='bar', color=\"#F08080\", alpha=0.5)\n",
      "pl.title('Distribution of hand ranks for a preflop hand')\n",
      "pl.ylabel('Nb of Hands')\n",
      "pl.legend()\n",
      "pl.show()\n",
      "\n",
      "\n",
      "# plot by same sized hand rank buckets\n",
      "bins_1 = np.array(np.linspace(1, 7462, 50), dtype=np.int32)\n",
      "\n",
      "s_bin_1 = np.zeros([bins_1.size-1], dtype=np.float32)\n",
      "for k in range(bins_1.size-1):\n",
      "\ts_bin_1[k] = s[bins_1[k]:bins_1[k+1]].sum()\n",
      "s_bin_1 = pd.Series(s_bin_1, name=s.name)\n",
      "\n",
      "s_ref_bin_1 = np.zeros([bins_1.size-1], dtype=np.float32)\n",
      "for k in range(bins_1.size-1):\n",
      "\ts_ref_bin_1[k] = s_ref[bins_1[k]:bins_1[k+1]].sum()\n",
      "s_ref_bin_1 = pd.Series(s_ref_bin_1, name=s_ref.name)\n",
      "\n",
      "fig=pl.figure(figsize=(10, 8))\n",
      "s_ref_bin_1.plot(kind='bar', color=\"#6495ED\", alpha=0.3)\n",
      "s_bin_1.plot(kind='bar', color=\"#F08080\", alpha=0.5)\n",
      "pl.title('Distribution of hand ranks for a preflop hand')\n",
      "pl.xlabel('Hand Rank Bucket Nb')\n",
      "pl.ylabel('Nb of Hands')\n",
      "pl.legend()\n",
      "pl.show()\n"
     ],
     "language": "python",
     "metadata": {},
     "outputs": [
      {
       "metadata": {},
       "output_type": "display_data",
       "png": "[encoded data removed]",
       "text": [
        "<matplotlib.figure.Figure at 0x118fdc4d0>"
       ]
      },
      {
       "metadata": {},
       "output_type": "display_data",
       "png": "[encoded data removed]",
       "text": [
        "<matplotlib.figure.Figure at 0x119002cd0>"
       ]
      },
      {
       "metadata": {},
       "output_type": "display_data",
       "png": "[encoded data removed]",
       "text": [
        "<matplotlib.figure.Figure at 0x114d7c990>"
       ]
      }
     ],
     "prompt_number": 18
    },
    {
     "cell_type": "markdown",
     "metadata": {},
     "source": [
      "Below is the visualisation of pre flop hand rank distributions for all preflop hands.  \n",
      "[Here](http://oscar6echo.github.io/Poker2/viz/one_preflop_hand/) is the native page."
     ]
    },
    {
     "cell_type": "code",
     "collapsed": false,
     "input": [
      "from IPython.display import HTML\n",
      "HTML(\"\"\"<div class=\"wrapper\" style=\"height: 850px; overflow: hidden; padding: 0; text-align: center; width: 850px;\">\n",
      "<iframe scrolling=\"no\" src=\"http://oscar6echo.github.io/Poker2/viz/one_preflop_hand/\" \n",
      "style=\"-moz-transform-origin: 0 0;\n",
      "-moz-transform: scale(1.0);\n",
      "-o-transform-origin: 0 0;\n",
      "-o-transform: scale(1.0);\n",
      "-webkit-transform-origin: 0 0;\n",
      "-webkit-transform: scale(1.0);\n",
      "border: 0px black solid; \n",
      "height: 850px; \n",
      "overflow: hidden;\n",
      "width: 850px; \n",
      "zoom: 1.0;\">\n",
      "</iframe>\n",
      "</div>'\"\"\")"
     ],
     "language": "python",
     "metadata": {},
     "outputs": [
      {
       "html": [
        "<div class=\"wrapper\" style=\"height: 850px; overflow: hidden; padding: 0; text-align: center; width: 850px;\">\n",
        "<iframe scrolling=\"no\" src=\"http://oscar6echo.github.io/Poker2/viz/one_preflop_hand/\" \n",
        "style=\"-moz-transform-origin: 0 0;\n",
        "-moz-transform: scale(1.0);\n",
        "-o-transform-origin: 0 0;\n",
        "-o-transform: scale(1.0);\n",
        "-webkit-transform-origin: 0 0;\n",
        "-webkit-transform: scale(1.0);\n",
        "border: 0px black solid; \n",
        "height: 850px; \n",
        "overflow: hidden;\n",
        "width: 850px; \n",
        "zoom: 1.0;\">\n",
        "</iframe>\n",
        "</div>'"
       ],
       "metadata": {},
       "output_type": "pyout",
       "prompt_number": 56,
       "text": [
        "<IPython.core.display.HTML at 0x11c73efd0>"
       ]
      }
     ],
     "prompt_number": 56
    },
    {
     "cell_type": "markdown",
     "metadata": {},
     "source": [
      "Now, instead of considering a single pre flop hand, we compare all pairs of pre flop hands.\n",
      "First we determine all possible pairs.\n",
      "Provisionally there are C(169,2)+169 = 14,365 possible pairs. But on closer inspection, for each such pair, there may be several combinations of suits in both hands. Specifically, the combinations of suits depends on whether each hand is suited/offsuited, a pair/not a pair. The exhaustive range of combinations is in the tables below."
     ]
    },
    {
     "cell_type": "code",
     "collapsed": false,
     "input": [
      "all_preflop_two_hands = EvalAnalysis.all_preflop_two_hands\n",
      "n = len(all_preflop_hands)\n",
      "print 'nb of preflop two hands = {}'.format(EvalAnalysis.C(n, 2)+n)\n",
      "(all_preflop_two_hands[:10], all_preflop_two_hands[-10:])"
     ],
     "language": "python",
     "metadata": {},
     "outputs": [
      {
       "output_type": "stream",
       "stream": "stdout",
       "text": [
        "nb of preflop two hands = 14365\n"
       ]
      },
      {
       "metadata": {},
       "output_type": "pyout",
       "prompt_number": 14,
       "text": [
        "([('AAo', 'AKs'),\n",
        "  ('AAo', 'AQs'),\n",
        "  ('AAo', 'AJs'),\n",
        "  ('AAo', 'ATs'),\n",
        "  ('AAo', 'A9s'),\n",
        "  ('AAo', 'A8s'),\n",
        "  ('AAo', 'A7s'),\n",
        "  ('AAo', 'A6s'),\n",
        "  ('AAo', 'A5s'),\n",
        "  ('AAo', 'A4s')],\n",
        " [('2Jo', '2Jo'),\n",
        "  ('2To', '2To'),\n",
        "  ('29o', '29o'),\n",
        "  ('28o', '28o'),\n",
        "  ('27o', '27o'),\n",
        "  ('26o', '26o'),\n",
        "  ('25o', '25o'),\n",
        "  ('24o', '24o'),\n",
        "  ('23o', '23o'),\n",
        "  ('22o', '22o')])"
       ]
      }
     ],
     "prompt_number": 14
    },
    {
     "cell_type": "code",
     "collapsed": false,
     "input": [
      "pfh_combin = EvalAnalysis.pfh_combin\n",
      "suit_combin = EvalAnalysis.suit_combin\n",
      "suit_combin_freq = EvalAnalysis.suit_combin_freq\n",
      "suit_symbol_html = EvalAnalysis.suit_symbol_html\n",
      "top_row = ['']+range(8)\n",
      "rng_row = range(len(pfh_combin))\n",
      "rng_col = range(max([len(e) for e in suit_combin]))\n",
      "\n",
      "jinja_template = \"\"\"\n",
      "<table style=\"border:0px;\">\n",
      "<tr style=\"border:0px; border-bottom:1px solid #999;\">\n",
      "    <td style=\"border-width:0px; border-right:1px solid #999;\"></td>\n",
      "    {% for col in rngcol %}\n",
      "        <td style=\"border:0px; text-align:center;\">{{ col+1 }}</td>\n",
      "    {% endfor %}\n",
      "</tr>\n",
      "{% for row in pfhcombin %}\n",
      "    {% set outer_loop = loop %}\n",
      "    <tr style=\"border:0px;\">\n",
      "        <td style=\"border:0px; border-right:1px solid #999; width:260px; font-size:90%;\">{{row}}</td>\n",
      "       {% for col in suitcombin[outer_loop.index0] %}\n",
      "            <td style=\"border:0px; width:60px;  text-align:center; font-size:90%\">\n",
      "            {{freq[outer_loop.index0][loop.index0]}}x[{{symbol[col[0]]}}{{symbol[col[1]]}}-{{symbol[col[2]]}}{{symbol[col[3]]}}]\n",
      "            </td>\n",
      "    {% endfor %}\n",
      "   </tr>\n",
      "{% endfor %}\n",
      "</table>\"\"\"\n",
      "\n",
      "HTML_content = Environment().from_string(jinja_template).render(toprow=top_row,\n",
      "                                                            pfhcombin=pfh_combin,\n",
      "                                                            suitcombin = suit_combin,\n",
      "                                                            freq = suit_combin_freq,\n",
      "                                                            symbol=suit_symbol_html,\n",
      "                                                            rngrow=rng_row,\n",
      "                                                            rngcol=rng_col)\n",
      "HTML(HTML_content)"
     ],
     "language": "python",
     "metadata": {},
     "outputs": [
      {
       "html": [
        "\n",
        "<table style=\"border:0px;\">\n",
        "<tr style=\"border:0px; border-bottom:1px solid #999;\">\n",
        "    <td style=\"border-width:0px; border-right:1px solid #999;\"></td>\n",
        "    \n",
        "        <td style=\"border:0px; text-align:center;\">1</td>\n",
        "    \n",
        "        <td style=\"border:0px; text-align:center;\">2</td>\n",
        "    \n",
        "        <td style=\"border:0px; text-align:center;\">3</td>\n",
        "    \n",
        "        <td style=\"border:0px; text-align:center;\">4</td>\n",
        "    \n",
        "        <td style=\"border:0px; text-align:center;\">5</td>\n",
        "    \n",
        "        <td style=\"border:0px; text-align:center;\">6</td>\n",
        "    \n",
        "        <td style=\"border:0px; text-align:center;\">7</td>\n",
        "    \n",
        "</tr>\n",
        "\n",
        "    \n",
        "    <tr style=\"border:0px;\">\n",
        "        <td style=\"border:0px; border-right:1px solid #999; width:260px; font-size:90%;\">suited - suited</td>\n",
        "       \n",
        "            <td style=\"border:0px; width:60px;  text-align:center; font-size:90%\">\n",
        "            12x[<span style=\"color:back; font-size:125%\">&#x2660</span><span style=\"color:back; font-size:125%\">&#x2660</span>-<span style=\"color:red; font-size:125%\">&#x2665</span><span style=\"color:red; font-size:125%\">&#x2665</span>]\n",
        "            </td>\n",
        "    \n",
        "            <td style=\"border:0px; width:60px;  text-align:center; font-size:90%\">\n",
        "            4x[<span style=\"color:back; font-size:125%\">&#x2660</span><span style=\"color:back; font-size:125%\">&#x2660</span>-<span style=\"color:back; font-size:125%\">&#x2660</span><span style=\"color:back; font-size:125%\">&#x2660</span>]\n",
        "            </td>\n",
        "    \n",
        "   </tr>\n",
        "\n",
        "    \n",
        "    <tr style=\"border:0px;\">\n",
        "        <td style=\"border:0px; border-right:1px solid #999; width:260px; font-size:90%;\">suited - offsuited (no pair)</td>\n",
        "       \n",
        "            <td style=\"border:0px; width:60px;  text-align:center; font-size:90%\">\n",
        "            24x[<span style=\"color:back; font-size:125%\">&#x2660</span><span style=\"color:back; font-size:125%\">&#x2660</span>-<span style=\"color:red; font-size:125%\">&#x2665</span><span style=\"color:red; font-size:125%\">&#x2666</span>]\n",
        "            </td>\n",
        "    \n",
        "            <td style=\"border:0px; width:60px;  text-align:center; font-size:90%\">\n",
        "            12x[<span style=\"color:back; font-size:125%\">&#x2660</span><span style=\"color:back; font-size:125%\">&#x2660</span>-<span style=\"color:red; font-size:125%\">&#x2665</span><span style=\"color:back; font-size:125%\">&#x2660</span>]\n",
        "            </td>\n",
        "    \n",
        "            <td style=\"border:0px; width:60px;  text-align:center; font-size:90%\">\n",
        "            12x[<span style=\"color:back; font-size:125%\">&#x2660</span><span style=\"color:back; font-size:125%\">&#x2660</span>-<span style=\"color:back; font-size:125%\">&#x2660</span><span style=\"color:red; font-size:125%\">&#x2665</span>]\n",
        "            </td>\n",
        "    \n",
        "   </tr>\n",
        "\n",
        "    \n",
        "    <tr style=\"border:0px;\">\n",
        "        <td style=\"border:0px; border-right:1px solid #999; width:260px; font-size:90%;\">suited - offsuited (pair)</td>\n",
        "       \n",
        "            <td style=\"border:0px; width:60px;  text-align:center; font-size:90%\">\n",
        "            24x[<span style=\"color:back; font-size:125%\">&#x2660</span><span style=\"color:back; font-size:125%\">&#x2660</span>-<span style=\"color:red; font-size:125%\">&#x2665</span><span style=\"color:red; font-size:125%\">&#x2666</span>]\n",
        "            </td>\n",
        "    \n",
        "            <td style=\"border:0px; width:60px;  text-align:center; font-size:90%\">\n",
        "            12x[<span style=\"color:back; font-size:125%\">&#x2660</span><span style=\"color:back; font-size:125%\">&#x2660</span>-<span style=\"color:red; font-size:125%\">&#x2665</span><span style=\"color:back; font-size:125%\">&#x2660</span>]\n",
        "            </td>\n",
        "    \n",
        "   </tr>\n",
        "\n",
        "    \n",
        "    <tr style=\"border:0px;\">\n",
        "        <td style=\"border:0px; border-right:1px solid #999; width:260px; font-size:90%;\">offsuited (no pair) - suited</td>\n",
        "       \n",
        "            <td style=\"border:0px; width:60px;  text-align:center; font-size:90%\">\n",
        "            24x[<span style=\"color:red; font-size:125%\">&#x2665</span><span style=\"color:red; font-size:125%\">&#x2666</span>-<span style=\"color:back; font-size:125%\">&#x2660</span><span style=\"color:back; font-size:125%\">&#x2660</span>]\n",
        "            </td>\n",
        "    \n",
        "            <td style=\"border:0px; width:60px;  text-align:center; font-size:90%\">\n",
        "            12x[<span style=\"color:red; font-size:125%\">&#x2665</span><span style=\"color:back; font-size:125%\">&#x2660</span>-<span style=\"color:back; font-size:125%\">&#x2660</span><span style=\"color:back; font-size:125%\">&#x2660</span>]\n",
        "            </td>\n",
        "    \n",
        "            <td style=\"border:0px; width:60px;  text-align:center; font-size:90%\">\n",
        "            12x[<span style=\"color:back; font-size:125%\">&#x2660</span><span style=\"color:red; font-size:125%\">&#x2665</span>-<span style=\"color:back; font-size:125%\">&#x2660</span><span style=\"color:back; font-size:125%\">&#x2660</span>]\n",
        "            </td>\n",
        "    \n",
        "   </tr>\n",
        "\n",
        "    \n",
        "    <tr style=\"border:0px;\">\n",
        "        <td style=\"border:0px; border-right:1px solid #999; width:260px; font-size:90%;\">offsuited (pair) - suited</td>\n",
        "       \n",
        "            <td style=\"border:0px; width:60px;  text-align:center; font-size:90%\">\n",
        "            24x[<span style=\"color:red; font-size:125%\">&#x2665</span><span style=\"color:red; font-size:125%\">&#x2666</span>-<span style=\"color:back; font-size:125%\">&#x2660</span><span style=\"color:back; font-size:125%\">&#x2660</span>]\n",
        "            </td>\n",
        "    \n",
        "            <td style=\"border:0px; width:60px;  text-align:center; font-size:90%\">\n",
        "            12x[<span style=\"color:red; font-size:125%\">&#x2665</span><span style=\"color:back; font-size:125%\">&#x2660</span>-<span style=\"color:back; font-size:125%\">&#x2660</span><span style=\"color:back; font-size:125%\">&#x2660</span>]\n",
        "            </td>\n",
        "    \n",
        "   </tr>\n",
        "\n",
        "    \n",
        "    <tr style=\"border:0px;\">\n",
        "        <td style=\"border:0px; border-right:1px solid #999; width:260px; font-size:90%;\">offsuited (no pair) - offsuited (no pair)</td>\n",
        "       \n",
        "            <td style=\"border:0px; width:60px;  text-align:center; font-size:90%\">\n",
        "            24x[<span style=\"color:back; font-size:125%\">&#x2660</span><span style=\"color:red; font-size:125%\">&#x2665</span>-<span style=\"color:red; font-size:125%\">&#x2666</span><span style=\"color:back; font-size:125%\">&#x2663</span>]\n",
        "            </td>\n",
        "    \n",
        "            <td style=\"border:0px; width:60px;  text-align:center; font-size:90%\">\n",
        "            24x[<span style=\"color:back; font-size:125%\">&#x2660</span><span style=\"color:red; font-size:125%\">&#x2665</span>-<span style=\"color:red; font-size:125%\">&#x2666</span><span style=\"color:red; font-size:125%\">&#x2665</span>]\n",
        "            </td>\n",
        "    \n",
        "            <td style=\"border:0px; width:60px;  text-align:center; font-size:90%\">\n",
        "            24x[<span style=\"color:back; font-size:125%\">&#x2660</span><span style=\"color:red; font-size:125%\">&#x2665</span>-<span style=\"color:red; font-size:125%\">&#x2666</span><span style=\"color:back; font-size:125%\">&#x2660</span>]\n",
        "            </td>\n",
        "    \n",
        "            <td style=\"border:0px; width:60px;  text-align:center; font-size:90%\">\n",
        "            24x[<span style=\"color:back; font-size:125%\">&#x2660</span><span style=\"color:red; font-size:125%\">&#x2665</span>-<span style=\"color:red; font-size:125%\">&#x2665</span><span style=\"color:red; font-size:125%\">&#x2666</span>]\n",
        "            </td>\n",
        "    \n",
        "            <td style=\"border:0px; width:60px;  text-align:center; font-size:90%\">\n",
        "            12x[<span style=\"color:back; font-size:125%\">&#x2660</span><span style=\"color:red; font-size:125%\">&#x2665</span>-<span style=\"color:red; font-size:125%\">&#x2665</span><span style=\"color:back; font-size:125%\">&#x2660</span>]\n",
        "            </td>\n",
        "    \n",
        "            <td style=\"border:0px; width:60px;  text-align:center; font-size:90%\">\n",
        "            24x[<span style=\"color:back; font-size:125%\">&#x2660</span><span style=\"color:red; font-size:125%\">&#x2665</span>-<span style=\"color:back; font-size:125%\">&#x2660</span><span style=\"color:red; font-size:125%\">&#x2666</span>]\n",
        "            </td>\n",
        "    \n",
        "            <td style=\"border:0px; width:60px;  text-align:center; font-size:90%\">\n",
        "            12x[<span style=\"color:back; font-size:125%\">&#x2660</span><span style=\"color:red; font-size:125%\">&#x2665</span>-<span style=\"color:back; font-size:125%\">&#x2660</span><span style=\"color:red; font-size:125%\">&#x2665</span>]\n",
        "            </td>\n",
        "    \n",
        "   </tr>\n",
        "\n",
        "    \n",
        "    <tr style=\"border:0px;\">\n",
        "        <td style=\"border:0px; border-right:1px solid #999; width:260px; font-size:90%;\">offsuited (no pair) - offsuited (pair)</td>\n",
        "       \n",
        "            <td style=\"border:0px; width:60px;  text-align:center; font-size:90%\">\n",
        "            24x[<span style=\"color:back; font-size:125%\">&#x2660</span><span style=\"color:red; font-size:125%\">&#x2665</span>-<span style=\"color:red; font-size:125%\">&#x2666</span><span style=\"color:back; font-size:125%\">&#x2663</span>]\n",
        "            </td>\n",
        "    \n",
        "            <td style=\"border:0px; width:60px;  text-align:center; font-size:90%\">\n",
        "            24x[<span style=\"color:back; font-size:125%\">&#x2660</span><span style=\"color:red; font-size:125%\">&#x2665</span>-<span style=\"color:red; font-size:125%\">&#x2666</span><span style=\"color:red; font-size:125%\">&#x2665</span>]\n",
        "            </td>\n",
        "    \n",
        "            <td style=\"border:0px; width:60px;  text-align:center; font-size:90%\">\n",
        "            24x[<span style=\"color:back; font-size:125%\">&#x2660</span><span style=\"color:red; font-size:125%\">&#x2665</span>-<span style=\"color:red; font-size:125%\">&#x2666</span><span style=\"color:back; font-size:125%\">&#x2660</span>]\n",
        "            </td>\n",
        "    \n",
        "            <td style=\"border:0px; width:60px;  text-align:center; font-size:90%\">\n",
        "            12x[<span style=\"color:back; font-size:125%\">&#x2660</span><span style=\"color:red; font-size:125%\">&#x2665</span>-<span style=\"color:red; font-size:125%\">&#x2665</span><span style=\"color:back; font-size:125%\">&#x2660</span>]\n",
        "            </td>\n",
        "    \n",
        "   </tr>\n",
        "\n",
        "    \n",
        "    <tr style=\"border:0px;\">\n",
        "        <td style=\"border:0px; border-right:1px solid #999; width:260px; font-size:90%;\">offsuited (pair) - offsuited (pair)</td>\n",
        "       \n",
        "            <td style=\"border:0px; width:60px;  text-align:center; font-size:90%\">\n",
        "            24x[<span style=\"color:red; font-size:125%\">&#x2666</span><span style=\"color:back; font-size:125%\">&#x2663</span>-<span style=\"color:back; font-size:125%\">&#x2660</span><span style=\"color:red; font-size:125%\">&#x2665</span>]\n",
        "            </td>\n",
        "    \n",
        "            <td style=\"border:0px; width:60px;  text-align:center; font-size:90%\">\n",
        "            24x[<span style=\"color:red; font-size:125%\">&#x2666</span><span style=\"color:red; font-size:125%\">&#x2665</span>-<span style=\"color:back; font-size:125%\">&#x2660</span><span style=\"color:red; font-size:125%\">&#x2665</span>]\n",
        "            </td>\n",
        "    \n",
        "            <td style=\"border:0px; width:60px;  text-align:center; font-size:90%\">\n",
        "            24x[<span style=\"color:red; font-size:125%\">&#x2666</span><span style=\"color:back; font-size:125%\">&#x2660</span>-<span style=\"color:back; font-size:125%\">&#x2660</span><span style=\"color:red; font-size:125%\">&#x2665</span>]\n",
        "            </td>\n",
        "    \n",
        "            <td style=\"border:0px; width:60px;  text-align:center; font-size:90%\">\n",
        "            12x[<span style=\"color:red; font-size:125%\">&#x2665</span><span style=\"color:back; font-size:125%\">&#x2660</span>-<span style=\"color:back; font-size:125%\">&#x2660</span><span style=\"color:red; font-size:125%\">&#x2665</span>]\n",
        "            </td>\n",
        "    \n",
        "   </tr>\n",
        "\n",
        "</table>"
       ],
       "metadata": {},
       "output_type": "pyout",
       "prompt_number": 19,
       "text": [
        "<IPython.core.display.HTML at 0x11903a7d0>"
       ]
      }
     ],
     "prompt_number": 19
    },
    {
     "cell_type": "markdown",
     "metadata": {},
     "source": [
      "The number of suit combinations ranges from 2 to 7 depending on the pair characteristics (suited/offsuited, pair/no pair) considered. Note that these combinations represent the maximum diversity in terms of suit possibilities for a pre flop hand pair. In several cases these combinations collapse to a narrower range of possibilities. For example, 98o vs. 98o are two offsuited hands, and none is a pair. The table mentions 7 suit combinations, but because the faces overlap, 3 of these combinations disappear, or rather merge into the 4 remaining.\n"
     ]
    },
    {
     "cell_type": "markdown",
     "metadata": {},
     "source": [
      "Below are displayed the exact statistics for the pair of preflop hands {98o, 98o}."
     ]
    },
    {
     "cell_type": "code",
     "collapsed": false,
     "input": [
      "# all_preflop_two_hand_equity = create_all_preflop_two_hand_equity(verbose=False)\n",
      "all_preflop_two_hand_equity = cPickle.load(\n",
      "            open(os.path.join('Tables','all_preflop_two_hand_equity_full.pk'), 'rb'))\n",
      "\n",
      "pair = ('89o', '98o')\n",
      "pair_ordered = EvalAnalysis.preflop_two_hand_str_order(pair, return_index=False)\n",
      "EvalAnalysis.preflop_two_hand_equity(pair_ordered, verbose=True);"
     ],
     "language": "python",
     "metadata": {},
     "outputs": [
      {
       "output_type": "stream",
       "stream": "stdout",
       "text": [
        "preflop hands : ('89o', '89o')\n",
        "suit combination #0"
       ]
      },
      {
       "output_type": "stream",
       "stream": "stdout",
       "text": [
        "\n",
        "\t\u001b[30;1m8\u001b[0m\u2660 \u001b[30;1m9\u001b[0m\u001b[31m\u2665\u001b[0m - \u001b[30;1m8\u001b[0m\u001b[31m\u2666\u001b[0m \u001b[30;1m9\u001b[0m\u2663\n",
        "\tfrequency = 24\n",
        "\th1#wins\t#ties\th2#wins\n",
        "\t37213\t1637878\t37213\n",
        "\t2.173%\t95.653%\t2.173%\n",
        "suit combination #1"
       ]
      },
      {
       "output_type": "stream",
       "stream": "stdout",
       "text": [
        "\n",
        "\t\u001b[30;1m8\u001b[0m\u2660 \u001b[30;1m9\u001b[0m\u001b[31m\u2665\u001b[0m - \u001b[30;1m8\u001b[0m\u001b[31m\u2666\u001b[0m \u001b[30;1m9\u001b[0m\u2660\n",
        "\tfrequency = 24\n",
        "\th1#wins\t#ties\th2#wins\n",
        "\t18652\t1662422\t31230\n",
        "\t1.089%\t97.087%\t1.824%\n",
        "suit combination #2"
       ]
      },
      {
       "output_type": "stream",
       "stream": "stdout",
       "text": [
        "\n",
        "\t\u001b[30;1m8\u001b[0m\u2660 \u001b[30;1m9\u001b[0m\u001b[31m\u2665\u001b[0m - \u001b[30;1m8\u001b[0m\u001b[31m\u2665\u001b[0m \u001b[30;1m9\u001b[0m\u001b[31m\u2666\u001b[0m\n",
        "\tfrequency = 24\n",
        "\th1#wins\t#ties\th2#wins\n",
        "\t31230\t1662422\t18652\n",
        "\t1.824%\t97.087%\t1.089%\n",
        "suit combination #3"
       ]
      },
      {
       "output_type": "stream",
       "stream": "stdout",
       "text": [
        "\n",
        "\t\u001b[30;1m8\u001b[0m\u2660 \u001b[30;1m9\u001b[0m\u001b[31m\u2665\u001b[0m - \u001b[30;1m8\u001b[0m\u001b[31m\u2665\u001b[0m \u001b[30;1m9\u001b[0m\u2660\n",
        "\tfrequency = 12\n",
        "\th1#wins\t#ties\th2#wins\n",
        "\t12669\t1686966\t12669\n",
        "\t0.740%\t98.520%\t0.740%\n",
        "preflop_two_hand_equity time =   0.6839 s\n"
       ]
      }
     ],
     "prompt_number": 20
    },
    {
     "cell_type": "markdown",
     "metadata": {},
     "source": [
      "Going though all pairs of pre flop hands and suit combinations, we can determine the exact number of distinct (in terms of hand ranks) pairs of pre flop hands: 47,086. Which means the average number of suits combination for each pair of pre flop hands is 47086/14365~3.28."
     ]
    },
    {
     "cell_type": "code",
     "collapsed": false,
     "input": [
      "print 'number of distinct (rankwise) pairs of preflop hands = {}'.format(\n",
      "            np.array([len(e) for e in all_preflop_two_hand_equity]).sum())\n",
      "(all_preflop_two_hand_equity[:3], all_preflop_two_hand_equity[-3:])"
     ],
     "language": "python",
     "metadata": {},
     "outputs": [
      {
       "output_type": "stream",
       "stream": "stdout",
       "text": [
        "number of distinct (rankwise) pairs of preflop hands = 47086\n"
       ]
      },
      {
       "metadata": {},
       "output_type": "pyout",
       "prompt_number": 23,
       "text": [
        "([array([[1493670,   21503,  197131,      24]], dtype=int32),\n",
        "  array([[1486939,   21315,  204050,      24]], dtype=int32),\n",
        "  array([[1480208,   21127,  210969,      24]], dtype=int32)],\n",
        " [array([[  36199, 1639906,   36199,      24],\n",
        "         [  18365, 1663680,   30259,      24],\n",
        "         [  30259, 1663680,   18365,      24],\n",
        "         [  12425, 1687454,   12425,      12]], dtype=int32),\n",
        "  array([[  35990, 1640324,   35990,      24],\n",
        "         [  18156, 1664098,   30050,      24],\n",
        "         [  30050, 1664098,   18156,      24],\n",
        "         [  12216, 1687872,   12216,      12]], dtype=int32),\n",
        "  array([[  35668, 1640968,   35668,      24]], dtype=int32)])"
       ]
      }
     ],
     "prompt_number": 23
    },
    {
     "cell_type": "markdown",
     "metadata": {},
     "source": [
      "Below are plotted the exact statistics for a pair of preflop hands in all its possible suit combinations."
     ]
    },
    {
     "cell_type": "code",
     "collapsed": false,
     "input": [
      "no_to_char = EvalAnalysis.one_hand_no_to_char\n",
      "str_to_no = EvalAnalysis.hand_str_to_no\n",
      "all_preflop_two_hands = EvalAnalysis.all_preflop_two_hands\n",
      "\n",
      "pair = ('A5o', 'JJo')\n",
      "p = EvalAnalysis.preflop_two_hand_str_order(pair, return_index=False)\n",
      "idx = all_preflop_two_hands.index(p)\n",
      "h1, h2 = p\n",
      "\n",
      "for k in range(len(all_preflop_two_hand_equity[idx])):\n",
      "\tarr = all_preflop_two_hand_equity[idx][k, :3]\n",
      "\tarr = np.array(1.0*arr/arr.sum(), dtype=np.float32)\n",
      "\tfreq = all_preflop_two_hand_equity[idx][:, 3]\n",
      "\tfreq = np.array(1.0*freq/freq.sum(), dtype=np.float32)\n",
      "\ts = pd.Series(arr, index=['A Wins', 'Ties', 'B Wins'])\n",
      "\tprint 'suit combination #{}'.format(1+k)\n",
      "\tprint 'Hand A / Hand B = ', no_to_char(str_to_no(p[0]))+' - '+no_to_char(str_to_no(p[1]))\n",
      "\tprint 'frequency = {:5.3f} %'.format(100.0*freq[k])\n",
      "    \n",
      "\tfig=pl.figure(figsize=(5, 4))\n",
      "\ts.plot(kind='bar', color=\"#6495ED\", alpha=0.8)\n",
      "\tfor q in range(3):\n",
      "\t\tpl.text(0.5+q, max(0.1, min(s[q]+0.05, 0.9)), '{:4.2f}%'.format(100*s[q]), fontsize=10)\n",
      "\tpl.ylim(0, 1)\n",
      "\tpl.show()\n",
      "\n",
      "    "
     ],
     "language": "python",
     "metadata": {},
     "outputs": [
      {
       "output_type": "stream",
       "stream": "stdout",
       "text": [
        "suit combination #1\n",
        "Hand A / Hand B =  \u001b[30;1mJ\u001b[0m\u2660 \u001b[30;1mJ\u001b[0m\u001b[31m\u2665\u001b[0m - \u001b[30;1m5\u001b[0m\u2660 \u001b[30;1mA\u001b[0m\u001b[31m\u2665\u001b[0m\n",
        "frequency = 28.571 %\n"
       ]
      },
      {
       "metadata": {},
       "output_type": "display_data",
       "png": "[encoded data removed]",
       "text": [
        "<matplotlib.figure.Figure at 0x119054250>"
       ]
      },
      {
       "output_type": "stream",
       "stream": "stdout",
       "text": [
        "suit combination #2\n",
        "Hand A / Hand B =  \u001b[30;1mJ\u001b[0m\u2660 \u001b[30;1mJ\u001b[0m\u001b[31m\u2665\u001b[0m - \u001b[30;1m5\u001b[0m\u2660 \u001b[30;1mA\u001b[0m\u001b[31m\u2665\u001b[0m\n",
        "frequency = 28.571 %\n"
       ]
      },
      {
       "metadata": {},
       "output_type": "display_data",
       "png": "[encoded data removed]",
       "text": [
        "<matplotlib.figure.Figure at 0x118f60f10>"
       ]
      },
      {
       "output_type": "stream",
       "stream": "stdout",
       "text": [
        "suit combination #3\n",
        "Hand A / Hand B =  \u001b[30;1mJ\u001b[0m\u2660 \u001b[30;1mJ\u001b[0m\u001b[31m\u2665\u001b[0m - \u001b[30;1m5\u001b[0m\u2660 \u001b[30;1mA\u001b[0m\u001b[31m\u2665\u001b[0m\n",
        "frequency = 28.571 %\n"
       ]
      },
      {
       "metadata": {},
       "output_type": "display_data",
       "png": "[encoded data removed]",
       "text": [
        "<matplotlib.figure.Figure at 0x110a29a90>"
       ]
      },
      {
       "output_type": "stream",
       "stream": "stdout",
       "text": [
        "suit combination #4\n",
        "Hand A / Hand B =  \u001b[30;1mJ\u001b[0m\u2660 \u001b[30;1mJ\u001b[0m\u001b[31m\u2665\u001b[0m - \u001b[30;1m5\u001b[0m\u2660 \u001b[30;1mA\u001b[0m\u001b[31m\u2665\u001b[0m\n",
        "frequency = 14.286 %\n"
       ]
      },
      {
       "metadata": {},
       "output_type": "display_data",
       "png": "[encoded data removed]",
       "text": [
        "<matplotlib.figure.Figure at 0x11bea1850>"
       ]
      }
     ],
     "prompt_number": 26
    },
    {
     "cell_type": "markdown",
     "metadata": {},
     "source": [
      "After an exhaustive comparison of all pre flop hands, we create an overview of the equity distribution for all pairs of pre flop hands, for better visualisation. In order to do so we aggregate all suit combinations and keep the frequency weighted average of the equity distribution."
     ]
    },
    {
     "cell_type": "code",
     "collapsed": false,
     "input": [
      "t0 = timer()\n",
      "df_equity_two_hands = EvalAnalysis.create_all_preflop_two_hand_equity_aggregate(\n",
      "            all_preflop_two_hand_equity,\n",
      "            save=True)\n",
      "t1 = timer()\n",
      "print 'df_equity_two_hands time = {:6.4f} s'.format(t1-t0)\n",
      "df_equity_two_hands.head(10)"
     ],
     "language": "python",
     "metadata": {},
     "outputs": [
      {
       "output_type": "stream",
       "stream": "stdout",
       "text": [
        "df_equity_two_hands time = 0.7617 s\n"
       ]
      },
      {
       "html": [
        "<div style=\"max-height:1000px;max-width:1500px;overflow:auto;\">\n",
        "<table border=\"1\" class=\"dataframe\">\n",
        "  <thead>\n",
        "    <tr style=\"text-align: right;\">\n",
        "      <th></th>\n",
        "      <th>HandA</th>\n",
        "      <th>HandA_no</th>\n",
        "      <th>HandB</th>\n",
        "      <th>HandB_no</th>\n",
        "      <th>Hand1_Wins</th>\n",
        "      <th>Ties</th>\n",
        "      <th>Hand2_Wins</th>\n",
        "    </tr>\n",
        "  </thead>\n",
        "  <tbody>\n",
        "    <tr>\n",
        "      <th>0</th>\n",
        "      <td> AAo</td>\n",
        "      <td> 0</td>\n",
        "      <td> AKs</td>\n",
        "      <td>  1</td>\n",
        "      <td> 0.872316</td>\n",
        "      <td> 0.012558</td>\n",
        "      <td> 0.115126</td>\n",
        "    </tr>\n",
        "    <tr>\n",
        "      <th>1</th>\n",
        "      <td> AAo</td>\n",
        "      <td> 0</td>\n",
        "      <td> AQs</td>\n",
        "      <td>  2</td>\n",
        "      <td> 0.868385</td>\n",
        "      <td> 0.012448</td>\n",
        "      <td> 0.119167</td>\n",
        "    </tr>\n",
        "    <tr>\n",
        "      <th>2</th>\n",
        "      <td> AAo</td>\n",
        "      <td> 0</td>\n",
        "      <td> AJs</td>\n",
        "      <td>  3</td>\n",
        "      <td> 0.864454</td>\n",
        "      <td> 0.012338</td>\n",
        "      <td> 0.123208</td>\n",
        "    </tr>\n",
        "    <tr>\n",
        "      <th>3</th>\n",
        "      <td> AAo</td>\n",
        "      <td> 0</td>\n",
        "      <td> ATs</td>\n",
        "      <td>  4</td>\n",
        "      <td> 0.860523</td>\n",
        "      <td> 0.012229</td>\n",
        "      <td> 0.127248</td>\n",
        "    </tr>\n",
        "    <tr>\n",
        "      <th>4</th>\n",
        "      <td> AAo</td>\n",
        "      <td> 0</td>\n",
        "      <td> A9s</td>\n",
        "      <td>  5</td>\n",
        "      <td> 0.877756</td>\n",
        "      <td> 0.013134</td>\n",
        "      <td> 0.109110</td>\n",
        "    </tr>\n",
        "    <tr>\n",
        "      <th>5</th>\n",
        "      <td> AAo</td>\n",
        "      <td> 0</td>\n",
        "      <td> A8s</td>\n",
        "      <td>  6</td>\n",
        "      <td> 0.873825</td>\n",
        "      <td> 0.013025</td>\n",
        "      <td> 0.113150</td>\n",
        "    </tr>\n",
        "    <tr>\n",
        "      <th>6</th>\n",
        "      <td> AAo</td>\n",
        "      <td> 0</td>\n",
        "      <td> A7s</td>\n",
        "      <td>  7</td>\n",
        "      <td> 0.873832</td>\n",
        "      <td> 0.013025</td>\n",
        "      <td> 0.113143</td>\n",
        "    </tr>\n",
        "    <tr>\n",
        "      <th>7</th>\n",
        "      <td> AAo</td>\n",
        "      <td> 0</td>\n",
        "      <td> A6s</td>\n",
        "      <td>  8</td>\n",
        "      <td> 0.877777</td>\n",
        "      <td> 0.009087</td>\n",
        "      <td> 0.113136</td>\n",
        "    </tr>\n",
        "    <tr>\n",
        "      <th>8</th>\n",
        "      <td> AAo</td>\n",
        "      <td> 0</td>\n",
        "      <td> A5s</td>\n",
        "      <td>  9</td>\n",
        "      <td> 0.860558</td>\n",
        "      <td> 0.012745</td>\n",
        "      <td> 0.126697</td>\n",
        "    </tr>\n",
        "    <tr>\n",
        "      <th>9</th>\n",
        "      <td> AAo</td>\n",
        "      <td> 0</td>\n",
        "      <td> A4s</td>\n",
        "      <td> 10</td>\n",
        "      <td> 0.864503</td>\n",
        "      <td> 0.012855</td>\n",
        "      <td> 0.122642</td>\n",
        "    </tr>\n",
        "  </tbody>\n",
        "</table>\n",
        "<p>10 rows \u00d7 7 columns</p>\n",
        "</div>"
       ],
       "metadata": {},
       "output_type": "pyout",
       "prompt_number": 27,
       "text": [
        "  HandA  HandA_no HandB  HandB_no  Hand1_Wins      Ties  Hand2_Wins\n",
        "0   AAo         0   AKs         1    0.872316  0.012558    0.115126\n",
        "1   AAo         0   AQs         2    0.868385  0.012448    0.119167\n",
        "2   AAo         0   AJs         3    0.864454  0.012338    0.123208\n",
        "3   AAo         0   ATs         4    0.860523  0.012229    0.127248\n",
        "4   AAo         0   A9s         5    0.877756  0.013134    0.109110\n",
        "5   AAo         0   A8s         6    0.873825  0.013025    0.113150\n",
        "6   AAo         0   A7s         7    0.873832  0.013025    0.113143\n",
        "7   AAo         0   A6s         8    0.877777  0.009087    0.113136\n",
        "8   AAo         0   A5s         9    0.860558  0.012745    0.126697\n",
        "9   AAo         0   A4s        10    0.864503  0.012855    0.122642\n",
        "\n",
        "[10 rows x 7 columns]"
       ]
      }
     ],
     "prompt_number": 27
    },
    {
     "cell_type": "code",
     "collapsed": false,
     "input": [
      "df_equity_two_hands.tail(10)"
     ],
     "language": "python",
     "metadata": {},
     "outputs": [
      {
       "html": [
        "<div style=\"max-height:1000px;max-width:1500px;overflow:auto;\">\n",
        "<table border=\"1\" class=\"dataframe\">\n",
        "  <thead>\n",
        "    <tr style=\"text-align: right;\">\n",
        "      <th></th>\n",
        "      <th>HandA</th>\n",
        "      <th>HandA_no</th>\n",
        "      <th>HandB</th>\n",
        "      <th>HandB_no</th>\n",
        "      <th>Hand1_Wins</th>\n",
        "      <th>Ties</th>\n",
        "      <th>Hand2_Wins</th>\n",
        "    </tr>\n",
        "  </thead>\n",
        "  <tbody>\n",
        "    <tr>\n",
        "      <th>14355</th>\n",
        "      <td> 2Jo</td>\n",
        "      <td> 159</td>\n",
        "      <td> 2Jo</td>\n",
        "      <td> 159</td>\n",
        "      <td> 0.015332</td>\n",
        "      <td> 0.969336</td>\n",
        "      <td> 0.015332</td>\n",
        "    </tr>\n",
        "    <tr>\n",
        "      <th>14356</th>\n",
        "      <td> 2To</td>\n",
        "      <td> 160</td>\n",
        "      <td> 2To</td>\n",
        "      <td> 160</td>\n",
        "      <td> 0.015333</td>\n",
        "      <td> 0.969335</td>\n",
        "      <td> 0.015333</td>\n",
        "    </tr>\n",
        "    <tr>\n",
        "      <th>14357</th>\n",
        "      <td> 29o</td>\n",
        "      <td> 161</td>\n",
        "      <td> 29o</td>\n",
        "      <td> 161</td>\n",
        "      <td> 0.015333</td>\n",
        "      <td> 0.969335</td>\n",
        "      <td> 0.015333</td>\n",
        "    </tr>\n",
        "    <tr>\n",
        "      <th>14358</th>\n",
        "      <td> 28o</td>\n",
        "      <td> 162</td>\n",
        "      <td> 28o</td>\n",
        "      <td> 162</td>\n",
        "      <td> 0.015331</td>\n",
        "      <td> 0.969338</td>\n",
        "      <td> 0.015331</td>\n",
        "    </tr>\n",
        "    <tr>\n",
        "      <th>14359</th>\n",
        "      <td> 27o</td>\n",
        "      <td> 163</td>\n",
        "      <td> 27o</td>\n",
        "      <td> 163</td>\n",
        "      <td> 0.015323</td>\n",
        "      <td> 0.969354</td>\n",
        "      <td> 0.015323</td>\n",
        "    </tr>\n",
        "    <tr>\n",
        "      <th>14360</th>\n",
        "      <td> 26o</td>\n",
        "      <td> 164</td>\n",
        "      <td> 26o</td>\n",
        "      <td> 164</td>\n",
        "      <td> 0.015303</td>\n",
        "      <td> 0.969393</td>\n",
        "      <td> 0.015303</td>\n",
        "    </tr>\n",
        "    <tr>\n",
        "      <th>14361</th>\n",
        "      <td> 25o</td>\n",
        "      <td> 165</td>\n",
        "      <td> 25o</td>\n",
        "      <td> 165</td>\n",
        "      <td> 0.015263</td>\n",
        "      <td> 0.969474</td>\n",
        "      <td> 0.015263</td>\n",
        "    </tr>\n",
        "    <tr>\n",
        "      <th>14362</th>\n",
        "      <td> 24o</td>\n",
        "      <td> 166</td>\n",
        "      <td> 24o</td>\n",
        "      <td> 166</td>\n",
        "      <td> 0.015190</td>\n",
        "      <td> 0.969620</td>\n",
        "      <td> 0.015190</td>\n",
        "    </tr>\n",
        "    <tr>\n",
        "      <th>14363</th>\n",
        "      <td> 23o</td>\n",
        "      <td> 167</td>\n",
        "      <td> 23o</td>\n",
        "      <td> 167</td>\n",
        "      <td> 0.015068</td>\n",
        "      <td> 0.969864</td>\n",
        "      <td> 0.015068</td>\n",
        "    </tr>\n",
        "    <tr>\n",
        "      <th>14364</th>\n",
        "      <td> 22o</td>\n",
        "      <td> 168</td>\n",
        "      <td> 22o</td>\n",
        "      <td> 168</td>\n",
        "      <td> 0.020830</td>\n",
        "      <td> 0.958339</td>\n",
        "      <td> 0.020830</td>\n",
        "    </tr>\n",
        "  </tbody>\n",
        "</table>\n",
        "<p>10 rows \u00d7 7 columns</p>\n",
        "</div>"
       ],
       "metadata": {},
       "output_type": "pyout",
       "prompt_number": 28,
       "text": [
        "      HandA  HandA_no HandB  HandB_no  Hand1_Wins      Ties  Hand2_Wins\n",
        "14355   2Jo       159   2Jo       159    0.015332  0.969336    0.015332\n",
        "14356   2To       160   2To       160    0.015333  0.969335    0.015333\n",
        "14357   29o       161   29o       161    0.015333  0.969335    0.015333\n",
        "14358   28o       162   28o       162    0.015331  0.969338    0.015331\n",
        "14359   27o       163   27o       163    0.015323  0.969354    0.015323\n",
        "14360   26o       164   26o       164    0.015303  0.969393    0.015303\n",
        "14361   25o       165   25o       165    0.015263  0.969474    0.015263\n",
        "14362   24o       166   24o       166    0.015190  0.969620    0.015190\n",
        "14363   23o       167   23o       167    0.015068  0.969864    0.015068\n",
        "14364   22o       168   22o       168    0.020830  0.958339    0.020830\n",
        "\n",
        "[10 rows x 7 columns]"
       ]
      }
     ],
     "prompt_number": 28
    },
    {
     "cell_type": "code",
     "collapsed": false,
     "input": [
      "print 'average of all suit combinations weighted by frequency'\n",
      "print 'Hand A / Hand B = {}'.format(p[0]+' - '+p[1])\n",
      "s = pd.Series(data=df_equity_two_hands.ix[idx][4:].values, index=['A Wins', 'Ties', 'B Wins'])\n",
      "\n",
      "fig=pl.figure(figsize=(5, 4))\n",
      "s.plot(kind='bar', color=\"#6495ED\", alpha=0.8)\n",
      "for q in range(3):\n",
      "    pl.text(0.5+q, max(0.1, min(s[q]+0.05, 0.9)), '{:4.2f}%'.format(100*s[q]), fontsize=10)\n",
      "pl.ylim(0, 1)\n",
      "pl.show()"
     ],
     "language": "python",
     "metadata": {},
     "outputs": [
      {
       "output_type": "stream",
       "stream": "stdout",
       "text": [
        "average of all suit combinations weighted by frequency\n",
        "Hand A / Hand B = JJo - 5Ao\n"
       ]
      },
      {
       "metadata": {},
       "output_type": "display_data",
       "png": "[encoded data removed]",
       "text": [
        "<matplotlib.figure.Figure at 0x11903af10>"
       ]
      }
     ],
     "prompt_number": 29
    },
    {
     "cell_type": "markdown",
     "metadata": {},
     "source": [
      "Below is the visualisation of preflop hand pairs equity distributions for all preflop hand pairs.  \n",
      "[Here](http://oscar6echo.github.io/Poker2/viz/two_preflop_hand/) is the native page."
     ]
    },
    {
     "cell_type": "code",
     "collapsed": false,
     "input": [
      "from IPython.display import HTML\n",
      "HTML(\"\"\"<div class=\"wrapper\" style=\"height: 1200px; overflow: hidden; padding: 0; text-align: center; width: 850px;\">\n",
      "<iframe scrolling=\"no\" src=\"http://oscar6echo.github.io/Poker2/viz/two_preflop_hand/\" \n",
      "style=\"-moz-transform-origin: 0 0;\n",
      "-moz-transform: scale(1.0);\n",
      "-o-transform-origin: 0 0;\n",
      "-o-transform: scale(1.0);\n",
      "-webkit-transform-origin: 0 0;\n",
      "-webkit-transform: scale(1.0);\n",
      "border: 0px black solid; \n",
      "height: 1200px; \n",
      "overflow: hidden;\n",
      "width: 850px; \n",
      "zoom: 1.0;\">\n",
      "</iframe>\n",
      "</div>'\"\"\")"
     ],
     "language": "python",
     "metadata": {},
     "outputs": [
      {
       "html": [
        "<div class=\"wrapper\" style=\"height: 1200px; overflow: hidden; padding: 0; text-align: center; width: 850px;\">\n",
        "<iframe scrolling=\"no\" src=\"http://oscar6echo.github.io/Poker2/viz/two_preflop_hand/\" \n",
        "style=\"-moz-transform-origin: 0 0;\n",
        "-moz-transform: scale(1.0);\n",
        "-o-transform-origin: 0 0;\n",
        "-o-transform: scale(1.0);\n",
        "-webkit-transform-origin: 0 0;\n",
        "-webkit-transform: scale(1.0);\n",
        "border: 0px black solid; \n",
        "height: 1200px; \n",
        "overflow: hidden;\n",
        "width: 850px; \n",
        "zoom: 1.0;\">\n",
        "</iframe>\n",
        "</div>'"
       ],
       "metadata": {},
       "output_type": "pyout",
       "prompt_number": 61,
       "text": [
        "<IPython.core.display.HTML at 0x11be8a110>"
       ]
      }
     ],
     "prompt_number": 61
    },
    {
     "cell_type": "markdown",
     "metadata": {},
     "source": [
      "Computing the strenth of preflop hands when there are more than 2 players (almost always the case in practise) is intractable as the number of different games to evaluate grows to gigantic proportions very quickly.  \n",
      "Below is the exact number, p being the number of opponents (from 1 to 9)."
     ]
    },
    {
     "cell_type": "code",
     "collapsed": false,
     "input": [
      "Math(r\"\"\"\\binom{52-2(p+1))}{5}\\prod_{i=1}^{p}\\binom{52-2i}{2}\"\"\")"
     ],
     "language": "python",
     "metadata": {},
     "outputs": [
      {
       "latex": [
        "$$\\binom{52-2(p+1))}{5}\\prod_{i=1}^{p}\\binom{52-2i}{2}$$"
       ],
       "metadata": {},
       "output_type": "pyout",
       "prompt_number": 30,
       "text": [
        "<IPython.core.display.Math at 0x11be86ed0>"
       ]
      }
     ],
     "prompt_number": 30
    },
    {
     "cell_type": "markdown",
     "metadata": {},
     "source": [
      "Fortunately the monte carlo convergence is fast and 100,000 to 200,000 random games seem enough to give the odds of the preflop hands with a 0.10% precision (more than enough in any practical context), meaning running the simulation several times generally gives the same result within the precision. This is only an observation.   "
     ]
    },
    {
     "cell_type": "markdown",
     "metadata": {},
     "source": [
      "Below is the visualisation of the table of preflop hand equity per number of opponents.  \n",
      "[Here](http://oscar6echo.github.io/Poker2/viz/one_preflop_hand_montecarlo/) is the native page."
     ]
    },
    {
     "cell_type": "code",
     "collapsed": false,
     "input": [
      "from IPython.display import HTML\n",
      "HTML(\"\"\"<div class=\"wrapper\" style=\"height: 1000px; overflow: hidden; padding: 0; text-align: center; width: 750px;\">\n",
      "<iframe scrolling=\"no\" src=\"http://oscar6echo.github.io/Poker2/viz/one_preflop_hand_montecarlo/\" \n",
      "style=\"-moz-transform-origin: 0 0;\n",
      "-moz-transform: scale(1.0);\n",
      "-o-transform-origin: 0 0;\n",
      "-o-transform: scale(1.0);\n",
      "-webkit-transform-origin: 0 0;\n",
      "-webkit-transform: scale(1.0);\n",
      "border: 0px black solid; \n",
      "height: 1000px; \n",
      "overflow: hidden;\n",
      "width: 750px; \n",
      "zoom: 1.0;\">\n",
      "</iframe>\n",
      "</div>'\"\"\")"
     ],
     "language": "python",
     "metadata": {},
     "outputs": [
      {
       "html": [
        "<div class=\"wrapper\" style=\"height: 1000px; overflow: hidden; padding: 0; text-align: center; width: 750px;\">\n",
        "<iframe scrolling=\"no\" src=\"http://oscar6echo.github.io/Poker2/viz/one_preflop_hand_montecarlo/\" \n",
        "style=\"-moz-transform-origin: 0 0;\n",
        "-moz-transform: scale(1.0);\n",
        "-o-transform-origin: 0 0;\n",
        "-o-transform: scale(1.0);\n",
        "-webkit-transform-origin: 0 0;\n",
        "-webkit-transform: scale(1.0);\n",
        "border: 0px black solid; \n",
        "height: 1000px; \n",
        "overflow: hidden;\n",
        "width: 750px; \n",
        "zoom: 1.0;\">\n",
        "</iframe>\n",
        "</div>'"
       ],
       "metadata": {},
       "output_type": "pyout",
       "prompt_number": 62,
       "text": [
        "<IPython.core.display.HTML at 0x11be8a690>"
       ]
      }
     ],
     "prompt_number": 62
    },
    {
     "cell_type": "markdown",
     "metadata": {},
     "source": [
      "Below is a Texas Hold'em odd calculator implementing in javascript the algorithm prototyped in Python in this notebook. Javascript has become fast enough to run this evaluator.  \n",
      "The evaluation is exhaustive if all players cards are known, and monte carlo if only the main player's cards are known. In the latter case other player cards are randomly drawn just like the table cards. If one card of the other player cards shows then the monte carlo simulation assumes this card is determined. This is to take into account the main player 'guess' if he has one.\n",
      "[Here](http://oscar6echo.github.io/Poker2/viz/game/) is the native page."
     ]
    },
    {
     "cell_type": "code",
     "collapsed": false,
     "input": [
      "from IPython.display import HTML\n",
      "HTML(\"\"\"<div class=\"wrapper\" style=\"height: 800px; overflow: hidden; padding: 0; text-align: center; width: 750px;\">\n",
      "<iframe scrolling=\"no\" src=\"http://oscar6echo.github.io/Poker2/viz/game/\" \n",
      "style=\"-moz-transform-origin: 0 0;\n",
      "-moz-transform: scale(1.0);\n",
      "-o-transform-origin: 0 0;\n",
      "-o-transform: scale(1.0);\n",
      "-webkit-transform-origin: 0 0;\n",
      "-webkit-transform: scale(1.0);\n",
      "border: 0px black solid; \n",
      "height: 800px; \n",
      "overflow: hidden;\n",
      "width: 750px; \n",
      "zoom: 1.0;\">\n",
      "</iframe>\n",
      "</div>'\"\"\")"
     ],
     "language": "python",
     "metadata": {},
     "outputs": [
      {
       "html": [
        "<div class=\"wrapper\" style=\"height: 800px; overflow: hidden; padding: 0; text-align: center; width: 750px;\">\n",
        "<iframe scrolling=\"no\" src=\"http://oscar6echo.github.io/Poker2/viz/game/\" \n",
        "style=\"-moz-transform-origin: 0 0;\n",
        "-moz-transform: scale(1.0);\n",
        "-o-transform-origin: 0 0;\n",
        "-o-transform: scale(1.0);\n",
        "-webkit-transform-origin: 0 0;\n",
        "-webkit-transform: scale(1.0);\n",
        "border: 0px black solid; \n",
        "height: 800px; \n",
        "overflow: hidden;\n",
        "width: 750px; \n",
        "zoom: 1.0;\">\n",
        "</iframe>\n",
        "</div>'"
       ],
       "metadata": {},
       "output_type": "pyout",
       "prompt_number": 64,
       "text": [
        "<IPython.core.display.HTML at 0x11be8a850>"
       ]
      }
     ],
     "prompt_number": 64
    }
   ],
   "metadata": {}
  }
 ]
}